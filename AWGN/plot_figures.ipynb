{
 "cells": [
  {
   "cell_type": "markdown",
   "metadata": {},
   "source": [
    "# Plot figures\n",
    "To plot the final figures.\n",
    "This script takes in the model summary files and plots results."
   ]
  },
  {
   "cell_type": "code",
   "execution_count": null,
   "metadata": {},
   "outputs": [],
   "source": [
    "import numpy as np\n",
    "from scipy.spatial.distance import cdist # For calculating QPSK decoding\n",
    "import dill\n",
    "from itertools import product, cycle\n",
    "\n",
    "import matplotlib.pyplot as plt\n",
    "from matplotlib.lines import Line2D\n",
    "import seaborn as sns"
   ]
  },
  {
   "cell_type": "markdown",
   "metadata": {},
   "source": [
    "Utility function to extract data from figures -- work in progress"
   ]
  },
  {
   "cell_type": "code",
   "execution_count": null,
   "metadata": {},
   "outputs": [],
   "source": [
    "# The one who steals the data\n",
    "def robinhood(fig, filename, col_dtype=[float, float], col_fmt=None):\n",
    "    assert (len(fig.axes) < 2), \"More than one axis not supported\"\n",
    "    ax = fig.axes[0]\n",
    "    \n",
    "    header = []\n",
    "    fmt = []\n",
    "    \n",
    "    # Don't modify the argument here, it will get updated for all the following calls\n",
    "    if not col_fmt:\n",
    "        _col_fmt = [ \"%d\" if d == int else \"%.5f\" for d in col_dtype ]\n",
    "    else:\n",
    "        _col_fmt = col_fmt.copy()\n",
    "    \n",
    "    n_lines = len(ax.lines)\n",
    "    x_data = ax.lines[0].get_xdata()\n",
    "    \n",
    "    data = np.zeros((x_data.shape[0], 2 * n_lines))\n",
    "    \n",
    "    for(i, line) in enumerate(ax.lines):\n",
    "        data[:, 2*i] = line.get_xdata()\n",
    "        data[:, 2*i+1] = line.get_ydata()\n",
    "        \n",
    "        header += [\"x_\" + line.get_label(), \"y_\" + line.get_label()]\n",
    "        fmt += _col_fmt\n",
    "            \n",
    "    if filename is not None:\n",
    "        with open(filename, 'w') as f:\n",
    "            f.write(\",\".join(header) + \"\\n\")\n",
    "            np.savetxt(f, data, delimiter=\",\", fmt=\",\".join(fmt))"
   ]
  },
  {
   "cell_type": "markdown",
   "metadata": {},
   "source": [
    "### Configuration of experiment"
   ]
  },
  {
   "cell_type": "code",
   "execution_count": null,
   "metadata": {},
   "outputs": [],
   "source": [
    "blkSize     = 8\n",
    "chDim       = 4\n",
    "\n",
    "# Input\n",
    "inVecDim   = 2 ** blkSize  # 1-hot vector length for block\n",
    "encDim = 2*chDim\n",
    "\n",
    "SNR_range_dB = np.arange( 0.0, 11.0, 1.0 )\n",
    "\n",
    "one_hot_code = np.eye(inVecDim)"
   ]
  },
  {
   "cell_type": "markdown",
   "metadata": {},
   "source": [
    "### Traditional Methods\n",
    "Load the constellation data from prespecified files and find BLER."
   ]
  },
  {
   "cell_type": "code",
   "execution_count": null,
   "metadata": {},
   "outputs": [],
   "source": [
    "results_traditional = {}"
   ]
  },
  {
   "cell_type": "code",
   "execution_count": null,
   "metadata": {},
   "outputs": [],
   "source": [
    "qam_map = np.genfromtxt(\"./sphere_data/{:03d}x{:03d}_qam.csv\".format(inVecDim,encDim))\n",
    "qam_sym_pow = np.mean(np.sum(qam_map*qam_map,axis=1))\n",
    "print( \"QAM Avg. Tx Power:\", qam_sym_pow )\n",
    "\n",
    "noisePower = qam_sym_pow * 10.0**(-SNR_range_dB/10.0)\n",
    "n0_per_comp = noisePower/(2*chDim)\n",
    "\n",
    "qam_d_min = np.unique(cdist(qam_map,qam_map))[1]\n",
    "print(\"d_min:\", qam_d_min )\n",
    "\n",
    "qam_en = qam_sym_pow / (qam_d_min**2)\n",
    "print(\"En:\", qam_en)"
   ]
  },
  {
   "cell_type": "code",
   "execution_count": null,
   "metadata": {},
   "outputs": [],
   "source": [
    "err = []\n",
    "for n0 in n0_per_comp:\n",
    "  thisErr = 0\n",
    "  thisCount = 0\n",
    "\n",
    "  while thisErr < 500:\n",
    "    txSym = np.random.randint(inVecDim, size=1000)\n",
    "    txTest = qam_map[txSym]\n",
    "    rxTest = txTest + np.random.normal(scale=np.sqrt(n0), size=txTest.shape)\n",
    "    rxDecode = cdist(rxTest, qam_map)\n",
    "    rxSym = np.argmin(rxDecode,axis=1)\n",
    "    thisErr += np.sum(rxSym!=txSym)\n",
    "    thisCount += 1000\n",
    "  err.append(thisErr/thisCount)\n",
    "\n",
    "results_traditional[\"QAM\"] = {\n",
    "    \"en\": qam_en,\n",
    "    \"dmin\": qam_d_min,\n",
    "    \"sym_pow\": qam_sym_pow,\n",
    "    \"bler\": np.array(err)\n",
    "}"
   ]
  },
  {
   "cell_type": "code",
   "execution_count": null,
   "metadata": {},
   "outputs": [],
   "source": [
    "agrell_map = np.genfromtxt(\"./sphere_data/{:03d}x{:03d}_agrell.csv\".format(inVecDim,encDim))\n",
    "agrell_sym_pow = np.mean(np.sum(agrell_map*agrell_map,axis=1))\n",
    "print( \"QAM Avg. Tx Power:\", agrell_sym_pow )\n",
    "\n",
    "noisePower = agrell_sym_pow * 10.0**(-SNR_range_dB/10.0)\n",
    "n0_per_comp = noisePower/(2*chDim)\n",
    "\n",
    "agrell_d_min = np.unique(cdist(agrell_map,agrell_map))[1]\n",
    "print(\"d_min:\", agrell_d_min )\n",
    "\n",
    "agrell_en = agrell_sym_pow / (agrell_d_min**2)\n",
    "print(\"En:\", agrell_en)"
   ]
  },
  {
   "cell_type": "code",
   "execution_count": null,
   "metadata": {},
   "outputs": [],
   "source": [
    "err = []\n",
    "for n0 in n0_per_comp:\n",
    "  thisErr = 0\n",
    "  thisCount = 0\n",
    "  \n",
    "  while thisErr < 500:\n",
    "    txSym = np.random.randint(inVecDim, size=1000)\n",
    "    txTest = agrell_map[txSym]\n",
    "    rxTest = txTest + np.random.normal(scale=np.sqrt(n0), size=txTest.shape)\n",
    "    rxDecode = cdist(rxTest, agrell_map)\n",
    "    rxSym = np.argmin(rxDecode,axis=1)\n",
    "    thisErr += np.sum(rxSym!=txSym)\n",
    "    thisCount += 1000\n",
    "  err.append(thisErr/thisCount)\n",
    "\n",
    "results_traditional[\"Agrell\"] = {\n",
    "    \"en\": agrell_en,\n",
    "    \"d_min\": agrell_d_min,\n",
    "    \"sym_pow\": agrell_sym_pow,\n",
    "    \"bler\": np.array(err)\n",
    "}"
   ]
  },
  {
   "cell_type": "markdown",
   "metadata": {},
   "source": [
    "### Deep Learning models\n",
    "Paths to each model summaries along with the label for legend"
   ]
  },
  {
   "cell_type": "code",
   "execution_count": null,
   "metadata": {},
   "outputs": [],
   "source": [
    "model_summary = {}\n",
    "results = {}\n",
    "\n",
    "if blkSize==8 and chDim==4:\n",
    "    model_summary = { \n",
    "        \"ae\": \"./models/08x04/Oshea/awgn_oshea_64_32_16_10dB_summary.dil\",\n",
    "        \"vae_awgn\": \"./models/08x04/AWGN/awgn_awgn_64_32_16_n080_summary.dil\",\n",
    "        \"vae_rbf\": \"./models/08x04/RBF/awgn_rbf_64_32_16_n080_summary.dil\"\n",
    "    }\n",
    "elif blkSize==4 and chDim==2:\n",
    "    model_summary = {\n",
    "        \"ae\": \"./models/04x02/Oshea/awgn_oshea_64_32_16_10dB_summary.dil\",\n",
    "        \"vae_awgn\": \"./models/04x02/AWGN/awgn_awgn_64_32_16_n040_summary.dil\",\n",
    "        \"vae_rbf\": \"./models/04x02/RBF/awgn_rbf_64_32_16_n040_summary.dil\",\n",
    "#         \"test\": \"./test/awgn_awgn_64_32_16_n020_summary.dil\"\n",
    "    }\n",
    "elif blkSize==2 and chDim==1:\n",
    "    model_summary = {\n",
    "        \"ae\": \"./models/02x01/Oshea/awgn_oshea_64_32_16_10dB_summary.dil\",\n",
    "        \"vae_awgn\": \"./models/02x01/AWGN/awgn_awgn_64_32_16_n020_summary.dil\",\n",
    "        \"vae_rbf\": \"./models/02x01/RBF/awgn_rbf_64_32_16_n020_summary.dil\"\n",
    "    }\n",
    "else:\n",
    "    raise NotImplementedError(\"Not implemented (blkSize={},chDim={})\".format(blkSize,chDim))"
   ]
  },
  {
   "cell_type": "code",
   "execution_count": null,
   "metadata": {},
   "outputs": [],
   "source": [
    "import os.path\n",
    "for (model_exp, summary_file) in model_summary.items():\n",
    "    log_msg = \"{:40s}    {:70s}\".format(model_exp,summary_file)\n",
    "    if os.path.isfile(summary_file):\n",
    "        log_msg += \"EXISTS\"\n",
    "    else:\n",
    "        log_msg += \"NOT FOUND\"\n",
    "    print(log_msg)"
   ]
  },
  {
   "cell_type": "markdown",
   "metadata": {},
   "source": [
    "Load the results from summary files"
   ]
  },
  {
   "cell_type": "code",
   "execution_count": null,
   "metadata": {},
   "outputs": [],
   "source": [
    "results = {}\n",
    "for (label, summary_file) in model_summary.items():\n",
    "    with open(summary_file, \"rb\") as file:\n",
    "        results[label] = dill.load(file)"
   ]
  },
  {
   "cell_type": "markdown",
   "metadata": {},
   "source": [
    "### Plot evolution of packing densities"
   ]
  },
  {
   "cell_type": "code",
   "execution_count": null,
   "metadata": {},
   "outputs": [],
   "source": [
    "colors = cycle(['b', 'g', 'c', 'r', 'm', 'y'])\n",
    "fig = plt.figure(figsize=(4*1.5, 3*1.5))\n",
    "data = {}\n",
    "\n",
    "for (label, result_dict) in results.items():\n",
    "    epochs = result_dict[list(result_dict.keys())[0]][\"packing_density_epochs\"]\n",
    "    d = []\n",
    "    clr = next(colors)\n",
    "    for (modelid, log) in result_dict.items():\n",
    "#         plt.semilogy(log[\"packing_density_epochs\"],\n",
    "#                  log[\"packing_density_en\"], color=clr, alpha=0.1)\n",
    "        d.append(log[\"packing_density_en\"])\n",
    "    d_mean = np.mean(d, axis=0)\n",
    "    d_std = np.std(d, axis=0)\n",
    "    plt.fill_between(result_dict[list(result_dict.keys())[0]][\"packing_density_epochs\"],\n",
    "                    d_mean+d_std, d_mean-d_std, alpha=0.20)\n",
    "    plt.plot(result_dict[list(result_dict.keys())[0]][\"packing_density_epochs\"],\n",
    "                 d_mean, color=clr, alpha=0.9, label=label)\n",
    "    \n",
    "    # hack for robinhood to pickup shaded area\n",
    "    plt.plot(result_dict[list(result_dict.keys())[0]][\"packing_density_epochs\"],\n",
    "             d_mean + d_std, color=clr, alpha=0.00, label= label + \"_upper\")\n",
    "    plt.plot(result_dict[list(result_dict.keys())[0]][\"packing_density_epochs\"],\n",
    "             d_mean - d_std, color=clr, alpha=0.00, label= label + \"_lower\")\n",
    "\n",
    "plt.plot(epochs, len(epochs)*[results_traditional[\"QAM\"][\"en\"]], linewidth=3, label=\"QAM\", color=next(colors), linestyle=\"-.\")\n",
    "plt.plot(epochs, len(epochs)*[results_traditional[\"Agrell\"][\"en\"]], linewidth=3, label=\"Agrell\", color=next(colors), linestyle=\"-.\")\n",
    "    \n",
    "if blkSize==2 and chDim==1:\n",
    "    plt.ylim([0.49, 0.55]) # For 02x01\n",
    "elif blkSize==4 and chDim==2:\n",
    "    plt.ylim([0.75, 1.15]) # For 04x02\n",
    "elif blkSize==8 and chDim==4:\n",
    "    plt.ylim([1.00, 4.50]) # For 08x04\n",
    "# plt.xlim([0, 3000])\n",
    "plt.legend(loc='upper right', prop={'size':14})\n",
    "plt.grid()\n",
    "\n",
    "robinhood(fig, \"output_awgn_en_evo_{:02d}x{:02d}.csv\".format(blkSize,chDim), col_dtype=[int, float])"
   ]
  },
  {
   "cell_type": "markdown",
   "metadata": {},
   "source": [
    "### Plot Packing Density"
   ]
  },
  {
   "cell_type": "code",
   "execution_count": null,
   "metadata": {},
   "outputs": [],
   "source": [
    "colors = cycle(['b', 'g', 'c', 'r', 'm', 'y'])\n",
    "fig = plt.figure(figsize=(4*1.5,3*1.5))\n",
    "\n",
    "for (label, result) in results.items():\n",
    "    clr = next(colors)\n",
    "    en = [ log[\"packing_density_en\"][-1] for log in result.values() ]\n",
    "    sns.distplot([log[\"packing_density_en\"][-1] for log in result.values()], \n",
    "                 label=label, color=clr,\n",
    "                 bins=100, rug=False, \n",
    "                 \n",
    "                 kde=True, \n",
    "                 kde_kws=dict(cumulative=True, \n",
    "                              linestyle=\":\" if \"Oshea\" in label or \"[1]\" in label else \"-\"),\n",
    "                 \n",
    "                 hist=False,\n",
    "                 hist_kws=dict(cumulative=True, \n",
    "                               density=True, \n",
    "                               histtype=\"step\", \n",
    "                               linestyle=\":\" if \"Oshea\" in label or \"[1]\" in label else \"-\",\n",
    "                               linewidth=2,\n",
    "                               color=clr, alpha=1.0))\n",
    "    \n",
    "# Plot lines for traditional methods\n",
    "plt.plot(128*[results_traditional[\"QAM\"][\"en\"]], [0] + 127 * [1], linewidth=3, label=\"QAM\", color=next(colors), linestyle=\"-.\")\n",
    "# plt.plot(2*[results_traditional[\"Agrell\"][\"en\"]], [0,1], linewidth=3, label=\"Agrell [17]\", color=next(colors), linestyle=\"-.\")\n",
    "plt.plot(128*[results_traditional[\"Agrell\"][\"en\"]], [0] + 127 * [1], linewidth=3, label=\"Agrell\", color=next(colors), linestyle=\"-.\")\n",
    "\n",
    "\n",
    "# Experiment specific axis limits\n",
    "if blkSize==8 and chDim==4:\n",
    "    plt.xlim([0.95*results_traditional[\"Agrell\"][\"en\"], 2.5*results_traditional[\"Agrell\"][\"en\"]])\n",
    "elif blkSize==4 and chDim==2:\n",
    "    pass\n",
    "elif blkSize==2 and chDim==1:\n",
    "    pass\n",
    "else:\n",
    "    raise NotImplementedError(\"Not implemented (blkSize={},chDim={})\".format(blkSize,chDim))\n",
    "\n",
    "plt.xlabel(\"$E_n$\", fontdict={'fontsize':16})\n",
    "plt.ylabel(\"CDF\", fontdict={'fontsize':16})\n",
    "plt.grid()\n",
    "plt.legend(loc='upper left', prop={'size':14})\n",
    "# plt.savefig(\"output_awgn_en_{:02d}x{:02d}.pdf\".format(blkSize,chDim), format='pdf', bbox_inches='tight')\n",
    "\n",
    "robinhood(fig, \"output_awgn_en_{:02d}x{:02d}.csv\".format(blkSize,chDim), col_fmt=[\"%.5f\", \"%.5f\"])"
   ]
  },
  {
   "cell_type": "markdown",
   "metadata": {},
   "source": [
    "### Plot BLER"
   ]
  },
  {
   "cell_type": "code",
   "execution_count": null,
   "metadata": {},
   "outputs": [],
   "source": [
    "colors = cycle(['b', 'g', 'c', 'r', 'm', 'y'])\n",
    "fig = plt.figure(figsize=(4*1.5,3*1.5))\n",
    "\n",
    "for (label, result) in results.items():\n",
    "    best_model_id = min(result, key=lambda l: result[l]['packing_density_en'][-1])\n",
    "    plt.semilogy(result[best_model_id][\"snr_dB\"], \n",
    "                 result[best_model_id][\"bler\"], \n",
    "                 label=label, color=next(colors), linewidth=2,\n",
    "                 linestyle=\":\" if \"Oshea\" in label or \"[1]\" in label else \"-\")\n",
    "\n",
    "plt.semilogy(SNR_range_dB, results_traditional[\"QAM\"][\"bler\"], label=\"QAM\", color=next(colors), linestyle=\"-.\")\n",
    "# plt.semilogy(SNR_range_dB, results_traditional[\"Agrell\"][\"bler\"], label=\"Agrell [17]\", color=next(colors), linestyle=\"-.\")\n",
    "plt.semilogy(SNR_range_dB, results_traditional[\"Agrell\"][\"bler\"], label=\"Agrell\", color=next(colors), linestyle=\"-.\")\n",
    "\n",
    "plt.legend(loc=\"lower left\", prop={'size':14})\n",
    "plt.grid()\n",
    "# plt.title(\"Best observed BLER of trained models\", fontdict={'fontsize':18})\n",
    "plt.xlabel(\"SNR ($dB$)\", fontdict={'fontsize':16})\n",
    "plt.ylabel(\"BLER\", fontdict={'fontsize':16})\n",
    "plt.ylim((1e-3,1e0))\n",
    "# plt.savefig(\"output_awgn_best_bler_{:02d}x{:02d}.pdf\".format(blkSize,chDim), format='pdf', bbox_inches='tight')\n",
    "robinhood(fig, \"output_awgn_best_bler_{:02d}x{:02d}.csv\".format(blkSize,chDim), col_dtype=[int, float])"
   ]
  },
  {
   "cell_type": "markdown",
   "metadata": {},
   "source": [
    "### Plot BLER with std dev"
   ]
  },
  {
   "cell_type": "code",
   "execution_count": null,
   "metadata": {},
   "outputs": [],
   "source": [
    "colors = cycle(['b', 'g', 'c', 'r', 'm', 'y'])\n",
    "fig = plt.figure(figsize=(4*1.5,3*1.5))\n",
    "\n",
    "for (label, result_dict) in results.items():\n",
    "    clr = next(colors)\n",
    "    \n",
    "    d = [log[\"bler\"] for (_, log) in result_dict.items()]\n",
    "    d_mean = np.mean(d, axis=0)\n",
    "    d_std = np.std(d, axis=0)\n",
    "    \n",
    "    plt.fill_between(result_dict[list(result_dict.keys())[0]][\"snr_dB\"],\n",
    "                    d_mean + d_std, d_mean - d_std, alpha=0.20)\n",
    "    plt.semilogy(result_dict[list(result_dict.keys())[0]][\"snr_dB\"],\n",
    "                 d_mean, \n",
    "                 label=label, color=clr, linewidth=2,\n",
    "                 linestyle=\":\" if \"Oshea\" in label or \"[1]\" in label else \"-\")\n",
    "    \n",
    "    # hack for robinhood to pickup shaded area\n",
    "    plt.plot(result_dict[list(result_dict.keys())[0]][\"snr_dB\"],\n",
    "             d_mean + d_std, color=clr, alpha=0.00, label= label + \"_upper\")\n",
    "    plt.plot(result_dict[list(result_dict.keys())[0]][\"snr_dB\"],\n",
    "             d_mean - d_std, color=clr, alpha=0.00, label= label + \"_lower\")\n",
    "    \n",
    "plt.semilogy(SNR_range_dB, results_traditional[\"QAM\"][\"bler\"], label=\"QAM\", color=next(colors), linestyle=\"-.\")\n",
    "plt.semilogy(SNR_range_dB, results_traditional[\"Agrell\"][\"bler\"], label=\"Agrell\", color=next(colors), linestyle=\"-.\")\n",
    "    \n",
    "plt.legend(loc=\"lower left\", prop={'size':14})\n",
    "plt.grid()\n",
    "plt.xlabel(\"SNR ($dB$)\", fontdict={'fontsize':16})\n",
    "plt.ylabel(\"BLER\", fontdict={'fontsize':16})\n",
    "plt.ylim((1e-3,1e0))\n",
    "# plt.savefig(\"output_awgn_avg_bler_{:02d}x{:02d}.pdf\".format(blkSize,chDim), format='pdf', bbox_inches='tight')\n",
    "robinhood(fig, \"output_awgn_avg_bler_{:02d}x{:02d}.csv\".format(blkSize,chDim), col_dtype=[int, float])"
   ]
  },
  {
   "cell_type": "markdown",
   "metadata": {},
   "source": [
    "### Evolution of BLER @ 4dB"
   ]
  },
  {
   "cell_type": "code",
   "execution_count": null,
   "metadata": {},
   "outputs": [],
   "source": [
    "colors = cycle(['b', 'g', 'c', 'r', 'm', 'y'])\n",
    "fig = plt.figure(figsize=(6*1.5, 3*1.5))\n",
    "data = {}\n",
    "\n",
    "for (label, result_dict) in results.items():\n",
    "    epochs = result_dict[list(result_dict.keys())[0]][\"bler_4dB_epochs\"]\n",
    "    d = []\n",
    "    clr = next(colors)\n",
    "    for (modelid, log) in result_dict.items():\n",
    "#         plt.semilogy(log[\"packing_density_epochs\"],\n",
    "#                  log[\"packing_density_en\"], color=clr, alpha=0.1)\n",
    "        d.append(log[\"bler_4dB_bler\"])\n",
    "    d_mean = np.mean(d, axis=0)\n",
    "    d_std = np.std(d, axis=0)\n",
    "    plt.fill_between(result_dict[list(result_dict.keys())[0]][\"bler_4dB_epochs\"],\n",
    "                    d_mean+d_std, d_mean-d_std, alpha=0.20)\n",
    "    plt.semilogy(result_dict[list(result_dict.keys())[0]][\"bler_4dB_epochs\"],\n",
    "                 d_mean, color=clr, alpha=0.9, label=label)\n",
    "    \n",
    "    # hack for robinhood to pickup shaded area\n",
    "    plt.plot(result_dict[list(result_dict.keys())[0]][\"bler_4dB_epochs\"],\n",
    "             d_mean + d_std, color=clr, alpha=0.00, label= label + \"_upper\")\n",
    "    plt.plot(result_dict[list(result_dict.keys())[0]][\"bler_4dB_epochs\"],\n",
    "             d_mean - d_std, color=clr, alpha=0.00, label= label + \"_lower\")\n",
    "    \n",
    "plt.plot(epochs, len(epochs)*[results_traditional[\"QAM\"][\"bler\"][4]], linewidth=3, label=\"QAM\", color=next(colors), linestyle=\"-.\")\n",
    "plt.plot(epochs, len(epochs)*[results_traditional[\"Agrell\"][\"bler\"][4]], linewidth=3, label=\"Agrell\", color=next(colors), linestyle=\"-.\")\n",
    "\n",
    "\n",
    "if blkSize==2 and chDim==1:\n",
    "    plt.ylim([1.05e-1, 1.17e-1]) # For 02x01\n",
    "elif blkSize==4 and chDim==2:\n",
    "    plt.ylim([1.75e-1, 2.25e-1]) # For 04x02\n",
    "elif blkSize==8 and chDim==4:\n",
    "    plt.ylim([0.25e0, 0.45e0]) # For 08x04\n",
    "# plt.xlim([0, 3000])\n",
    "plt.legend(loc='lower left', prop={'size':14})\n",
    "plt.grid()\n",
    "robinhood(fig, \"output_awgn_bler04dB_evo_{:02d}x{:02d}.csv\".format(blkSize,chDim), col_dtype=[int, float])"
   ]
  },
  {
   "cell_type": "markdown",
   "metadata": {},
   "source": [
    "### Evolution of BLER @ 6dB"
   ]
  },
  {
   "cell_type": "code",
   "execution_count": null,
   "metadata": {},
   "outputs": [],
   "source": [
    "colors = cycle(['b', 'g', 'c', 'r', 'm', 'y'])\n",
    "fig = plt.figure(figsize=(6*1.5, 3*1.5))\n",
    "data = {}\n",
    "\n",
    "for (label, result_dict) in results.items():\n",
    "    epochs = result_dict[list(result_dict.keys())[0]][\"bler_6dB_epochs\"]\n",
    "    d = []\n",
    "    clr = next(colors)\n",
    "    for (modelid, log) in result_dict.items():\n",
    "#         plt.semilogy(log[\"packing_density_epochs\"],\n",
    "#                  log[\"packing_density_en\"], color=clr, alpha=0.1)\n",
    "        d.append(log[\"bler_6dB_bler\"])\n",
    "    d_mean = np.mean(d, axis=0)\n",
    "    d_std = np.std(d, axis=0)\n",
    "    plt.fill_between(result_dict[list(result_dict.keys())[0]][\"bler_6dB_epochs\"],\n",
    "                    d_mean+d_std, d_mean-d_std, alpha=0.20)\n",
    "    plt.semilogy(result_dict[list(result_dict.keys())[0]][\"bler_6dB_epochs\"],\n",
    "                 d_mean, color=clr, alpha=0.9, label=label)\n",
    "    \n",
    "    # hack for robinhood to pickup shaded area\n",
    "    plt.plot(result_dict[list(result_dict.keys())[0]][\"bler_6dB_epochs\"],\n",
    "             d_mean + d_std, color=clr, alpha=0.00, label= label + \"_upper\")\n",
    "    plt.plot(result_dict[list(result_dict.keys())[0]][\"bler_6dB_epochs\"],\n",
    "             d_mean - d_std, color=clr, alpha=0.00, label= label + \"_lower\")\n",
    "    \n",
    "plt.plot(epochs, len(epochs)*[results_traditional[\"QAM\"][\"bler\"][6]], linewidth=3, label=\"QAM\", color=next(colors), linestyle=\"-.\")\n",
    "plt.plot(epochs, len(epochs)*[results_traditional[\"Agrell\"][\"bler\"][6]], linewidth=3, label=\"Agrell\", color=next(colors), linestyle=\"-.\")\n",
    "\n",
    "if blkSize==2 and chDim==1:\n",
    "    plt.ylim([4.3e-2, 4.9e-2]) # For 02x01\n",
    "elif blkSize==4 and chDim==2:\n",
    "    plt.ylim([6.5e-2, 1e-1]) # For 04x02\n",
    "elif blkSize==8 and chDim==4:\n",
    "    plt.ylim([0.9e-1, 0.2e0]) # For 08x04\n",
    "# plt.xlim([0, 3000])\n",
    "plt.legend(loc='lower left', prop={'size':14})\n",
    "plt.grid()\n",
    "robinhood(fig, \"output_awgn_bler06dB_evo_{:02d}x{:02d}.csv\".format(blkSize,chDim), col_dtype=[int, float])"
   ]
  },
  {
   "cell_type": "code",
   "execution_count": null,
   "metadata": {},
   "outputs": [],
   "source": []
  }
 ],
 "metadata": {
  "kernelspec": {
   "display_name": "Python 3",
   "language": "python",
   "name": "python3"
  },
  "language_info": {
   "codemirror_mode": {
    "name": "ipython",
    "version": 3
   },
   "file_extension": ".py",
   "mimetype": "text/x-python",
   "name": "python",
   "nbconvert_exporter": "python",
   "pygments_lexer": "ipython3",
   "version": "3.7.3"
  }
 },
 "nbformat": 4,
 "nbformat_minor": 4
}
