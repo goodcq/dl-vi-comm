{
 "cells": [
  {
   "cell_type": "markdown",
   "metadata": {
    "colab_type": "text",
    "id": "fT4huFq3hF0t"
   },
   "source": [
    "# Recovering Gray Codes"
   ]
  },
  {
   "cell_type": "markdown",
   "metadata": {
    "colab_type": "text",
    "id": "ld01pvLJhihW"
   },
   "source": [
    "## Packages"
   ]
  },
  {
   "cell_type": "code",
   "execution_count": 1,
   "metadata": {
    "colab": {
     "base_uri": "https://localhost:8080/",
     "height": 225
    },
    "colab_type": "code",
    "id": "_IqHspyxhkXi",
    "outputId": "f3f09e6a-07f1-4d54-bc2d-c4eb95cf420a"
   },
   "outputs": [],
   "source": [
    "try:\n",
    "    import os\n",
    "\n",
    "    from google.colab import drive\n",
    "    drive.mount('/content/gdrive')\n",
    "\n",
    "    os.chdir( '/content/gdrive/My Drive/Colab Notebooks/GoA/02_binary/' )\n",
    "    !ls\n",
    "except Exception:\n",
    "    pass"
   ]
  },
  {
   "cell_type": "code",
   "execution_count": 60,
   "metadata": {
    "colab": {},
    "colab_type": "code",
    "id": "jvsKW458hlB5"
   },
   "outputs": [],
   "source": [
    "from tensorflow.keras.layers import Dense, Input, BatchNormalization\n",
    "from tensorflow.keras.layers import Conv2D, Flatten, Lambda\n",
    "from tensorflow.keras.layers import Reshape, Conv2DTranspose\n",
    "from tensorflow.keras.models import Model\n",
    "from tensorflow.keras.datasets import mnist\n",
    "from tensorflow.keras.losses import mse, binary_crossentropy, categorical_crossentropy\n",
    "from tensorflow.keras.utils import plot_model\n",
    "from tensorflow.keras import backend as K\n",
    "from tensorflow.keras.models import model_from_json\n",
    "\n",
    "import numpy as np\n",
    "import matplotlib.pyplot as plt\n",
    "from scipy.spatial.distance import cdist # For calculating QPSK decoding\n",
    "\n",
    "import datetime, itertools, dill"
   ]
  },
  {
   "cell_type": "markdown",
   "metadata": {
    "colab_type": "text",
    "id": "untN-OuOhyie"
   },
   "source": [
    "## VAE Module"
   ]
  },
  {
   "cell_type": "code",
   "execution_count": 131,
   "metadata": {
    "colab": {},
    "colab_type": "code",
    "id": "YVBQIZRHiBEr"
   },
   "outputs": [],
   "source": [
    "class CommVAEBinary(object):\n",
    "  def __init__(self, in_dim=None, latent_dim=None, h_dim=None, obj_fn = 'RBF', n0=1.0):\n",
    "    self.in_dim = in_dim\n",
    "    self.latent_dim = latent_dim\n",
    "    self.n0 = n0\n",
    "    self.h_dim = h_dim\n",
    "    self.obj_fn = obj_fn\n",
    "\n",
    "    \n",
    "    \n",
    "    if self.in_dim and self.latent_dim:\n",
    "      self.make_model()\n",
    "    \n",
    "  def make_model(self):\n",
    "    # Input layer\n",
    "    self.inputs = Input(shape=(self.in_dim,), name=\"enc_in\")\n",
    "    \n",
    "    # Hidden Layers\n",
    "    x = self.inputs\n",
    "    if self.h_dim is not None:\n",
    "      for (i,d) in enumerate(self.h_dim):\n",
    "        x = Dense( d, activation='relu', name=\"enc_l{}\".format(i))(x)\n",
    "    # Mean and Variance\n",
    "    self.z_mean = Dense(self.latent_dim, name=\"z_mean\")(x)\n",
    "    \n",
    "    # Channel\n",
    "    self.z = Lambda(self.channel, output_shape=(self.latent_dim,), name=\"z\")(self.z_mean)\n",
    "    \n",
    "    # Encoder model\n",
    "    self.encoder = Model(self.inputs, [self.z_mean,self.z], name=\"encoder\")\n",
    "    \n",
    "    # Decoder\n",
    "    self.latent_inputs = Input(shape=(self.latent_dim,), name=\"z_sample\")\n",
    "    \n",
    "    # Hidden layers\n",
    "    x = self.latent_inputs\n",
    "    if self.h_dim is not None:\n",
    "      for (i,d) in enumerate(self.h_dim[::-1]):\n",
    "        x = Dense( d, activation='relu', name=\"dec_l{}\".format(i))(x)\n",
    "    self.dec_outputs = Dense( self.in_dim, activation='sigmoid', name=\"decoder_out\")(x)\n",
    "    \n",
    "    # Decoder model\n",
    "    self.decoder = Model(self.latent_inputs, self.dec_outputs, name=\"decoder\")\n",
    "    \n",
    "    # VAE\n",
    "    self.outputs = self.decoder(self.encoder(self.inputs)[1])\n",
    "    self.model = Model(self.inputs, self.outputs, name=\"VAE\")\n",
    "    \n",
    "    # Losses\n",
    "    self.recon_loss = binary_crossentropy(self.inputs, self.outputs)\n",
    "    self.recon_loss *= self.in_dim # Because binary_crossentropy divides by N\n",
    "\n",
    "\n",
    "    if self.obj_fn == 'AWGN':\n",
    "      # print( \"Model with AWGN \")\n",
    "      sig_pow = 0.5/5.0 * K.sum(K.square(self.z_mean), axis=-1) \n",
    "      noise_term = 0.5 * self.latent_dim * (self.n0/self.latent_dim - 1.0 - K.log(self.n0/self.latent_dim))\n",
    "      self.kl_loss = sig_pow + noise_term\n",
    "    elif self.obj_fn == 'RBF':\n",
    "      # print( \"Model with RBF\")\n",
    "      sig_pow = 0.5 * K.sum(K.square(self.z_mean), axis=-1) \n",
    "      noise_term = 0.5 * self.latent_dim * (self.n0/self.latent_dim - 1.0 - K.log(self.n0/self.latent_dim))\n",
    "      rbf_term = K.log(1.0 + 0.5*self.latent_dim/self.n0 * sig_pow)\n",
    "      self.kl_loss = sig_pow + noise_term - rbf_term\n",
    "    else:\n",
    "      raise NotImplementedError(\"Unknown obj_fn: {}\".format(self.obj_fn))\n",
    "    \n",
    "    \n",
    "    self.vae_loss = K.mean( self.recon_loss + self.kl_loss )\n",
    "\n",
    "    self.model.add_loss( self.vae_loss )\n",
    "    \n",
    "    self.model.compile( optimizer = 'adam' )\n",
    "#     self.model.compile( optimizer=tf.train.AdamOptimizer(learning_rate=0.01))\n",
    "    \n",
    "    \n",
    "  def channel( self, zMean ):\n",
    "    batch = K.shape( zMean )[0]\n",
    "#     dims = K.shape( zMean )[1]\n",
    "    epsilon = K.random_normal( shape = (batch,self.latent_dim) )\n",
    "    return zMean + np.sqrt(self.n0/self.latent_dim)*epsilon\n",
    "  \n",
    "  def fit(self, x_train, epochs=10, batch_size=128, validation_data=None, verbose=0 ):\n",
    "    train_log = self.model.fit( x_train, epochs=epochs, batch_size=batch_size, \n",
    "                                validation_data=validation_data, verbose=verbose )\n",
    "    return train_log.history\n",
    "  \n",
    "  def encode( self, data ):\n",
    "    return self.encoder.predict(data)\n",
    "  \n",
    "  def decode( self, data ):\n",
    "    return self.decoder.predict(data)\n",
    "  \n",
    "#   def analysis( self ):\n",
    "#     xTest = np.eye(self.in_dim)\n",
    "#     enc_mu, enc_z = self.encode(xTest)\n",
    "#     dec_mu = self.decode(enc_mu)\n",
    "#     dec_z = self.decode(enc_z)\n",
    "\n",
    "#     chDim = self.latent_dim//2\n",
    "#     f = plt.figure(figsize=(5*chDim,9))\n",
    "#     for i in range(chDim):\n",
    "#       ax1 = plt.subplot(2,chDim,i+1)\n",
    "#       ax1.scatter(enc_mu[:,i],enc_mu[:,i+chDim],c=np.arange(self.in_dim))\n",
    "#       for j in range(self.in_dim):\n",
    "#         ax1.annotate( j, (enc_mu[j,i],enc_mu[j,i+chDim]) )\n",
    "#       ax1.set_title( \"TX Symbols n = {}\".format(i+1) )\n",
    "      \n",
    "  def analysis( self ):    \n",
    "    xTest = np.array(list(map(list, itertools.product([0,1], repeat=self.in_dim))))\n",
    "    enc_mu, enc_z = self.encode(xTest)\n",
    "    dec_mu = self.decode(enc_mu)\n",
    "    dec_z = self.decode(enc_z)\n",
    "\n",
    "    chDim = self.latent_dim//2\n",
    "    f = plt.figure(figsize=(5*chDim,9))\n",
    "    for i in range(chDim):\n",
    "      ax1 = plt.subplot(2,chDim,i+1)\n",
    "      ax1.scatter(enc_mu[:,i],enc_mu[:,i+chDim],c=np.arange(2**self.in_dim))\n",
    "      for j in range(2**self.in_dim):\n",
    "        ax1.annotate( j, (enc_mu[j,i],enc_mu[j,i+chDim]) )\n",
    "      ax1.set_title( \"TX Symbols n = {}\".format(i+1) )\n",
    "  \n",
    "  def get_constellation(self):\n",
    "    xTest = np.array(list(map(list, itertools.product([0,1], repeat=self.in_dim))))\n",
    "    enc_mu, enc_z = self.encode(xTest)\n",
    "    \n",
    "    return enc_mu\n",
    "      \n",
    "  def save_model(self, fileprefix):\n",
    "    with open(fileprefix+\".dil\",\"wb\") as obj:\n",
    "      dill.dump( {'in_dim': self.in_dim,\n",
    "                  'latent_dim': self.latent_dim,\n",
    "                  'n0': self.n0,\n",
    "                  'h_dim': self.h_dim,\n",
    "                  'obj_fn': self.obj_fn}, obj )\n",
    "    self.model.save_weights(fileprefix+\".h5\")\n",
    "  \n",
    "  def load_model(self, fileprefix):\n",
    "    with open(fileprefix+\".dil\",\"rb\") as obj:\n",
    "      config = dill.load(obj)\n",
    "      self.in_dim = config['in_dim']\n",
    "      self.latent_dim = config['latent_dim']\n",
    "      self.n0 = config['n0']\n",
    "      self.h_dim = config['h_dim']\n",
    "      self.obj_fn = config['obj_fn']\n",
    "    self.make_model()\n",
    "    self.model.load_weights(fileprefix+\".h5\")"
   ]
  },
  {
   "cell_type": "markdown",
   "metadata": {},
   "source": [
    "## AE Module"
   ]
  },
  {
   "cell_type": "code",
   "execution_count": 68,
   "metadata": {},
   "outputs": [],
   "source": [
    "class AEOshea1hot(object):\n",
    "  def __init__(self, in_dim=None, latent_dim=None, h_dim=None, train_snr_dB=10.0):\n",
    "    self.in_dim = in_dim\n",
    "    self.latent_dim = latent_dim\n",
    "    self.train_snr_dB = train_snr_dB\n",
    "    self.h_dim = h_dim\n",
    "    self.train_noisepow = 10.0**(-self.train_snr_dB/10.0)\n",
    "    \n",
    "    if self.in_dim and self.latent_dim:\n",
    "      self.make_model()\n",
    "    \n",
    "  def make_model(self):\n",
    "    # Input layer\n",
    "    self.inputs = Input(shape=(self.in_dim,), name=\"enc_in\")\n",
    "    \n",
    "    # Hidden Layers\n",
    "    x = self.inputs\n",
    "    if self.h_dim is not None:\n",
    "      for (i,d) in enumerate(self.h_dim):\n",
    "        x = Dense( d, activation='relu', name=\"enc_l{}\".format(i))(x)\n",
    "    # Mean and Variance\n",
    "    x = Dense(self.latent_dim)(x)\n",
    "    self.z_mean = BatchNormalization(center=False, scale=False)(x)\n",
    "    # Channel\n",
    "    self.z = Lambda(self.channel, output_shape=(self.latent_dim,), name=\"z\")(self.z_mean)\n",
    "   \n",
    "    \n",
    "    # Encoder model\n",
    "    self.encoder = Model(self.inputs, [self.z_mean,self.z], name=\"encoder\")\n",
    "    \n",
    "    # Decoder\n",
    "    self.latent_inputs = Input(shape=(self.latent_dim,), name=\"z_sample\")\n",
    "    \n",
    "    # Hidden layers\n",
    "    x = self.latent_inputs\n",
    "    if self.h_dim is not None:\n",
    "      for (i,d) in enumerate(self.h_dim[::-1]):\n",
    "        x = Dense( d, activation='relu', name=\"dec_l{}\".format(i))(x)\n",
    "    self.dec_outputs = Dense( self.in_dim, activation='softmax', name=\"decoder_out\")(x)\n",
    "    \n",
    "    # Decoder model\n",
    "    self.decoder = Model(self.latent_inputs, self.dec_outputs, name=\"decoder\")\n",
    "    \n",
    "    # VAE\n",
    "    self.outputs = self.decoder(self.encoder(self.inputs)[1])\n",
    "    self.model = Model(self.inputs, self.outputs, name=\"VAE\")\n",
    "    \n",
    "    # Losses\n",
    "    self.recon_loss = categorical_crossentropy(self.inputs, self.outputs)\n",
    "    \n",
    "    self.model.add_loss(self.recon_loss)\n",
    "    \n",
    "    self.model.compile(optimizer='adam')\n",
    "#     self.model.compile( optimizer=tf.train.AdamOptimizer(learning_rate=0.01))\n",
    "    \n",
    "    \n",
    "  def channel( self, zMean ):\n",
    "    batch = K.shape( zMean )[0]\n",
    "    epsilon = K.random_normal( shape = (batch,self.latent_dim) )\n",
    "    # Because BatchNormalization produces z vector with signal power 'latentDim',\n",
    "    # we should not scale the noise power here.\n",
    "    return zMean + np.sqrt(self.train_noisepow)*epsilon\n",
    "  \n",
    "  def fit(self, x_train, epochs=10, batch_size=128, validation_data=None, verbose=0 ):\n",
    "    train_log = self.model.fit(x_train, epochs=epochs, batch_size=batch_size, \n",
    "                               validation_data=validation_data, verbose=verbose)\n",
    "    return train_log.history\n",
    "  \n",
    "  def encode( self, data ):\n",
    "    return self.encoder.predict(data)\n",
    "  \n",
    "  def decode( self, data ):\n",
    "    return self.decoder.predict(data)\n",
    "  \n",
    "  def analysis( self ):\n",
    "    xTest = np.eye(self.in_dim)\n",
    "    enc_mu, enc_z = self.encode(xTest)\n",
    "    dec_mu = self.decode(enc_mu)\n",
    "    dec_z = self.decode(enc_z)\n",
    "\n",
    "    chDim = self.latent_dim//2\n",
    "    f = plt.figure(figsize=(5*chDim,9))\n",
    "    for i in range(chDim):\n",
    "      ax1 = plt.subplot(2,chDim,i+1)\n",
    "      ax1.scatter(enc_mu[:,i],enc_mu[:,i+chDim],c=np.arange(self.in_dim))\n",
    "      for j in range(self.in_dim):\n",
    "        ax1.annotate( j, (enc_mu[j,i],enc_mu[j,i+chDim]) )\n",
    "      ax1.set_title( \"TX Symbols n = {}\".format(i+1) )\n",
    "\n",
    "  def get_constellation(self):\n",
    "    xTest = np.eye(self.in_dim)\n",
    "    enc_mu, enc_z = self.encode(xTest)\n",
    "    \n",
    "    return enc_mu\n",
    "      \n",
    "  def save_model(self, fileprefix):\n",
    "    with open(fileprefix+\".dil\",\"wb\") as obj:\n",
    "      dill.dump( {'in_dim': self.in_dim,\n",
    "                  'latent_dim': self.latent_dim,\n",
    "                  'train_noisepow': self.train_noisepow,\n",
    "                  'train_snr_dB': self.train_snr_dB,\n",
    "                  'h_dim': self.h_dim}, obj )\n",
    "    self.model.save_weights(fileprefix+\".h5\")\n",
    "  \n",
    "  def load_model(self, fileprefix):\n",
    "    with open(fileprefix+\".dil\",\"rb\") as obj:\n",
    "      config = dill.load(obj)\n",
    "      self.in_dim = config['in_dim']\n",
    "      self.latent_dim = config['latent_dim']\n",
    "      self.train_snr_dB = config['train_snr_dB']\n",
    "      self.train_noisepow = config['train_noisepow']\n",
    "      self.h_dim = config['h_dim']\n",
    "    self.make_model()\n",
    "    self.model.load_weights(fileprefix+\".h5\")"
   ]
  },
  {
   "cell_type": "markdown",
   "metadata": {
    "colab_type": "text",
    "id": "szdN9cWxiVyT"
   },
   "source": [
    "## Train Settings for binary block"
   ]
  },
  {
   "cell_type": "code",
   "execution_count": 138,
   "metadata": {
    "colab": {
     "base_uri": "https://localhost:8080/",
     "height": 55
    },
    "colab_type": "code",
    "id": "RowsQ9SDiZlb",
    "outputId": "a870a801-9cd6-455f-caab-afcdc9901b30"
   },
   "outputs": [
    {
     "name": "stdout",
     "output_type": "stream",
     "text": [
      "In Vector Dim: 5\n",
      "z dim: 2\n"
     ]
    }
   ],
   "source": [
    "noOfEpochs = 1000\n",
    "blkSize = 5\n",
    "mbSize = 1000\n",
    "chDim = 1\n",
    "\n",
    "# Input\n",
    "inVecDim   = blkSize  #\n",
    "encDim = 2*chDim\n",
    "print( \"In Vector Dim:\", inVecDim )\n",
    "print( \"z dim:\", encDim )\n",
    "\n",
    "# Train Data\n",
    "xTrain = np.random.randint(2,size=(10000,blkSize))\n",
    "xVal = np.random.randint(2,size=(10000,blkSize))"
   ]
  },
  {
   "cell_type": "code",
   "execution_count": 139,
   "metadata": {
    "colab": {
     "base_uri": "https://localhost:8080/",
     "height": 19270
    },
    "colab_type": "code",
    "id": "c9yBBIM5ifx6",
    "outputId": "cdf45e89-6878-4659-f107-b8b8f98f920b"
   },
   "outputs": [
    {
     "name": "stdout",
     "output_type": "stream",
     "text": [
      "WARNING:tensorflow:Output \"decoder\" missing from loss dictionary. We assume this was done on purpose. The fit and evaluate APIs will not be expecting any data to be passed to \"decoder\".\n"
     ]
    },
    {
     "data": {
      "text/plain": [
       "<matplotlib.legend.Legend at 0x7f6a9b96e358>"
      ]
     },
     "execution_count": 139,
     "metadata": {},
     "output_type": "execute_result"
    },
    {
     "data": {
      "image/png": "[encoded data removed]",
      "text/plain": [
       "<Figure size 432x288 with 1 Axes>"
      ]
     },
     "metadata": {
      "needs_background": "light"
     },
     "output_type": "display_data"
    }
   ],
   "source": [
    "# try:\n",
    "#   K.clear_session()\n",
    "#   del model1\n",
    "# except:\n",
    "#   pass\n",
    "\n",
    "model1 = CommVAEBinary( inVecDim, encDim, h_dim=[32,16], n0=0.1*inVecDim, obj_fn='AWGN' ) # in_dim=None, latent_dim=None, h_dim=None, obj_fn = 'RBF', n0=1.0\n",
    "h = model1.fit( xTrain, epochs=noOfEpochs, batch_size=mbSize, validation_data=(xVal,None), verbose=0 )\n",
    "for (l,d) in h.items():\n",
    "  plt.plot(d, label=l )\n",
    "plt.legend()"
   ]
  },
  {
   "cell_type": "code",
   "execution_count": 140,
   "metadata": {
    "colab": {
     "base_uri": "https://localhost:8080/",
     "height": 285
    },
    "colab_type": "code",
    "id": "Cm8cP-UMjITa",
    "outputId": "ee50065b-40b7-4eac-e011-2ca1181ae95f"
   },
   "outputs": [
    {
     "data": {
      "image/png": "[encoded data removed]",
      "text/plain": [
       "<Figure size 360x648 with 1 Axes>"
      ]
     },
     "metadata": {
      "needs_background": "light"
     },
     "output_type": "display_data"
    },
    {
     "data": {
      "image/png": "[encoded data removed]",
      "text/plain": [
       "<Figure size 324x324 with 1 Axes>"
      ]
     },
     "metadata": {
      "needs_background": "light"
     },
     "output_type": "display_data"
    }
   ],
   "source": [
    "model1.analysis()\n",
    "\n",
    "m2_points = model1.get_constellation()\n",
    "# m2_pow = np.mean(np.sum(m2_points*m2_points,axis=1))\n",
    "# m2_points = np.sqrt(1.0/m2_pow) * m2_points\n",
    "\n",
    "chDim = m2.latent_dim//2\n",
    "f = plt.figure(figsize=(3*1.5,3*1.5))\n",
    "for i in range(chDim):\n",
    "  ax1 = plt.subplot(1,chDim,i+1)\n",
    "  ax1.scatter(m2_points[:,i], m2_points[:,i+chDim], c=np.arange(2**model1.in_dim), s=80)\n",
    "  for j in range(2**model1.in_dim):\n",
    "    ax1.annotate( j, (m2_points[j,i],m2_points[j,i+chDim]), size=16)\n",
    "#     # trick to avoid overlap during cheating\n",
    "#     ax1.annotate( \"{:2d}\".format(j) if j < 16 else \"  {:2d}\".format(j), (m2_points[j,i],m2_points[j,i+chDim]), size=16)\n",
    "plt.grid()\n",
    "plt.xticks(np.arange(-4.0,4.1,1.0))\n",
    "plt.yticks(np.arange(-4.0,4.1,1.0))\n",
    "plt.xlabel(\"I\", fontdict={'fontsize':16})\n",
    "plt.ylabel(\"Q\", fontdict={'fontsize':16})\n",
    "# plt.savefig(\"gray_const_temp.pdf\".format(blkSize,chDim), format='pdf', bbox_inches='tight')\n",
    "# plt.savefig(\"gray_const_temp.eps\".format(blkSize,chDim), format='eps', bbox_inches='tight')\n",
    "# print(m2_points)\n",
    "\n",
    "# print(cdist(m2_points,m2_points))"
   ]
  },
  {
   "cell_type": "code",
   "execution_count": 118,
   "metadata": {
    "colab": {},
    "colab_type": "code",
    "id": "F25mrTo8j3id"
   },
   "outputs": [],
   "source": [
    "model1.save_model( \"model_32symbols_gray_awgn_s050\")"
   ]
  },
  {
   "cell_type": "markdown",
   "metadata": {},
   "source": [
    "Load pretrained models"
   ]
  },
  {
   "cell_type": "code",
   "execution_count": 64,
   "metadata": {
    "colab": {
     "base_uri": "https://localhost:8080/",
     "height": 304
    },
    "colab_type": "code",
    "id": "2xvln9P4nfxM",
    "outputId": "eaec40fc-5cfb-4e77-f8c6-eda123a0c570"
   },
   "outputs": [
    {
     "name": "stdout",
     "output_type": "stream",
     "text": [
      "WARNING:tensorflow:Output \"decoder\" missing from loss dictionary. We assume this was done on purpose. The fit and evaluate APIs will not be expecting any data to be passed to \"decoder\".\n"
     ]
    },
    {
     "data": {
      "image/png": "[encoded data removed]",
      "text/plain": [
       "<Figure size 324x324 with 1 Axes>"
      ]
     },
     "metadata": {
      "needs_background": "light"
     },
     "output_type": "display_data"
    }
   ],
   "source": [
    "m2 = CommVAEBinary()\n",
    "m2.load_model(\"./models_16x01/model_16symbols_gray_rbf\")\n",
    "m2_points = m2.get_constellation()\n",
    "# m2_pow = np.mean(np.sum(m2_points*m2_points,axis=1))\n",
    "# m2_points = np.sqrt(1.0/m2_pow) * m2_points\n",
    "\n",
    "chDim = m2.latent_dim//2\n",
    "f = plt.figure(figsize=(3*1.5,3*1.5))\n",
    "for i in range(chDim):\n",
    "  ax1 = plt.subplot(1,chDim,i+1)\n",
    "  ax1.scatter(m2_points[:,i], m2_points[:,i+chDim], c=np.arange(2**m2.in_dim), s=80)\n",
    "  for j in range(2**m2.in_dim):\n",
    "    ax1.annotate( j, (m2_points[j,i],m2_points[j,i+chDim]), size=16)\n",
    "plt.grid()\n",
    "plt.xticks(np.arange(-3.0,3.1,1.0))\n",
    "plt.yticks(np.arange(-3.0,3.1,1.0))\n",
    "plt.xlabel(\"I\", fontdict={'fontsize':16})\n",
    "plt.ylabel(\"Q\", fontdict={'fontsize':16})\n",
    "plt.savefig(\"gray_const1.pdf\".format(blkSize,chDim), format='pdf', bbox_inches='tight')\n",
    "plt.savefig(\"gray_const1.eps\".format(blkSize,chDim), format='eps', bbox_inches='tight')"
   ]
  },
  {
   "cell_type": "code",
   "execution_count": 63,
   "metadata": {
    "colab": {
     "base_uri": "https://localhost:8080/",
     "height": 304
    },
    "colab_type": "code",
    "id": "VCHGk6RrqKbd",
    "outputId": "0a7a0f80-4c01-41bb-ffe0-7c3205b73797"
   },
   "outputs": [
    {
     "name": "stdout",
     "output_type": "stream",
     "text": [
      "WARNING:tensorflow:Output \"decoder\" missing from loss dictionary. We assume this was done on purpose. The fit and evaluate APIs will not be expecting any data to be passed to \"decoder\".\n"
     ]
    },
    {
     "data": {
      "image/png": "[encoded data removed]",
      "text/plain": [
       "<Figure size 324x324 with 1 Axes>"
      ]
     },
     "metadata": {
      "needs_background": "light"
     },
     "output_type": "display_data"
    }
   ],
   "source": [
    "m3 = CommVAEBinary()\n",
    "m3.load_model(\"./models_16x01/model_16symbols_gray_awgn_grid\")\n",
    "m3_points = m3.get_constellation()\n",
    "\n",
    "# m3_pow = np.mean(np.sum(m3_points*m3_points,axis=1))\n",
    "# m3_points = np.sqrt(1.0/m3_pow) * m3_points\n",
    "\n",
    "chDim = m3.latent_dim//2\n",
    "f = plt.figure(figsize=(3*1.5,3*1.5))\n",
    "for i in range(chDim):\n",
    "  ax1 = plt.subplot(1,chDim,i+1)\n",
    "  ax1.scatter(m3_points[:,i], m3_points[:,i+chDim], c=np.arange(2**m2.in_dim), s=80)\n",
    "  for j in range(2**m3.in_dim):\n",
    "    ax1.annotate( j, (m3_points[j,i],m3_points[j,i+chDim]), size=16)\n",
    "plt.grid()\n",
    "plt.xlabel(\"I\", fontdict={'fontsize':16})\n",
    "plt.ylabel(\"Q\", fontdict={'fontsize':16})\n",
    "plt.xticks(np.arange(-3.0,3.1,1.0))\n",
    "plt.yticks(np.arange(-3.0,3.1,1.0))\n",
    "plt.savefig(\"gray_const2.pdf\".format(blkSize,chDim), format='pdf', bbox_inches='tight')\n",
    "plt.savefig(\"gray_const2.eps\".format(blkSize,chDim), format='eps', bbox_inches='tight')"
   ]
  },
  {
   "cell_type": "code",
   "execution_count": 143,
   "metadata": {},
   "outputs": [
    {
     "name": "stdout",
     "output_type": "stream",
     "text": [
      "WARNING:tensorflow:Output \"decoder\" missing from loss dictionary. We assume this was done on purpose. The fit and evaluate APIs will not be expecting any data to be passed to \"decoder\".\n"
     ]
    },
    {
     "data": {
      "image/png": "[encoded data removed]",
      "text/plain": [
       "<Figure size 324x324 with 1 Axes>"
      ]
     },
     "metadata": {
      "needs_background": "light"
     },
     "output_type": "display_data"
    }
   ],
   "source": [
    "m4 = CommVAEBinary()\n",
    "m4.load_model(\"./models_32x01/model_32symbols_gray_awgn_s050\")\n",
    "m4_points = m4.get_constellation()\n",
    "\n",
    "chDim = m4.latent_dim//2\n",
    "f = plt.figure(figsize=(3*1.5,3*1.5))\n",
    "for i in range(chDim):\n",
    "  ax1 = plt.subplot(1,chDim,i+1)\n",
    "  ax1.scatter(m4_points[:,i], m4_points[:,i+chDim], c=np.arange(2**m4.in_dim), s=80)\n",
    "  for j in range(2**m4.in_dim):\n",
    "    ax1.annotate( j, (m4_points[j,i],m4_points[j,i+chDim]), size=16)\n",
    "plt.grid()\n",
    "plt.xlabel(\"I\", fontdict={'fontsize':16})\n",
    "plt.ylabel(\"Q\", fontdict={'fontsize':16})\n",
    "plt.xticks(np.arange(-4.0,4.1,1.0))\n",
    "plt.yticks(np.arange(-4.0,4.1,1.0))\n",
    "plt.savefig(\"gray_const_32.pdf\".format(blkSize,chDim), format='pdf', bbox_inches='tight')\n",
    "plt.savefig(\"gray_const_32.eps\".format(blkSize,chDim), format='eps', bbox_inches='tight')"
   ]
  },
  {
   "cell_type": "markdown",
   "metadata": {},
   "source": [
    "## Train settings for 1-hot encoding"
   ]
  },
  {
   "cell_type": "code",
   "execution_count": 86,
   "metadata": {},
   "outputs": [
    {
     "name": "stdout",
     "output_type": "stream",
     "text": [
      "In Vector Dim: 4\n",
      "z dim: 2\n"
     ]
    }
   ],
   "source": [
    "noOfEpochs = 500\n",
    "blkSize = 2\n",
    "mbSize = 1000\n",
    "chDim = 1\n",
    "\n",
    "# Input\n",
    "inVecDim   = 2 ** blkSize  # 1-hot vector length for block\n",
    "encDim = 2*chDim\n",
    "print( \"In Vector Dim:\", inVecDim )\n",
    "print( \"z dim:\", encDim )\n",
    "\n",
    "# Train Data\n",
    "xTrain = np.eye(inVecDim)[np.random.randint(inVecDim,size=10000)]\n",
    "xVal = np.eye(inVecDim)[np.random.randint(inVecDim,size=10000)]"
   ]
  },
  {
   "cell_type": "code",
   "execution_count": 87,
   "metadata": {},
   "outputs": [
    {
     "name": "stdout",
     "output_type": "stream",
     "text": [
      "WARNING:tensorflow:Output \"decoder\" missing from loss dictionary. We assume this was done on purpose. The fit and evaluate APIs will not be expecting any data to be passed to \"decoder\".\n"
     ]
    }
   ],
   "source": [
    "# try:\n",
    "#   K.clear_session()\n",
    "#   del modelAE\n",
    "# except:\n",
    "#   pass\n",
    "\n",
    "modelAE1 = AEOshea1hot(inVecDim, encDim, h_dim=[64,32,16], train_snr_dB=10.0)\n",
    "h = modelAE1.fit( xTrain, epochs=noOfEpochs, batch_size=mbSize, validation_data=(xVal,None), verbose=0)"
   ]
  },
  {
   "cell_type": "code",
   "execution_count": 88,
   "metadata": {},
   "outputs": [
    {
     "data": {
      "image/png": "[encoded data removed]",
      "text/plain": [
       "<Figure size 324x324 with 1 Axes>"
      ]
     },
     "metadata": {
      "needs_background": "light"
     },
     "output_type": "display_data"
    }
   ],
   "source": [
    "ae_points = modelAE1.get_constellation()\n",
    "\n",
    "# m3_pow = np.mean(np.sum(m3_points*m3_points,axis=1))\n",
    "# m3_points = np.sqrt(1.0/m3_pow) * m3_points\n",
    "\n",
    "chDim = modelAE1.latent_dim//2\n",
    "f = plt.figure(figsize=(3*1.5,3*1.5))\n",
    "for i in range(chDim):\n",
    "  ax1 = plt.subplot(1,chDim,i+1)\n",
    "  ax1.scatter(ae_points[:,i], ae_points[:,i+chDim], c=np.arange(modelAE1.in_dim), s=80)\n",
    "  for j in range(modelAE1.in_dim):\n",
    "    ax1.annotate( j, (ae_points[j,i],ae_points[j,i+chDim]), size=22)\n",
    "plt.grid()\n",
    "plt.xlabel(\"I\", fontdict={'fontsize':20})\n",
    "plt.ylabel(\"Q\", fontdict={'fontsize':20})\n",
    "plt.xticks(np.arange(-3.0,3.1,1.0))\n",
    "plt.yticks(np.arange(-3.0,3.1,1.0))\n",
    "plt.savefig(\"ae_const.pdf\".format(blkSize,chDim), format='pdf', bbox_inches='tight')\n",
    "plt.savefig(\"ae_const.eps\".format(blkSize,chDim), format='eps', bbox_inches='tight')"
   ]
  },
  {
   "cell_type": "code",
   "execution_count": null,
   "metadata": {},
   "outputs": [],
   "source": []
  }
 ],
 "metadata": {
  "accelerator": "GPU",
  "colab": {
   "name": "gray_code.ipynb",
   "provenance": [],
   "version": "0.3.2"
  },
  "kernelspec": {
   "display_name": "Python 3",
   "language": "python",
   "name": "python3"
  },
  "language_info": {
   "codemirror_mode": {
    "name": "ipython",
    "version": 3
   },
   "file_extension": ".py",
   "mimetype": "text/x-python",
   "name": "python",
   "nbconvert_exporter": "python",
   "pygments_lexer": "ipython3",
   "version": "3.6.8"
  }
 },
 "nbformat": 4,
 "nbformat_minor": 2
}
