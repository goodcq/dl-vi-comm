{
 "cells": [
  {
   "cell_type": "markdown",
   "metadata": {},
   "source": [
    "To plot the final figures"
   ]
  },
  {
   "cell_type": "code",
   "execution_count": 36,
   "metadata": {},
   "outputs": [],
   "source": [
    "import numpy as np\n",
    "from scipy.spatial.distance import cdist # For calculating QPSK decoding\n",
    "# import dill\n",
    "from itertools import product, cycle\n",
    "\n",
    "import matplotlib.pyplot as plt\n",
    "import seaborn as sns\n",
    "import pandas as pd\n",
    "\n",
    "# import tensorflow.keras.backend as K"
   ]
  },
  {
   "cell_type": "code",
   "execution_count": 37,
   "metadata": {},
   "outputs": [],
   "source": [
    "blkSize     = 2\n",
    "chDim       = 1\n",
    "\n",
    "# Input\n",
    "inVecDim   = 2 ** blkSize  # 1-hot vector length for block\n",
    "encDim = 2*chDim\n",
    "\n",
    "SNR_range_dB = np.arange( 0.0, 40.1, 2.0 )\n",
    "\n",
    "one_hot_code = np.eye(inVecDim)"
   ]
  },
  {
   "cell_type": "markdown",
   "metadata": {},
   "source": [
    "Traditional Methods"
   ]
  },
  {
   "cell_type": "code",
   "execution_count": 38,
   "metadata": {},
   "outputs": [],
   "source": [
    "results_traditional = {}"
   ]
  },
  {
   "cell_type": "code",
   "execution_count": 39,
   "metadata": {},
   "outputs": [],
   "source": [
    "def rbf_channel(txBlk, n0):\n",
    "    N, dim = txBlk.shape\n",
    "    \n",
    "    p1 = txBlk[:,:]\n",
    "    p2 = np.hstack((-txBlk[:,dim//2:],txBlk[:,:dim//2]))\n",
    "    \n",
    "    h1 = np.sqrt(1.0/encDim) * np.random.randn(N)\n",
    "    h2 = np.sqrt(1.0/encDim) * np.random.randn(N)\n",
    "    \n",
    "    outBlk = h1[:,None]*p1 + h2[:,None]*p2 + np.random.normal(scale=np.sqrt(n0), size=txBlk.shape)\n",
    "    \n",
    "    return outBlk, h1, h2"
   ]
  },
  {
   "cell_type": "code",
   "execution_count": 40,
   "metadata": {},
   "outputs": [],
   "source": [
    "def rbf_channel_nonoise(txBlk):\n",
    "    N, dim = txBlk.shape\n",
    "    \n",
    "    p1 = txBlk[:,:]\n",
    "    p2 = np.hstack((-txBlk[:,dim//2:],txBlk[:,:dim//2]))\n",
    "    \n",
    "    h1 = np.sqrt(1.0/encDim) * np.random.randn(N)\n",
    "    h2 = np.sqrt(1.0/encDim) * np.random.randn(N)\n",
    "    \n",
    "    outBlk = h1[:,None]*p1 + h2[:,None]*p2\n",
    "    \n",
    "    return outBlk, h1, h2"
   ]
  },
  {
   "cell_type": "code",
   "execution_count": 41,
   "metadata": {},
   "outputs": [],
   "source": [
    "def add_pilot(txBlk, pilotSym):\n",
    "#     pilotSym = [+1.0, +1.0]\n",
    "    blkWithPilot = np.insert(txBlk, [0,chDim], values=pilotSym, axis=1)\n",
    "    \n",
    "    return blkWithPilot"
   ]
  },
  {
   "cell_type": "code",
   "execution_count": 42,
   "metadata": {},
   "outputs": [],
   "source": [
    "def equalizer(rxBlk, pilotSym):\n",
    "#     pilotSym = [+1.0, +1.0]\n",
    "    \n",
    "    N, dim = rxBlk.shape\n",
    "#     print(\"eq>> rxBlk =\", rxBlk)\n",
    "    \n",
    "    p1 = rxBlk[:,:]\n",
    "    p2 = np.hstack((-rxBlk[:,dim//2:],rxBlk[:,:dim//2]))\n",
    "    \n",
    "    rxPilots = rxBlk[:,[0,1+chDim]]\n",
    "    \n",
    "    h1_hat = (pilotSym[1]*rxPilots[:,1]+pilotSym[0]*rxPilots[:,0])/(pilotSym[1]**2+pilotSym[0]**2)\n",
    "    h2_hat = (pilotSym[0]*rxPilots[:,1]-pilotSym[1]*rxPilots[:,0])/(pilotSym[1]**2+pilotSym[0]**2)\n",
    "    \n",
    "#     print( \"eq>> h1_hat:\", h1_hat)\n",
    "#     print( \"eq>> h2_hat:\", h2_hat)\n",
    "    \n",
    "    \n",
    "    z1_hat = rxBlk[:,:dim//2]\n",
    "    z2_hat = rxBlk[:,dim//2:]\n",
    "    \n",
    "#     print(\"eq>> z1_hat =\", z1_hat)\n",
    "#     print(\"eq>> z2_hat =\", z2_hat)\n",
    "    \n",
    "    \n",
    "#     print(h1_hat.shape, h2_hat.shape, z1_hat.shape, z2_hat.shape)\n",
    "    \n",
    "    zR = (h1_hat[:,None]*z1_hat+h2_hat[:,None]*z2_hat) / (h1_hat[:,None]**2+h2_hat[:,None]**2)\n",
    "    zI = (h1_hat[:,None]*z2_hat-h2_hat[:,None]*z1_hat) / (h1_hat[:,None]**2+h2_hat[:,None]**2)\n",
    "    \n",
    "#     print(\"eq>>zR =\", zR)\n",
    "#     print(\"eq>>zI =\", zI)\n",
    "    \n",
    "    outBlk = np.hstack((zR[:,1:],zI[:,1:]))\n",
    "    \n",
    "    return outBlk, h1_hat, h2_hat"
   ]
  },
  {
   "cell_type": "code",
   "execution_count": 43,
   "metadata": {},
   "outputs": [
    {
     "name": "stdout",
     "output_type": "stream",
     "text": [
      "QAM Avg. Tx Power: 2.0\n",
      "d_min: 2.0\n",
      "En: 0.5\n"
     ]
    }
   ],
   "source": [
    "qam_map = np.genfromtxt(\"./../AWGN/sphere_data/{:03d}x{:03d}_qam.csv\".format(inVecDim,encDim))\n",
    "qam_sym_pow = np.mean(np.sum(qam_map*qam_map,axis=1))\n",
    "print( \"QAM Avg. Tx Power:\", qam_sym_pow )\n",
    "\n",
    "qam_d_min = np.unique(cdist(qam_map,qam_map))[1]\n",
    "print(\"d_min:\", qam_d_min )\n",
    "\n",
    "qam_en = qam_sym_pow / (qam_d_min**2)\n",
    "print(\"En:\", qam_en)\n",
    "\n",
    "# calculate the pilot symbol\n",
    "qam_pilotSym = np.sqrt(qam_sym_pow/encDim) * np.ones(2)\n",
    "\n",
    "noisePower = qam_sym_pow * 10.0**(-SNR_range_dB/10.0)\n",
    "n0_per_comp = noisePower/(2*chDim+2)"
   ]
  },
  {
   "cell_type": "code",
   "execution_count": 44,
   "metadata": {},
   "outputs": [],
   "source": [
    "err = []\n",
    "for n0 in n0_per_comp:\n",
    "  thisErr = 0\n",
    "  thisCount = 0\n",
    "\n",
    "  while thisErr < 500 and thisCount < 5000000:\n",
    "    txSym = np.random.randint(inVecDim, size=1000)\n",
    "    symBlk = qam_map[txSym]\n",
    "    txTest = add_pilot(symBlk, qam_pilotSym)\n",
    "    rxTest, _, _ = rbf_channel(txTest, n0)\n",
    "    rxEqualized, _, _ = equalizer(rxTest, qam_pilotSym)\n",
    "    rxDecode = cdist(rxEqualized, qam_map)\n",
    "    rxSym = np.argmin(rxDecode,axis=1)\n",
    "    thisErr += np.sum(rxSym!=txSym)\n",
    "    thisCount += 1000\n",
    "  err.append(thisErr/thisCount)\n",
    "\n",
    "results_traditional[\"QAM\"] = {\n",
    "    \"en\": qam_en,\n",
    "    \"dmin\": qam_d_min,\n",
    "    \"sym_pow\": qam_sym_pow,\n",
    "    \"bler\": np.array(err)\n",
    "}"
   ]
  },
  {
   "cell_type": "code",
   "execution_count": 45,
   "metadata": {},
   "outputs": [
    {
     "name": "stdout",
     "output_type": "stream",
     "text": [
      "QAM Avg. Tx Power: 2.0\n",
      "d_min: 2.0\n",
      "En: 0.5\n",
      "Normalized Agrell Avg. Tx Power: 2.0\n"
     ]
    }
   ],
   "source": [
    "agrell_map = np.genfromtxt(\"./../AWGN/sphere_data/{:03d}x{:03d}_agrell.csv\".format(inVecDim,encDim))\n",
    "agrell_sym_pow = np.mean(np.sum(agrell_map*agrell_map,axis=1))\n",
    "print( \"QAM Avg. Tx Power:\", agrell_sym_pow )\n",
    "\n",
    "noisePower = agrell_sym_pow * 10.0**(-SNR_range_dB/10.0)\n",
    "n0_per_comp = noisePower/(2*chDim)\n",
    "\n",
    "agrell_d_min = np.unique(cdist(agrell_map,agrell_map))[1]\n",
    "print(\"d_min:\", agrell_d_min )\n",
    "\n",
    "agrell_en = agrell_sym_pow / (agrell_d_min**2)\n",
    "print(\"En:\", agrell_en)\n",
    "\n",
    "agrell_map = np.sqrt(blkSize/agrell_sym_pow) * agrell_map\n",
    "# agrell_map = np.sqrt(1.0/agrell_sym_pow) * agrell_map\n",
    "agrell_sym_pow = np.mean(np.sum(agrell_map*agrell_map,axis=1))\n",
    "print( \"Normalized Agrell Avg. Tx Power:\", agrell_sym_pow )\n",
    "\n",
    "# calculate the pilot symbol\n",
    "agrell_pilotSym = np.sqrt(agrell_sym_pow/encDim) * np.ones(2)\n",
    "# agrell_pilotSym = 10.0*np.ones(2)\n",
    "\n",
    "noisePower = agrell_sym_pow * 10.0**(-SNR_range_dB/10.0)\n",
    "n0_per_comp = noisePower/(2*chDim+2)\n",
    "# print(\"Agrell n0 =\", n0_per_comp)"
   ]
  },
  {
   "cell_type": "code",
   "execution_count": 46,
   "metadata": {},
   "outputs": [],
   "source": [
    "err = []\n",
    "for n0 in n0_per_comp:\n",
    "  thisErr = 0\n",
    "  thisCount = 0\n",
    "  while thisErr < 500 and thisCount < 5000000:\n",
    "    txSym = np.random.randint(inVecDim, size=1000)\n",
    "    symBlk = agrell_map[txSym]\n",
    "    txTest = add_pilot(symBlk, agrell_pilotSym)\n",
    "    rxTest, _, _ = rbf_channel(txTest, n0)\n",
    "    rxEqualized, _, _ = equalizer(rxTest, agrell_pilotSym)\n",
    "    rxDecode = cdist(rxEqualized, agrell_map)\n",
    "    rxSym = np.argmin(rxDecode,axis=1)\n",
    "    thisErr += np.sum(rxSym!=txSym)\n",
    "    thisCount += 1000\n",
    "  err.append(thisErr/thisCount)\n",
    "\n",
    "results_traditional[\"Agrell\"] = {\n",
    "    \"en\": agrell_en,\n",
    "    \"d_min\": agrell_d_min,\n",
    "    \"sym_pow\": agrell_sym_pow,\n",
    "    \"bler\": np.array(err)\n",
    "}"
   ]
  },
  {
   "cell_type": "markdown",
   "metadata": {},
   "source": [
    "Deep Learning models"
   ]
  },
  {
   "cell_type": "code",
   "execution_count": 47,
   "metadata": {},
   "outputs": [],
   "source": [
    "model_summary = {}\n",
    "results = {}\n",
    "\n",
    "if blkSize==8 and chDim==4:\n",
    "    model_summary = { \n",
    "        \"[4]\": \"./models_08x04/rbf_oshea_64_32_16_10dB_summary.h5\",\n",
    "        \"Proposed: Trained with (19)\": \"./models_08x04/rbf_awgn_64_32_16_n080_summary.h5\",\n",
    "        \"Proposed: Trained with (26)\": \"./models_08x04/rbf_rbf_64_32_16_n080_summary.h5\",\n",
    "    }\n",
    "elif blkSize==4 and chDim==2:\n",
    "    model_summary = {\n",
    "#         \"[4]\": \"./models_04x02/rbf_oshea_64_32_16_10dB_summary.h5\",\n",
    "#         \"Proposed: Trained with (19)\": \"./models_04x02/rbf_awgn_64_32_16_n040_summary.h5\",\n",
    "#         \"Proposed: Trained with (26)\": \"./models_04x02/rbf_rbf_64_32_16_n040_summary.h5\",\n",
    "        \n",
    "        # For PPT\n",
    "        \"Oshe'a2017\": \"./models_04x02/rbf_oshea_64_32_16_10dB_summary.h5\",\n",
    "        \"Proposed: AWGN Objective\": \"./models_04x02/rbf_awgn_64_32_16_n040_summary.h5\",\n",
    "        \"Proposed: RBF Objective\": \"./models_04x02/rbf_rbf_64_32_16_n040_summary.h5\",\n",
    "\n",
    "    }\n",
    "elif blkSize==2 and chDim==1:\n",
    "    model_summary = {\n",
    "#         \"[4]\": \"./models_02x01/rbf_oshea_64_32_16_10dB_summary.h5\",\n",
    "#         \"Proposed: Trained with (19)\": \"./models_02x01/rbf_awgn_64_32_16_n020_summary.h5\",\n",
    "#         \"Proposed: Trained with (26)\": \"./models_02x01/rbf_rbf_64_32_16_n020_summary.h5\",\n",
    "        # For PPT\n",
    "        \"Oshe'a2017\": \"./models_02x01/rbf_oshea_64_32_16_10dB_summary.h5\",\n",
    "        \"Proposed: AWGN Objective\": \"./models_02x01/rbf_awgn_64_32_16_n020_summary.h5\",\n",
    "        \"Proposed: RBF Objective\": \"./models_02x01/rbf_rbf_64_32_16_n020_summary.h5\",\n",
    "    }\n",
    "else:\n",
    "    raise NotImplementedError(\"Not implemented (blkSize={},chDim={})\".format(blkSize,chDim))"
   ]
  },
  {
   "cell_type": "code",
   "execution_count": 48,
   "metadata": {},
   "outputs": [
    {
     "name": "stdout",
     "output_type": "stream",
     "text": [
      "Oshe'a2017                                  ./models_02x01/rbf_oshea_64_32_16_10dB_summary.h5                     EXISTS\n",
      "Proposed: AWGN Objective                    ./models_02x01/rbf_awgn_64_32_16_n020_summary.h5                      EXISTS\n",
      "Proposed: RBF Objective                     ./models_02x01/rbf_rbf_64_32_16_n020_summary.h5                       EXISTS\n"
     ]
    }
   ],
   "source": [
    "import os.path\n",
    "for (model_exp, summary_file) in model_summary.items():\n",
    "    log_msg = \"{:40s}    {:70s}\".format(model_exp,summary_file)\n",
    "    if os.path.isfile(summary_file):\n",
    "        log_msg += \"EXISTS\"\n",
    "    else:\n",
    "        log_msg += \"NOT FOUND\"\n",
    "    print(log_msg)"
   ]
  },
  {
   "cell_type": "markdown",
   "metadata": {},
   "source": [
    "Load the results from summary files"
   ]
  },
  {
   "cell_type": "code",
   "execution_count": 49,
   "metadata": {},
   "outputs": [],
   "source": [
    "for (label, summary_file) in model_summary.items():\n",
    "    results[label] = pd.read_hdf(summary_file, 'table')"
   ]
  },
  {
   "cell_type": "markdown",
   "metadata": {},
   "source": [
    "Plot the results: Packing Density"
   ]
  },
  {
   "cell_type": "code",
   "execution_count": 50,
   "metadata": {},
   "outputs": [
    {
     "data": {
      "image/png": "[encoded data removed]",
      "text/plain": [
       "<Figure size 432x324 with 1 Axes>"
      ]
     },
     "metadata": {
      "needs_background": "light"
     },
     "output_type": "display_data"
    }
   ],
   "source": [
    "# colors = cycle(['b', 'g', 'c', 'r', 'm', 'y'])\n",
    "colors = cycle(['c', 'r', 'm', 'y'])\n",
    "plt.figure(figsize=(4*1.5,3*1.5))\n",
    "\n",
    "# # Plot lines for traditional methods\n",
    "# plt.plot(2*[results_traditional[\"QAM\"][\"en\"]], [0,1], linewidth=3, label=\"QAM\", color=next(colors), linestyle=\"-.\")\n",
    "# plt.plot(2*[results_traditional[\"Agrell\"][\"en\"]], [0,1], linewidth=3, label=\"Agrell\", color=next(colors), linestyle=\"-.\")\n",
    "\n",
    "for (label, result) in results.items():\n",
    "    clr = next(colors)\n",
    "    sns.distplot(result[\"en\"], label=label, color=clr,\n",
    "                 bins=100,\n",
    "                 rug=False, \n",
    "                 \n",
    "                 kde=True, \n",
    "                 kde_kws=dict(cumulative=True, \n",
    "                              linestyle=\":\" if \"Oshea\" in label or \"[1]\" in label else \"-\"),\n",
    "                 \n",
    "                 hist=False,\n",
    "                 hist_kws=dict(cumulative=True, \n",
    "                               density=True, \n",
    "                               histtype=\"step\", \n",
    "                               linestyle=\":\" if \"Oshea\" in label or \"[1]\" in label else \"-\",\n",
    "                               linewidth=2,\n",
    "                               color=clr, alpha=1.0))\n",
    "if blkSize==8 and chDim==4:\n",
    "    plt.xlim([0.97*results_traditional[\"Agrell\"][\"en\"], 3.0*results_traditional[\"Agrell\"][\"en\"]])\n",
    "elif blkSize==4 and chDim==2:\n",
    "    plt.xlim([0.90, 1.40])\n",
    "elif blkSize==2 and chDim==1:\n",
    "    plt.xlim([0.48, 0.56])\n",
    "plt.xlabel(\"$E_n$\", fontdict={'fontsize':16})\n",
    "plt.ylabel(\"CDF\", fontdict={'fontsize':16})\n",
    "plt.grid()\n",
    "plt.legend(loc='lower right', prop={'size':14})\n",
    "plt.savefig(\"output_rbf_en_{:02d}x{:02d}.pdf\".format(blkSize,chDim), format='pdf', bbox_inches='tight')"
   ]
  },
  {
   "cell_type": "markdown",
   "metadata": {},
   "source": [
    "Plot results: BLER"
   ]
  },
  {
   "cell_type": "code",
   "execution_count": 51,
   "metadata": {},
   "outputs": [
    {
     "data": {
      "image/png": "[encoded data removed]",
      "text/plain": [
       "<Figure size 432x324 with 1 Axes>"
      ]
     },
     "metadata": {
      "needs_background": "light"
     },
     "output_type": "display_data"
    }
   ],
   "source": [
    "colors = cycle(['b', 'g', 'c', 'r', 'm', 'y'])\n",
    "plt.figure(figsize=(4*1.5,3*1.5))\n",
    "\n",
    "plt.semilogy(SNR_range_dB, results_traditional[\"QAM\"][\"bler\"], label=\"QAM\", color=next(colors), linestyle=\"-.\")\n",
    "# plt.semilogy(SNR_range_dB, results_traditional[\"Agrell\"][\"bler\"], label=\"Agrell [17]\", color=next(colors), linestyle=\"-.\")\n",
    "plt.semilogy(SNR_range_dB, results_traditional[\"Agrell\"][\"bler\"], label=\"Agrell\", color=next(colors), linestyle=\"-.\")\n",
    "\n",
    "for (label, result) in results.items():\n",
    "    best_model_id = result['en'].idxmin()  # Find the model with best E_n\n",
    "    plt.semilogy(SNR_range_dB, \n",
    "                 result.loc[best_model_id][\"bler\"], \n",
    "                 label=label, color=next(colors), linewidth=2,\n",
    "                 linestyle=\":\" if \"Oshea\" in label or \"[1]\" in label else \"-\")\n",
    "plt.legend(loc=\"lower left\", prop={'size':14})\n",
    "plt.grid()\n",
    "# plt.title(\"Best observed BLER of trained models\", fontdict={'fontsize':18})\n",
    "plt.xlabel(\"SNR ($dB$)\", fontdict={'fontsize':16})\n",
    "plt.ylabel(\"BLER\", fontdict={'fontsize':16})\n",
    "plt.ylim((1e-4,1e0))\n",
    "plt.savefig(\"output_rbf_best_bler_{:02d}x{:02d}.pdf\".format(blkSize,chDim), format='pdf', bbox_inches='tight')"
   ]
  },
  {
   "cell_type": "markdown",
   "metadata": {},
   "source": [
    "Plot results: BLER with confidence"
   ]
  },
  {
   "cell_type": "code",
   "execution_count": 52,
   "metadata": {},
   "outputs": [
    {
     "data": {
      "image/png": "[encoded data removed]",
      "text/plain": [
       "<Figure size 432x324 with 1 Axes>"
      ]
     },
     "metadata": {
      "needs_background": "light"
     },
     "output_type": "display_data"
    }
   ],
   "source": [
    "colors = cycle(['b', 'g', 'c', 'r', 'm', 'y'])\n",
    "plt.figure(figsize=(4*1.5,3*1.5))\n",
    "\n",
    "plt.semilogy(SNR_range_dB, results_traditional[\"QAM\"][\"bler\"], label=\"QAM\", color=next(colors), linestyle=\"-.\")\n",
    "plt.semilogy(SNR_range_dB, results_traditional[\"Agrell\"][\"bler\"], label=\"Agrell [17]\", color=next(colors), linestyle=\"-.\")\n",
    "\n",
    "for (label, result) in results.items():\n",
    "    clr = next(colors)\n",
    "    bler_mean = result[\"bler\"].mean()\n",
    "    bler_std  = np.array(result['bler']).std()\n",
    "    plt.fill_between(SNR_range_dB, bler_mean+bler_std, bler_mean-bler_std, alpha=0.1, color=clr)\n",
    "    \n",
    "    plt.semilogy(SNR_range_dB, \n",
    "                 result[\"bler\"].mean(), \n",
    "                 label=label, color=clr, linewidth=2,\n",
    "                 linestyle=\":\" if \"Oshea\" in label or \"[1]\" in label else \"-\")\n",
    "plt.legend(loc=\"lower left\", prop={'size':14})\n",
    "plt.grid()\n",
    "# plt.title(\"Best observed BLER of trained models\", fontdict={'fontsize':18})\n",
    "plt.xlabel(\"SNR ($dB$)\", fontdict={'fontsize':16})\n",
    "plt.ylabel(\"BLER\", fontdict={'fontsize':16})\n",
    "plt.ylim((1e-4,1e0))\n",
    "plt.savefig(\"output_rbf_avg_bler_{:02d}x{:02d}.pdf\".format(blkSize,chDim), format='pdf', bbox_inches='tight')"
   ]
  },
  {
   "cell_type": "code",
   "execution_count": null,
   "metadata": {},
   "outputs": [],
   "source": []
  }
 ],
 "metadata": {
  "kernelspec": {
   "display_name": "Python 3",
   "language": "python",
   "name": "python3"
  },
  "language_info": {
   "codemirror_mode": {
    "name": "ipython",
    "version": 3
   },
   "file_extension": ".py",
   "mimetype": "text/x-python",
   "name": "python",
   "nbconvert_exporter": "python",
   "pygments_lexer": "ipython3",
   "version": "3.7.3"
  }
 },
 "nbformat": 4,
 "nbformat_minor": 4
}
