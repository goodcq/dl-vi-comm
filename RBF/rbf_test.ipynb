{
 "cells": [
  {
   "cell_type": "markdown",
   "metadata": {},
   "source": [
    "# Simulation of BLER in RBF channel"
   ]
  },
  {
   "cell_type": "code",
   "execution_count": 1,
   "metadata": {},
   "outputs": [],
   "source": [
    "import numpy as np\n",
    "import pickle\n",
    "from itertools import cycle, product\n",
    "import dill\n",
    "\n",
    "import matplotlib.pyplot as plt\n",
    "from scipy.spatial.distance import cdist"
   ]
  },
  {
   "cell_type": "markdown",
   "metadata": {},
   "source": [
    "Simulation Configuration"
   ]
  },
  {
   "cell_type": "code",
   "execution_count": 2,
   "metadata": {},
   "outputs": [],
   "source": [
    "blkSize     = 8\n",
    "chDim       = 4\n",
    "\n",
    "# Input\n",
    "inVecDim   = 2 ** blkSize  # 1-hot vector length for block\n",
    "encDim = 2*chDim\n",
    "\n",
    "SNR_range_dB = np.arange( 0.0, 40.1, 2.0 )"
   ]
  },
  {
   "cell_type": "markdown",
   "metadata": {},
   "source": [
    "Simulation Utility functions"
   ]
  },
  {
   "cell_type": "code",
   "execution_count": 3,
   "metadata": {},
   "outputs": [],
   "source": [
    "def rbf_channel(txBlk, n0):\n",
    "    N, dim = txBlk.shape\n",
    "    \n",
    "    p1 = txBlk[:,:]\n",
    "    p2 = np.hstack((-txBlk[:,dim//2:],txBlk[:,:dim//2]))\n",
    "    \n",
    "    h1 = np.sqrt(1.0/encDim) * np.random.randn(N)\n",
    "    h2 = np.sqrt(1.0/encDim) * np.random.randn(N)\n",
    "    \n",
    "    outBlk = h1[:,None]*p1 + h2[:,None]*p2 + np.random.normal(scale=np.sqrt(n0), size=txBlk.shape)\n",
    "    \n",
    "    return outBlk"
   ]
  },
  {
   "cell_type": "code",
   "execution_count": 4,
   "metadata": {},
   "outputs": [],
   "source": [
    "def add_pilot(txBlk, pilotSym):\n",
    "    blkWithPilot = np.insert(txBlk, [0,chDim], values=pilotSym, axis=1)\n",
    "    \n",
    "    return blkWithPilot"
   ]
  },
  {
   "cell_type": "code",
   "execution_count": 5,
   "metadata": {},
   "outputs": [],
   "source": [
    "def equalizer(rxBlk, pilotSym):\n",
    "    \n",
    "    N, dim = rxBlk.shape\n",
    "    \n",
    "    p1 = rxBlk[:,:]\n",
    "    p2 = np.hstack((-rxBlk[:,dim//2:],rxBlk[:,:dim//2]))\n",
    "    \n",
    "    rxPilots = rxBlk[:,[0,1+chDim]]\n",
    "    \n",
    "    h1_hat = (pilotSym[1]*rxPilots[:,1]+pilotSym[0]*rxPilots[:,0])/(pilotSym[1]**2+pilotSym[0]**2)\n",
    "    h2_hat = (pilotSym[0]*rxPilots[:,1]-pilotSym[1]*rxPilots[:,0])/(pilotSym[1]**2+pilotSym[0]**2)\n",
    "    \n",
    "    z1_hat = rxBlk[:,:dim//2]\n",
    "    z2_hat = rxBlk[:,dim//2:]\n",
    "    \n",
    "    zR = (h1_hat[:,None]*z1_hat+h2_hat[:,None]*z2_hat) / (h1_hat[:,None]**2+h2_hat[:,None]**2)\n",
    "    zI = (h1_hat[:,None]*z2_hat-h2_hat[:,None]*z1_hat) / (h1_hat[:,None]**2+h2_hat[:,None]**2)\n",
    "    \n",
    "    outBlk = np.hstack((zR[:,1:],zI[:,1:]))\n",
    "    \n",
    "    return outBlk"
   ]
  },
  {
   "cell_type": "markdown",
   "metadata": {},
   "source": [
    "To store results"
   ]
  },
  {
   "cell_type": "code",
   "execution_count": 6,
   "metadata": {},
   "outputs": [],
   "source": [
    "results = {}"
   ]
  },
  {
   "cell_type": "markdown",
   "metadata": {},
   "source": [
    "## QAM System"
   ]
  },
  {
   "cell_type": "code",
   "execution_count": 7,
   "metadata": {},
   "outputs": [
    {
     "name": "stdout",
     "output_type": "stream",
     "text": [
      "Unscaled QAM Block Avg. Tx Power: 8.0\n"
     ]
    }
   ],
   "source": [
    "qam_map_unscaled = np.array(list(map(list, product([-1.0, +1.0], repeat=blkSize))))\n",
    "qam_sym_pow_unscaled = np.mean(np.sum(qam_map_unscaled*qam_map_unscaled,axis=1))\n",
    "print( \"Unscaled QAM Block Avg. Tx Power:\", qam_sym_pow_unscaled )"
   ]
  },
  {
   "cell_type": "markdown",
   "metadata": {},
   "source": [
    "### Block Symbol power scaled to block length\n",
    "Here the whole symbol block is scaled such a way that the power of the whole block is equal to the block length ie., poewr per dimension is $1$."
   ]
  },
  {
   "cell_type": "code",
   "execution_count": 8,
   "metadata": {},
   "outputs": [
    {
     "name": "stdout",
     "output_type": "stream",
     "text": [
      "Normalized to block length QAM Avg. Tx Power: 8.0\n",
      "Pilot Signal : [1. 1.]\n"
     ]
    }
   ],
   "source": [
    "qam_map_norm = np.sqrt(blkSize/qam_sym_pow_unscaled) * qam_map_unscaled\n",
    "qam_sym_pow_norm = np.mean(np.sum(qam_map_norm*qam_map_norm,axis=1))\n",
    "print(\"Normalized to block length QAM Avg. Tx Power:\", qam_sym_pow_norm)\n",
    "\n",
    "# calculate the pilot symbol\n",
    "qam_pilot_sym_norm = np.sqrt(qam_sym_pow_norm/encDim) * np.ones(2)\n",
    "print(\"Pilot Signal :\", qam_pilot_sym_norm)"
   ]
  },
  {
   "cell_type": "markdown",
   "metadata": {},
   "source": [
    "The noise target SNR is assumed to affect the whoel block. So the noise power per component is calculated and the noise is added accordingly."
   ]
  },
  {
   "cell_type": "code",
   "execution_count": 9,
   "metadata": {},
   "outputs": [],
   "source": [
    "noisePower = qam_sym_pow_norm * 10.0**(-SNR_range_dB/10.0)\n",
    "n0_per_comp = noisePower/(2*chDim+2)\n",
    "\n",
    "err = []\n",
    "for n0 in n0_per_comp:\n",
    "  thisErr = 0\n",
    "  thisCount = 0\n",
    "  while thisErr < 500 and thisCount < 100000:\n",
    "    txSym = np.random.randint(inVecDim, size=1000)\n",
    "    symBlk = qam_map_norm[txSym]\n",
    "    txTest = add_pilot(symBlk, qam_pilot_sym_norm)\n",
    "    rxTest = rbf_channel(txTest, n0)\n",
    "    rxEqualized = equalizer(rxTest, qam_pilot_sym_norm)\n",
    "    rxDecode = cdist(rxEqualized, qam_map_norm)\n",
    "    rxSym = np.argmin(rxDecode,axis=1)\n",
    "    thisErr += np.sum(rxSym!=txSym)\n",
    "    thisCount += 1000\n",
    "  err.append(thisErr/thisCount)\n",
    "results[\"QAM (Block Power = ${:.1f}$, Pilot = ({:.2f},{:.2f}))\".format(qam_sym_pow_norm, *qam_pilot_sym_norm)] = np.array(err)"
   ]
  },
  {
   "cell_type": "markdown",
   "metadata": {},
   "source": [
    "### Block Symbol Power scaled to unit power"
   ]
  },
  {
   "cell_type": "code",
   "execution_count": 10,
   "metadata": {},
   "outputs": [
    {
     "name": "stdout",
     "output_type": "stream",
     "text": [
      "Normalized to block length QAM Avg. Tx Power: 1.0000000000000002\n"
     ]
    }
   ],
   "source": [
    "qam_map_unit = np.sqrt(1.0/qam_sym_pow_unscaled) * qam_map_unscaled\n",
    "qam_sym_pow_unit = np.mean(np.sum(qam_map_unit*qam_map_unit,axis=1))\n",
    "print( \"Normalized to block length QAM Avg. Tx Power:\", qam_sym_pow_unit )\n",
    "\n",
    "# calculate the pilot symbol\n",
    "qam_pilot_sym_unit = np.sqrt(qam_sym_pow_unit/encDim) * np.ones(2)"
   ]
  },
  {
   "cell_type": "code",
   "execution_count": 11,
   "metadata": {},
   "outputs": [],
   "source": [
    "noisePower = qam_sym_pow_unit * 10.0**(-SNR_range_dB/10.0)\n",
    "n0_per_comp = noisePower/(2*chDim+2)\n",
    "\n",
    "err = []\n",
    "for n0 in n0_per_comp:\n",
    "  thisErr = 0\n",
    "  thisCount = 0\n",
    "  while thisErr < 500 and thisCount < 100000:\n",
    "    txSym = np.random.randint(inVecDim, size=1000)\n",
    "    symBlk = qam_map_unit[txSym]\n",
    "    txTest = add_pilot(symBlk, qam_pilot_sym_unit)\n",
    "    rxTest = rbf_channel(txTest, n0)\n",
    "    rxEqualized = equalizer(rxTest, qam_pilot_sym_unit)\n",
    "    rxDecode = cdist(rxEqualized, qam_map_unit)\n",
    "    rxSym = np.argmin(rxDecode,axis=1)\n",
    "    thisErr += np.sum(rxSym!=txSym)\n",
    "    thisCount += 1000\n",
    "  err.append(thisErr/thisCount)\n",
    "results[\"QAM (Block Power = ${:.1f}$, Pilot = ({:.2f},{:.2f}))\".format(qam_sym_pow_unit, *qam_pilot_sym_unit)] = np.array(err)"
   ]
  },
  {
   "cell_type": "markdown",
   "metadata": {},
   "source": [
    "### Block Symbol Power is scaled to unit power and Pilot power is $1$ per component\n",
    "In this case, the power of pilots are high and hence they will may experience a high SNR than rest of the block."
   ]
  },
  {
   "cell_type": "code",
   "execution_count": 12,
   "metadata": {},
   "outputs": [],
   "source": [
    "qam_pilot_sym_1 = np.ones(2)\n",
    "\n",
    "noisePower = qam_sym_pow_unit * 10.0**(-SNR_range_dB/10.0)\n",
    "n0_per_comp = noisePower/(2*chDim+2)\n",
    "\n",
    "err = []\n",
    "for n0 in n0_per_comp:\n",
    "  thisErr = 0\n",
    "  thisCount = 0\n",
    "  while thisErr < 500 and thisCount < 100000:\n",
    "    txSym = np.random.randint(inVecDim, size=1000)\n",
    "    symBlk = qam_map_unit[txSym]\n",
    "    txTest = add_pilot(symBlk, qam_pilot_sym_1)\n",
    "    rxTest = rbf_channel(txTest, n0)\n",
    "    rxEqualized = equalizer(rxTest, qam_pilot_sym_1)\n",
    "    rxDecode = cdist(rxEqualized, qam_map_unit)\n",
    "    rxSym = np.argmin(rxDecode,axis=1)\n",
    "    thisErr += np.sum(rxSym!=txSym)\n",
    "    thisCount += 1000\n",
    "  err.append(thisErr/thisCount)\n",
    "results[\"QAM (Block Power = ${:.1f}$, Pilot = ({:.2f},{:.2f}))\".format(qam_sym_pow_unit, *qam_pilot_sym_1)] = np.array(err)"
   ]
  },
  {
   "cell_type": "markdown",
   "metadata": {},
   "source": [
    "## Agrell"
   ]
  },
  {
   "cell_type": "code",
   "execution_count": 13,
   "metadata": {},
   "outputs": [],
   "source": [
    "agrell_map_unscaled = []\n",
    "if blkSize==2 and chDim==1:\n",
    "    agrell_map_unscaled = np.array([\n",
    "        [ -1.0, -1.0 ],\n",
    "        [ -1.0, 1.0 ],\n",
    "        [ 1.0, -1.0 ],\n",
    "        [ 1.0, 1.0 ]\n",
    "    ])\n",
    "elif blkSize==4 and chDim==2:\n",
    "    agrell_map_unscaled = np.array([\n",
    "        [2.148934030042627, 0.0, 0.0, 0.0],\n",
    "        [0.7347204676695321, 1.4142135623730951, 0.0, 0.0],\n",
    "        [0.7347204676695321, -1.4142135623730951, 0.0, 0.0],\n",
    "        [0.7347204676695321, 0.0, 1.4142135623730951, 0.0],\n",
    "        [0.7347204676695321, 0.0, -1.4142135623730951, 0.0],\n",
    "        [0.7347204676695321, 0.0, 0.0, 1.4142135623730951],\n",
    "        [0.7347204676695321, 0.0, 0.0, -1.4142135623730951],\n",
    "        [-0.6174729817844246, 1.0, 1.0, 1.0],\n",
    "        [-0.6174729817844246, 1.0, 1.0, -1.0],\n",
    "        [-0.6174729817844246, 1.0, -1.0, 1.0],\n",
    "        [-0.6174729817844246, 1.0, -1.0, -1.0],\n",
    "        [-0.6174729817844246, -1.0, 1.0, 1.0],\n",
    "        [-0.6174729817844246, -1.0, 1.0, -1.0],\n",
    "        [-0.6174729817844246, -1.0, -1.0, 1.0],\n",
    "        [-0.6174729817844246, -1.0, -1.0, -1.0],\n",
    "        [-1.6174729817844242, 0.0, 0.0, 0.0]\n",
    "    ])\n",
    "elif blkSize==8 and chDim==4:\n",
    "    agrell_map_unscaled = np.array([\n",
    "        [ -256.0, -256.0, 8.0, -8.0, -8.0, 14.0, 11.0, -11.0 ],\n",
    "        [ -256.0, 0.0, -248.0, -8.0, -8.0, 14.0, 11.0, -11.0 ],\n",
    "        [ -256.0, 0.0, 8.0, -264.0, -8.0, 14.0, 11.0, -11.0 ],\n",
    "        [ -256.0, 0.0, 8.0, -8.0, -264.0, 14.0, 11.0, -11.0 ],\n",
    "        [ -256.0, 0.0, 8.0, -8.0, -8.0, -242.0, 11.0, -11.0 ],\n",
    "        [ -256.0, 0.0, 8.0, -8.0, -8.0, 14.0, -245.0, -11.0 ],\n",
    "        [ -256.0, 0.0, 8.0, -8.0, -8.0, 14.0, 11.0, -267.0 ],\n",
    "        [ -256.0, 0.0, 8.0, -8.0, -8.0, 14.0, 11.0, 245.0 ],\n",
    "        [ -256.0, 0.0, 8.0, -8.0, -8.0, 14.0, 267.0, -11.0 ],\n",
    "        [ -256.0, 0.0, 8.0, -8.0, -8.0, 270.0, 11.0, -11.0 ],\n",
    "        [ -256.0, 0.0, 8.0, -8.0, 248.0, 14.0, 11.0, -11.0 ],\n",
    "        [ -256.0, 0.0, 8.0, 248.0, -8.0, 14.0, 11.0, -11.0 ],\n",
    "        [ -256.0, 0.0, 264.0, -8.0, -8.0, 14.0, 11.0, -11.0 ],\n",
    "        [ -256.0, 256.0, 8.0, -8.0, -8.0, 14.0, 11.0, -11.0 ],\n",
    "        [ -128.0, -128.0, -120.0, -136.0, -136.0, -114.0, -117.0, -139.0 ],\n",
    "        [ -128.0, -128.0, -120.0, -136.0, -136.0, -114.0, 139.0, 117.0 ],\n",
    "        [ -128.0, -128.0, -120.0, -136.0, -136.0, 142.0, -117.0, 117.0 ],\n",
    "        [ -128.0, -128.0, -120.0, -136.0, -136.0, 142.0, 139.0, -139.0 ],\n",
    "        [ -128.0, -128.0, -120.0, -136.0, 120.0, -114.0, -117.0, 117.0 ],\n",
    "        [ -128.0, -128.0, -120.0, -136.0, 120.0, -114.0, 139.0, -139.0 ],\n",
    "        [ -128.0, -128.0, -120.0, -136.0, 120.0, 142.0, -117.0, -139.0 ],\n",
    "        [ -128.0, -128.0, -120.0, -136.0, 120.0, 142.0, 139.0, 117.0 ],\n",
    "        [ -128.0, -128.0, -120.0, 120.0, -136.0, -114.0, -117.0, 117.0 ],\n",
    "        [ -128.0, -128.0, -120.0, 120.0, -136.0, -114.0, 139.0, -139.0 ],\n",
    "        [ -128.0, -128.0, -120.0, 120.0, -136.0, 142.0, -117.0, -139.0 ],\n",
    "        [ -128.0, -128.0, -120.0, 120.0, -136.0, 142.0, 139.0, 117.0 ],\n",
    "        [ -128.0, -128.0, -120.0, 120.0, 120.0, -370.0, -117.0, 117.0 ],\n",
    "        [ -128.0, -128.0, -120.0, 120.0, 120.0, -114.0, -373.0, 117.0 ],\n",
    "        [ -128.0, -128.0, -120.0, 120.0, 120.0, -114.0, -117.0, -139.0 ],\n",
    "        [ -128.0, -128.0, -120.0, 120.0, 120.0, -114.0, -117.0, 373.0 ],\n",
    "        [ -128.0, -128.0, -120.0, 120.0, 120.0, -114.0, 139.0, 117.0 ],\n",
    "        [ -128.0, -128.0, -120.0, 120.0, 120.0, 142.0, -117.0, 117.0 ],\n",
    "        [ -128.0, -128.0, -120.0, 120.0, 120.0, 142.0, 139.0, -139.0 ],\n",
    "        [ -128.0, -128.0, 136.0, -136.0, -136.0, -114.0, -117.0, 117.0 ],\n",
    "        [ -128.0, -128.0, 136.0, -136.0, -136.0, -114.0, 139.0, -139.0 ],\n",
    "        [ -128.0, -128.0, 136.0, -136.0, -136.0, 142.0, -117.0, -139.0 ],\n",
    "        [ -128.0, -128.0, 136.0, -136.0, -136.0, 142.0, 139.0, 117.0 ],\n",
    "        [ -128.0, -128.0, 136.0, -136.0, 120.0, -114.0, -117.0, -139.0 ],\n",
    "        [ -128.0, -128.0, 136.0, -136.0, 120.0, -114.0, 139.0, 117.0 ],\n",
    "        [ -128.0, -128.0, 136.0, -136.0, 120.0, 142.0, -117.0, 117.0 ],\n",
    "        [ -128.0, -128.0, 136.0, -136.0, 120.0, 142.0, 139.0, -139.0 ],\n",
    "        [ -128.0, -128.0, 136.0, 120.0, -136.0, -114.0, -117.0, -139.0 ],\n",
    "        [ -128.0, -128.0, 136.0, 120.0, -136.0, -114.0, 139.0, 117.0 ],\n",
    "        [ -128.0, -128.0, 136.0, 120.0, -136.0, 142.0, -117.0, 117.0 ],\n",
    "        [ -128.0, -128.0, 136.0, 120.0, -136.0, 142.0, 139.0, -139.0 ],\n",
    "        [ -128.0, -128.0, 136.0, 120.0, 120.0, -114.0, -117.0, 117.0 ],\n",
    "        [ -128.0, -128.0, 136.0, 120.0, 120.0, -114.0, 139.0, -139.0 ],\n",
    "        [ -128.0, -128.0, 136.0, 120.0, 120.0, 142.0, -117.0, -139.0 ],\n",
    "        [ -128.0, -128.0, 136.0, 120.0, 120.0, 142.0, 139.0, 117.0 ],\n",
    "        [ -128.0, 128.0, -120.0, -136.0, -136.0, -114.0, -117.0, 117.0 ],\n",
    "        [ -128.0, 128.0, -120.0, -136.0, -136.0, -114.0, 139.0, -139.0 ],\n",
    "        [ -128.0, 128.0, -120.0, -136.0, -136.0, 142.0, -117.0, -139.0 ],\n",
    "        [ -128.0, 128.0, -120.0, -136.0, -136.0, 142.0, 139.0, 117.0 ],\n",
    "        [ -128.0, 128.0, -120.0, -136.0, 120.0, -114.0, -117.0, -139.0 ],\n",
    "        [ -128.0, 128.0, -120.0, -136.0, 120.0, -114.0, 139.0, 117.0 ],\n",
    "        [ -128.0, 128.0, -120.0, -136.0, 120.0, 142.0, -117.0, 117.0 ],\n",
    "        [ -128.0, 128.0, -120.0, -136.0, 120.0, 142.0, 139.0, -139.0 ],\n",
    "        [ -128.0, 128.0, -120.0, 120.0, -136.0, -114.0, -117.0, -139.0 ],\n",
    "        [ -128.0, 128.0, -120.0, 120.0, -136.0, -114.0, 139.0, 117.0 ],\n",
    "        [ -128.0, 128.0, -120.0, 120.0, -136.0, 142.0, -117.0, 117.0 ],\n",
    "        [ -128.0, 128.0, -120.0, 120.0, -136.0, 142.0, 139.0, -139.0 ],\n",
    "        [ -128.0, 128.0, -120.0, 120.0, 120.0, -114.0, -117.0, 117.0 ],\n",
    "        [ -128.0, 128.0, -120.0, 120.0, 120.0, -114.0, 139.0, -139.0 ],\n",
    "        [ -128.0, 128.0, -120.0, 120.0, 120.0, 142.0, -117.0, -139.0 ],\n",
    "        [ -128.0, 128.0, -120.0, 120.0, 120.0, 142.0, 139.0, 117.0 ],\n",
    "        [ -128.0, 128.0, 136.0, -136.0, -136.0, -114.0, -117.0, -139.0 ],\n",
    "        [ -128.0, 128.0, 136.0, -136.0, -136.0, -114.0, 139.0, 117.0 ],\n",
    "        [ -128.0, 128.0, 136.0, -136.0, -136.0, 142.0, -117.0, 117.0 ],\n",
    "        [ -128.0, 128.0, 136.0, -136.0, -136.0, 142.0, 139.0, -139.0 ],\n",
    "        [ -128.0, 128.0, 136.0, -136.0, 120.0, -114.0, -117.0, 117.0 ],\n",
    "        [ -128.0, 128.0, 136.0, -136.0, 120.0, -114.0, 139.0, -139.0 ],\n",
    "        [ -128.0, 128.0, 136.0, -136.0, 120.0, 142.0, -117.0, -139.0 ],\n",
    "        [ -128.0, 128.0, 136.0, -136.0, 120.0, 142.0, 139.0, 117.0 ],\n",
    "        [ -128.0, 128.0, 136.0, 120.0, -136.0, -114.0, -117.0, 117.0 ],\n",
    "        [ -128.0, 128.0, 136.0, 120.0, -136.0, -114.0, 139.0, -139.0 ],\n",
    "        [ -128.0, 128.0, 136.0, 120.0, -136.0, 142.0, -117.0, -139.0 ],\n",
    "        [ -128.0, 128.0, 136.0, 120.0, -136.0, 142.0, 139.0, 117.0 ],\n",
    "        [ -128.0, 128.0, 136.0, 120.0, 120.0, -114.0, -117.0, -139.0 ],\n",
    "        [ -128.0, 128.0, 136.0, 120.0, 120.0, -114.0, 139.0, 117.0 ],\n",
    "        [ -128.0, 128.0, 136.0, 120.0, 120.0, 142.0, -117.0, 117.0 ],\n",
    "        [ -128.0, 128.0, 136.0, 120.0, 120.0, 142.0, 139.0, -139.0 ],\n",
    "        [ 0.0, -256.0, -248.0, -8.0, -8.0, 14.0, 11.0, -11.0 ],\n",
    "        [ 0.0, -256.0, 8.0, -264.0, -8.0, 14.0, 11.0, -11.0 ],\n",
    "        [ 0.0, -256.0, 8.0, -8.0, -264.0, 14.0, 11.0, -11.0 ],\n",
    "        [ 0.0, -256.0, 8.0, -8.0, -8.0, -242.0, 11.0, -11.0 ],\n",
    "        [ 0.0, -256.0, 8.0, -8.0, -8.0, 14.0, -245.0, -11.0 ],\n",
    "        [ 0.0, -256.0, 8.0, -8.0, -8.0, 14.0, 11.0, -267.0 ],\n",
    "        [ 0.0, -256.0, 8.0, -8.0, -8.0, 14.0, 11.0, 245.0 ],\n",
    "        [ 0.0, -256.0, 8.0, -8.0, -8.0, 14.0, 267.0, -11.0 ],\n",
    "        [ 0.0, -256.0, 8.0, -8.0, -8.0, 270.0, 11.0, -11.0 ],\n",
    "        [ 0.0, -256.0, 8.0, -8.0, 248.0, 14.0, 11.0, -11.0 ],\n",
    "        [ 0.0, -256.0, 8.0, 248.0, -8.0, 14.0, 11.0, -11.0 ],\n",
    "        [ 0.0, -256.0, 264.0, -8.0, -8.0, 14.0, 11.0, -11.0 ],\n",
    "        [ 0.0, 0.0, -248.0, -264.0, -8.0, 14.0, 11.0, -11.0 ],\n",
    "        [ 0.0, 0.0, -248.0, -8.0, -264.0, 14.0, 11.0, -11.0 ],\n",
    "        [ 0.0, 0.0, -248.0, -8.0, -8.0, -242.0, -245.0, 245.0 ],\n",
    "        [ 0.0, 0.0, -248.0, -8.0, -8.0, -242.0, 11.0, -11.0 ],\n",
    "        [ 0.0, 0.0, -248.0, -8.0, -8.0, 14.0, -245.0, -11.0 ],\n",
    "        [ 0.0, 0.0, -248.0, -8.0, -8.0, 14.0, 11.0, -267.0 ],\n",
    "        [ 0.0, 0.0, -248.0, -8.0, -8.0, 14.0, 11.0, 245.0 ],\n",
    "        [ 0.0, 0.0, -248.0, -8.0, -8.0, 14.0, 267.0, -11.0 ],\n",
    "        [ 0.0, 0.0, -248.0, -8.0, -8.0, 270.0, 11.0, -11.0 ],\n",
    "        [ 0.0, 0.0, -248.0, -8.0, 248.0, -242.0, -245.0, -11.0 ],\n",
    "        [ 0.0, 0.0, -248.0, -8.0, 248.0, -242.0, 11.0, 245.0 ],\n",
    "        [ 0.0, 0.0, -248.0, -8.0, 248.0, 14.0, 11.0, -11.0 ],\n",
    "        [ 0.0, 0.0, -248.0, 248.0, -8.0, -242.0, -245.0, -11.0 ],\n",
    "        [ 0.0, 0.0, -248.0, 248.0, -8.0, -242.0, 11.0, 245.0 ],\n",
    "        [ 0.0, 0.0, -248.0, 248.0, -8.0, 14.0, 11.0, -11.0 ],\n",
    "        [ 0.0, 0.0, 8.0, -264.0, -264.0, 14.0, 11.0, -11.0 ],\n",
    "        [ 0.0, 0.0, 8.0, -264.0, -8.0, -242.0, 11.0, -11.0 ],\n",
    "        [ 0.0, 0.0, 8.0, -264.0, -8.0, 14.0, -245.0, -11.0 ],\n",
    "        [ 0.0, 0.0, 8.0, -264.0, -8.0, 14.0, 11.0, -267.0 ],\n",
    "        [ 0.0, 0.0, 8.0, -264.0, -8.0, 14.0, 11.0, 245.0 ],\n",
    "        [ 0.0, 0.0, 8.0, -264.0, -8.0, 14.0, 267.0, -11.0 ],\n",
    "        [ 0.0, 0.0, 8.0, -264.0, -8.0, 270.0, 11.0, -11.0 ],\n",
    "        [ 0.0, 0.0, 8.0, -264.0, 248.0, 14.0, 11.0, -11.0 ],\n",
    "        [ 0.0, 0.0, 8.0, -8.0, -264.0, -242.0, 11.0, -11.0 ],\n",
    "        [ 0.0, 0.0, 8.0, -8.0, -264.0, 14.0, -245.0, -11.0 ],\n",
    "        [ 0.0, 0.0, 8.0, -8.0, -264.0, 14.0, 11.0, -267.0 ],\n",
    "        [ 0.0, 0.0, 8.0, -8.0, -264.0, 14.0, 11.0, 245.0 ],\n",
    "        [ 0.0, 0.0, 8.0, -8.0, -264.0, 14.0, 267.0, -11.0 ],\n",
    "        [ 0.0, 0.0, 8.0, -8.0, -264.0, 270.0, 11.0, -11.0 ],\n",
    "        [ 0.0, 0.0, 8.0, -8.0, -8.0, -242.0, -245.0, -11.0 ],\n",
    "        [ 0.0, 0.0, 8.0, -8.0, -8.0, -242.0, 11.0, -267.0 ],\n",
    "        [ 0.0, 0.0, 8.0, -8.0, -8.0, -242.0, 11.0, 245.0 ],\n",
    "        [ 0.0, 0.0, 8.0, -8.0, -8.0, -242.0, 267.0, -11.0 ],\n",
    "        [ 0.0, 0.0, 8.0, -8.0, -8.0, 14.0, -245.0, -267.0 ],\n",
    "        [ 0.0, 0.0, 8.0, -8.0, -8.0, 14.0, -245.0, 245.0 ],\n",
    "        [ 0.0, 0.0, 8.0, -8.0, -8.0, 14.0, 11.0, -11.0 ],\n",
    "        [ 0.0, 0.0, 8.0, -8.0, -8.0, 14.0, 267.0, -267.0 ],\n",
    "        [ 0.0, 0.0, 8.0, -8.0, -8.0, 14.0, 267.0, 245.0 ],\n",
    "        [ 0.0, 0.0, 8.0, -8.0, -8.0, 270.0, -245.0, -11.0 ],\n",
    "        [ 0.0, 0.0, 8.0, -8.0, -8.0, 270.0, 11.0, -267.0 ],\n",
    "        [ 0.0, 0.0, 8.0, -8.0, -8.0, 270.0, 11.0, 245.0 ],\n",
    "        [ 0.0, 0.0, 8.0, -8.0, -8.0, 270.0, 267.0, -11.0 ],\n",
    "        [ 0.0, 0.0, 8.0, -8.0, 248.0, -242.0, -245.0, 245.0 ],\n",
    "        [ 0.0, 0.0, 8.0, -8.0, 248.0, -242.0, 11.0, -11.0 ],\n",
    "        [ 0.0, 0.0, 8.0, -8.0, 248.0, 14.0, -245.0, -11.0 ],\n",
    "        [ 0.0, 0.0, 8.0, -8.0, 248.0, 14.0, 11.0, -267.0 ],\n",
    "        [ 0.0, 0.0, 8.0, -8.0, 248.0, 14.0, 11.0, 245.0 ],\n",
    "        [ 0.0, 0.0, 8.0, -8.0, 248.0, 14.0, 267.0, -11.0 ],\n",
    "        [ 0.0, 0.0, 8.0, -8.0, 248.0, 270.0, 11.0, -11.0 ],\n",
    "        [ 0.0, 0.0, 8.0, 248.0, -264.0, 14.0, 11.0, -11.0 ],\n",
    "        [ 0.0, 0.0, 8.0, 248.0, -8.0, -242.0, -245.0, 245.0 ],\n",
    "        [ 0.0, 0.0, 8.0, 248.0, -8.0, -242.0, 11.0, -11.0 ],\n",
    "        [ 0.0, 0.0, 8.0, 248.0, -8.0, 14.0, -245.0, -11.0 ],\n",
    "        [ 0.0, 0.0, 8.0, 248.0, -8.0, 14.0, 11.0, -267.0 ],\n",
    "        [ 0.0, 0.0, 8.0, 248.0, -8.0, 14.0, 11.0, 245.0 ],\n",
    "        [ 0.0, 0.0, 8.0, 248.0, -8.0, 14.0, 267.0, -11.0 ],\n",
    "        [ 0.0, 0.0, 8.0, 248.0, -8.0, 270.0, 11.0, -11.0 ],\n",
    "        [ 0.0, 0.0, 8.0, 248.0, 248.0, -242.0, -245.0, -11.0 ],\n",
    "        [ 0.0, 0.0, 8.0, 248.0, 248.0, -242.0, 11.0, 245.0 ],\n",
    "        [ 0.0, 0.0, 8.0, 248.0, 248.0, 14.0, 11.0, -11.0 ],\n",
    "        [ 0.0, 0.0, 264.0, -264.0, -8.0, 14.0, 11.0, -11.0 ],\n",
    "        [ 0.0, 0.0, 264.0, -8.0, -264.0, 14.0, 11.0, -11.0 ],\n",
    "        [ 0.0, 0.0, 264.0, -8.0, -8.0, -242.0, 11.0, -11.0 ],\n",
    "        [ 0.0, 0.0, 264.0, -8.0, -8.0, 14.0, -245.0, -11.0 ],\n",
    "        [ 0.0, 0.0, 264.0, -8.0, -8.0, 14.0, 11.0, -267.0 ],\n",
    "        [ 0.0, 0.0, 264.0, -8.0, -8.0, 14.0, 11.0, 245.0 ],\n",
    "        [ 0.0, 0.0, 264.0, -8.0, -8.0, 14.0, 267.0, -11.0 ],\n",
    "        [ 0.0, 0.0, 264.0, -8.0, -8.0, 270.0, 11.0, -11.0 ],\n",
    "        [ 0.0, 0.0, 264.0, -8.0, 248.0, 14.0, 11.0, -11.0 ],\n",
    "        [ 0.0, 0.0, 264.0, 248.0, -8.0, 14.0, 11.0, -11.0 ],\n",
    "        [ 0.0, 256.0, -248.0, -8.0, -8.0, 14.0, 11.0, -11.0 ],\n",
    "        [ 0.0, 256.0, 8.0, -264.0, -8.0, 14.0, 11.0, -11.0 ],\n",
    "        [ 0.0, 256.0, 8.0, -8.0, -264.0, 14.0, 11.0, -11.0 ],\n",
    "        [ 0.0, 256.0, 8.0, -8.0, -8.0, -242.0, 11.0, -11.0 ],\n",
    "        [ 0.0, 256.0, 8.0, -8.0, -8.0, 14.0, -245.0, -11.0 ],\n",
    "        [ 0.0, 256.0, 8.0, -8.0, -8.0, 14.0, 11.0, -267.0 ],\n",
    "        [ 0.0, 256.0, 8.0, -8.0, -8.0, 14.0, 11.0, 245.0 ],\n",
    "        [ 0.0, 256.0, 8.0, -8.0, -8.0, 14.0, 267.0, -11.0 ],\n",
    "        [ 0.0, 256.0, 8.0, -8.0, -8.0, 270.0, 11.0, -11.0 ],\n",
    "        [ 0.0, 256.0, 8.0, -8.0, 248.0, 14.0, 11.0, -11.0 ],\n",
    "        [ 0.0, 256.0, 8.0, 248.0, -8.0, 14.0, 11.0, -11.0 ],\n",
    "        [ 0.0, 256.0, 264.0, -8.0, -8.0, 14.0, 11.0, -11.0 ],\n",
    "        [ 128.0, -128.0, -120.0, -136.0, -136.0, -114.0, -117.0, 117.0 ],\n",
    "        [ 128.0, -128.0, -120.0, -136.0, -136.0, -114.0, 139.0, -139.0 ],\n",
    "        [ 128.0, -128.0, -120.0, -136.0, -136.0, 142.0, -117.0, -139.0 ],\n",
    "        [ 128.0, -128.0, -120.0, -136.0, -136.0, 142.0, 139.0, 117.0 ],\n",
    "        [ 128.0, -128.0, -120.0, -136.0, 120.0, -114.0, -117.0, -139.0 ],\n",
    "        [ 128.0, -128.0, -120.0, -136.0, 120.0, -114.0, 139.0, 117.0 ],\n",
    "        [ 128.0, -128.0, -120.0, -136.0, 120.0, 142.0, -117.0, 117.0 ],\n",
    "        [ 128.0, -128.0, -120.0, -136.0, 120.0, 142.0, 139.0, -139.0 ],\n",
    "        [ 128.0, -128.0, -120.0, 120.0, -136.0, -114.0, -117.0, -139.0 ],\n",
    "        [ 128.0, -128.0, -120.0, 120.0, -136.0, -114.0, 139.0, 117.0 ],\n",
    "        [ 128.0, -128.0, -120.0, 120.0, -136.0, 142.0, -117.0, 117.0 ],\n",
    "        [ 128.0, -128.0, -120.0, 120.0, -136.0, 142.0, 139.0, -139.0 ],\n",
    "        [ 128.0, -128.0, -120.0, 120.0, 120.0, -114.0, -117.0, 117.0 ],\n",
    "        [ 128.0, -128.0, -120.0, 120.0, 120.0, -114.0, 139.0, -139.0 ],\n",
    "        [ 128.0, -128.0, -120.0, 120.0, 120.0, 142.0, -117.0, -139.0 ],\n",
    "        [ 128.0, -128.0, -120.0, 120.0, 120.0, 142.0, 139.0, 117.0 ],\n",
    "        [ 128.0, -128.0, 136.0, -136.0, -136.0, -114.0, -117.0, -139.0 ],\n",
    "        [ 128.0, -128.0, 136.0, -136.0, -136.0, -114.0, 139.0, 117.0 ],\n",
    "        [ 128.0, -128.0, 136.0, -136.0, -136.0, 142.0, -117.0, 117.0 ],\n",
    "        [ 128.0, -128.0, 136.0, -136.0, -136.0, 142.0, 139.0, -139.0 ],\n",
    "        [ 128.0, -128.0, 136.0, -136.0, 120.0, -114.0, -117.0, 117.0 ],\n",
    "        [ 128.0, -128.0, 136.0, -136.0, 120.0, -114.0, 139.0, -139.0 ],\n",
    "        [ 128.0, -128.0, 136.0, -136.0, 120.0, 142.0, -117.0, -139.0 ],\n",
    "        [ 128.0, -128.0, 136.0, -136.0, 120.0, 142.0, 139.0, 117.0 ],\n",
    "        [ 128.0, -128.0, 136.0, 120.0, -136.0, -114.0, -117.0, 117.0 ],\n",
    "        [ 128.0, -128.0, 136.0, 120.0, -136.0, -114.0, 139.0, -139.0 ],\n",
    "        [ 128.0, -128.0, 136.0, 120.0, -136.0, 142.0, -117.0, -139.0 ],\n",
    "        [ 128.0, -128.0, 136.0, 120.0, -136.0, 142.0, 139.0, 117.0 ],\n",
    "        [ 128.0, -128.0, 136.0, 120.0, 120.0, -114.0, -117.0, -139.0 ],\n",
    "        [ 128.0, -128.0, 136.0, 120.0, 120.0, -114.0, 139.0, 117.0 ],\n",
    "        [ 128.0, -128.0, 136.0, 120.0, 120.0, 142.0, -117.0, 117.0 ],\n",
    "        [ 128.0, -128.0, 136.0, 120.0, 120.0, 142.0, 139.0, -139.0 ],\n",
    "        [ 128.0, 128.0, -120.0, -136.0, -136.0, -114.0, -117.0, -139.0 ],\n",
    "        [ 128.0, 128.0, -120.0, -136.0, -136.0, -114.0, 139.0, 117.0 ],\n",
    "        [ 128.0, 128.0, -120.0, -136.0, -136.0, 142.0, -117.0, 117.0 ],\n",
    "        [ 128.0, 128.0, -120.0, -136.0, -136.0, 142.0, 139.0, -139.0 ],\n",
    "        [ 128.0, 128.0, -120.0, -136.0, 120.0, -114.0, -117.0, 117.0 ],\n",
    "        [ 128.0, 128.0, -120.0, -136.0, 120.0, -114.0, 139.0, -139.0 ],\n",
    "        [ 128.0, 128.0, -120.0, -136.0, 120.0, 142.0, -117.0, -139.0 ],\n",
    "        [ 128.0, 128.0, -120.0, -136.0, 120.0, 142.0, 139.0, 117.0 ],\n",
    "        [ 128.0, 128.0, -120.0, 120.0, -136.0, -114.0, -117.0, 117.0 ],\n",
    "        [ 128.0, 128.0, -120.0, 120.0, -136.0, -114.0, 139.0, -139.0 ],\n",
    "        [ 128.0, 128.0, -120.0, 120.0, -136.0, 142.0, -117.0, -139.0 ],\n",
    "        [ 128.0, 128.0, -120.0, 120.0, -136.0, 142.0, 139.0, 117.0 ],\n",
    "        [ 128.0, 128.0, -120.0, 120.0, 120.0, -370.0, -117.0, 117.0 ],\n",
    "        [ 128.0, 128.0, -120.0, 120.0, 120.0, -114.0, -373.0, 117.0 ],\n",
    "        [ 128.0, 128.0, -120.0, 120.0, 120.0, -114.0, -117.0, -139.0 ],\n",
    "        [ 128.0, 128.0, -120.0, 120.0, 120.0, -114.0, -117.0, 373.0 ],\n",
    "        [ 128.0, 128.0, -120.0, 120.0, 120.0, -114.0, 139.0, 117.0 ],\n",
    "        [ 128.0, 128.0, -120.0, 120.0, 120.0, 142.0, -117.0, 117.0 ],\n",
    "        [ 128.0, 128.0, -120.0, 120.0, 120.0, 142.0, 139.0, -139.0 ],\n",
    "        [ 128.0, 128.0, 136.0, -136.0, -136.0, -114.0, -117.0, 117.0 ],\n",
    "        [ 128.0, 128.0, 136.0, -136.0, -136.0, -114.0, 139.0, -139.0 ],\n",
    "        [ 128.0, 128.0, 136.0, -136.0, -136.0, 142.0, -117.0, -139.0 ],\n",
    "        [ 128.0, 128.0, 136.0, -136.0, -136.0, 142.0, 139.0, 117.0 ],\n",
    "        [ 128.0, 128.0, 136.0, -136.0, 120.0, -114.0, -117.0, -139.0 ],\n",
    "        [ 128.0, 128.0, 136.0, -136.0, 120.0, -114.0, 139.0, 117.0 ],\n",
    "        [ 128.0, 128.0, 136.0, -136.0, 120.0, 142.0, -117.0, 117.0 ],\n",
    "        [ 128.0, 128.0, 136.0, -136.0, 120.0, 142.0, 139.0, -139.0 ],\n",
    "        [ 128.0, 128.0, 136.0, 120.0, -136.0, -114.0, -117.0, -139.0 ],\n",
    "        [ 128.0, 128.0, 136.0, 120.0, -136.0, -114.0, 139.0, 117.0 ],\n",
    "        [ 128.0, 128.0, 136.0, 120.0, -136.0, 142.0, -117.0, 117.0 ],\n",
    "        [ 128.0, 128.0, 136.0, 120.0, -136.0, 142.0, 139.0, -139.0 ],\n",
    "        [ 128.0, 128.0, 136.0, 120.0, 120.0, -114.0, -117.0, 117.0 ],\n",
    "        [ 128.0, 128.0, 136.0, 120.0, 120.0, -114.0, 139.0, -139.0 ],\n",
    "        [ 128.0, 128.0, 136.0, 120.0, 120.0, 142.0, -117.0, -139.0 ],\n",
    "        [ 128.0, 128.0, 136.0, 120.0, 120.0, 142.0, 139.0, 117.0 ],\n",
    "        [ 256.0, -256.0, 8.0, -8.0, -8.0, 14.0, 11.0, -11.0 ],\n",
    "        [ 256.0, 0.0, -248.0, -8.0, -8.0, 14.0, 11.0, -11.0 ],\n",
    "        [ 256.0, 0.0, 8.0, -264.0, -8.0, 14.0, 11.0, -11.0 ],\n",
    "        [ 256.0, 0.0, 8.0, -8.0, -264.0, 14.0, 11.0, -11.0 ],\n",
    "        [ 256.0, 0.0, 8.0, -8.0, -8.0, -242.0, 11.0, -11.0 ],\n",
    "        [ 256.0, 0.0, 8.0, -8.0, -8.0, 14.0, -245.0, -11.0 ],\n",
    "        [ 256.0, 0.0, 8.0, -8.0, -8.0, 14.0, 11.0, -267.0 ],\n",
    "        [ 256.0, 0.0, 8.0, -8.0, -8.0, 14.0, 11.0, 245.0 ],\n",
    "        [ 256.0, 0.0, 8.0, -8.0, -8.0, 14.0, 267.0, -11.0 ],\n",
    "        [ 256.0, 0.0, 8.0, -8.0, -8.0, 270.0, 11.0, -11.0 ],\n",
    "        [ 256.0, 0.0, 8.0, -8.0, 248.0, 14.0, 11.0, -11.0 ],\n",
    "        [ 256.0, 0.0, 8.0, 248.0, -8.0, 14.0, 11.0, -11.0 ],\n",
    "        [ 256.0, 0.0, 264.0, -8.0, -8.0, 14.0, 11.0, -11.0 ],\n",
    "        [ 256.0, 256.0, 8.0, -8.0, -8.0, 14.0, 11.0, -11.0 ] ])\n",
    "else:\n",
    "    raise NotImplementedError(\"Not implemented (blkSize={},chDim={})\".format(blkSize,chDim))"
   ]
  },
  {
   "cell_type": "markdown",
   "metadata": {},
   "source": [
    "### Block Symbol Power scaled to block length"
   ]
  },
  {
   "cell_type": "code",
   "execution_count": 14,
   "metadata": {},
   "outputs": [
    {
     "name": "stdout",
     "output_type": "stream",
     "text": [
      "Unscaled Agrell Avg. Tx Power: 137610.0\n",
      "Normalized Agrell Avg. Tx Power: 7.999999999999997\n"
     ]
    }
   ],
   "source": [
    "agrell_sym_pow_unscaled = np.mean(np.sum(agrell_map_unscaled*agrell_map_unscaled,axis=1))\n",
    "print( \"Unscaled Agrell Avg. Tx Power:\", agrell_sym_pow_unscaled )\n",
    "\n",
    "agrell_map_norm = np.sqrt(blkSize/agrell_sym_pow_unscaled) * agrell_map_unscaled\n",
    "agrell_sym_pow_norm = np.mean(np.sum(agrell_map_norm*agrell_map_norm,axis=1))\n",
    "print( \"Normalized Agrell Avg. Tx Power:\", agrell_sym_pow_norm )\n",
    "\n",
    "# calculate the pilot symbol\n",
    "agrell_pilot_sym_norm = np.sqrt(agrell_sym_pow_norm/encDim) * np.ones(2)"
   ]
  },
  {
   "cell_type": "code",
   "execution_count": 15,
   "metadata": {},
   "outputs": [],
   "source": [
    "noisePower = agrell_sym_pow_norm * 10.0**(-SNR_range_dB/10.0)\n",
    "n0_per_comp = noisePower/(2*chDim+2)\n",
    "\n",
    "err = []\n",
    "for n0 in n0_per_comp:\n",
    "  thisErr = 0\n",
    "  thisCount = 0\n",
    "  while thisErr < 500 and thisCount < 100000:\n",
    "    txSym = np.random.randint(inVecDim, size=1000)\n",
    "    symBlk = agrell_map_norm[txSym]\n",
    "    txTest = add_pilot(symBlk, agrell_pilot_sym_norm)\n",
    "    rxTest = rbf_channel(txTest, n0)\n",
    "    rxEqualized = equalizer(rxTest, agrell_pilot_sym_norm)\n",
    "    rxDecode = cdist(rxEqualized, agrell_map_norm)\n",
    "    rxSym = np.argmin(rxDecode,axis=1)\n",
    "    thisErr += np.sum(rxSym!=txSym)\n",
    "    thisCount += 1000\n",
    "  err.append(thisErr/thisCount)\n",
    "results[\"Agrell (Block Power = ${:.1f}$, Pilot = ({:.2f},{:.2f}))\".format(agrell_sym_pow_norm, *agrell_pilot_sym_norm)] = np.array(err)"
   ]
  },
  {
   "cell_type": "markdown",
   "metadata": {},
   "source": [
    "### Block Symbol Power scaled to unit power"
   ]
  },
  {
   "cell_type": "code",
   "execution_count": 16,
   "metadata": {},
   "outputs": [
    {
     "name": "stdout",
     "output_type": "stream",
     "text": [
      "Unscaled Agrell Avg. Tx Power: 137610.0\n",
      "Normalized Agrell Avg. Tx Power: 1.0000000000000004\n"
     ]
    }
   ],
   "source": [
    "agrell_sym_pow_unscaled = np.mean(np.sum(agrell_map_unscaled*agrell_map_unscaled,axis=1))\n",
    "print( \"Unscaled Agrell Avg. Tx Power:\", agrell_sym_pow_unscaled )\n",
    "\n",
    "agrell_map_unit = np.sqrt(1.0/agrell_sym_pow_unscaled) * agrell_map_unscaled\n",
    "agrell_sym_pow_unit = np.mean(np.sum(agrell_map_unit*agrell_map_unit,axis=1))\n",
    "print( \"Normalized Agrell Avg. Tx Power:\", agrell_sym_pow_unit )\n",
    "\n",
    "# calculate the pilot symbol\n",
    "agrell_pilot_sym_unit = np.sqrt(agrell_sym_pow_unit/encDim) * np.ones(2)"
   ]
  },
  {
   "cell_type": "code",
   "execution_count": 17,
   "metadata": {},
   "outputs": [],
   "source": [
    "noisePower = agrell_sym_pow_unit * 10.0**(-SNR_range_dB/10.0)\n",
    "n0_per_comp = noisePower/(2*chDim+2)\n",
    "\n",
    "err = []\n",
    "for n0 in n0_per_comp:\n",
    "  thisErr = 0\n",
    "  thisCount = 0\n",
    "  while thisErr < 500 and thisCount < 100000:\n",
    "    txSym = np.random.randint(inVecDim, size=1000)\n",
    "    symBlk = agrell_map_unit[txSym]\n",
    "    txTest = add_pilot(symBlk, agrell_pilot_sym_unit)\n",
    "    rxTest = rbf_channel(txTest, n0)\n",
    "    rxEqualized = equalizer(rxTest, agrell_pilot_sym_unit)\n",
    "    rxDecode = cdist(rxEqualized, agrell_map_unit)\n",
    "    rxSym = np.argmin(rxDecode,axis=1)\n",
    "    thisErr += np.sum(rxSym!=txSym)\n",
    "    thisCount += 1000\n",
    "  err.append(thisErr/thisCount)\n",
    "results[\"Agrell (Block Power = ${:.1f}$, Pilot = ({:.2f},{:.2f}))\".format(agrell_sym_pow_unit, *agrell_pilot_sym_unit)] = np.array(err)"
   ]
  },
  {
   "cell_type": "markdown",
   "metadata": {},
   "source": [
    "### Block Symbol Power is scaled to unit power and Pilot power is $1$ per component"
   ]
  },
  {
   "cell_type": "code",
   "execution_count": 18,
   "metadata": {},
   "outputs": [],
   "source": [
    "agrell_pilot_sym_1 = np.ones(2)\n",
    "\n",
    "noisePower = agrell_sym_pow_unit * 10.0**(-SNR_range_dB/10.0)\n",
    "n0_per_comp = noisePower/(2*chDim+2)\n",
    "\n",
    "err = []\n",
    "for n0 in n0_per_comp:\n",
    "  thisErr = 0\n",
    "  thisCount = 0\n",
    "  while thisErr < 500 and thisCount < 100000:\n",
    "    txSym = np.random.randint(inVecDim, size=1000)\n",
    "    symBlk = agrell_map_unit[txSym]\n",
    "    txTest = add_pilot(symBlk, agrell_pilot_sym_1)\n",
    "    rxTest = rbf_channel(txTest, n0)\n",
    "    rxEqualized = equalizer(rxTest, agrell_pilot_sym_1)\n",
    "    rxDecode = cdist(rxEqualized, agrell_map_unit)\n",
    "    rxSym = np.argmin(rxDecode,axis=1)\n",
    "    thisErr += np.sum(rxSym!=txSym)\n",
    "    thisCount += 1000\n",
    "  err.append(thisErr/thisCount)\n",
    "results[\"Agrell (Block Power = ${:.1f}$, Pilot = ({:.2f},{:.2f}))\".format(agrell_sym_pow_unit, *agrell_pilot_sym_1)] = np.array(err)"
   ]
  },
  {
   "cell_type": "markdown",
   "metadata": {},
   "source": [
    "## Plot results"
   ]
  },
  {
   "cell_type": "code",
   "execution_count": 22,
   "metadata": {},
   "outputs": [
    {
     "data": {
      "image/png": "[encoded data removed]",
      "text/plain": [
       "<Figure size 864x648 with 1 Axes>"
      ]
     },
     "metadata": {
      "needs_background": "light"
     },
     "output_type": "display_data"
    }
   ],
   "source": [
    "fig = plt.figure(figsize=(12,9))\n",
    "for (l,v) in results.items():\n",
    "    plt.semilogy(SNR_range_dB, v, label=l, linewidth=2)\n",
    "plt.legend(loc=\"lower left\", prop={'size':14})\n",
    "plt.grid()"
   ]
  },
  {
   "cell_type": "code",
   "execution_count": null,
   "metadata": {},
   "outputs": [],
   "source": []
  }
 ],
 "metadata": {
  "kernelspec": {
   "display_name": "Python 3",
   "language": "python",
   "name": "python3"
  },
  "language_info": {
   "codemirror_mode": {
    "name": "ipython",
    "version": 3
   },
   "file_extension": ".py",
   "mimetype": "text/x-python",
   "name": "python",
   "nbconvert_exporter": "python",
   "pygments_lexer": "ipython3",
   "version": "3.6.8"
  }
 },
 "nbformat": 4,
 "nbformat_minor": 2
}
