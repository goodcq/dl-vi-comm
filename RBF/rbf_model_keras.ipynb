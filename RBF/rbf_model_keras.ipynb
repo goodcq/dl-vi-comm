{
  "nbformat": 4,
  "nbformat_minor": 0,
  "metadata": {
    "colab": {
      "name": "rbf_model_keras.ipynb",
      "version": "0.3.2",
      "provenance": []
    },
    "kernelspec": {
      "name": "python3",
      "display_name": "Python 3"
    }
  },
  "cells": [
    {
      "metadata": {
        "id": "--gyEhxmEEOY",
        "colab_type": "code",
        "colab": {}
      },
      "cell_type": "code",
      "source": [
        "from tensorflow.keras.layers import Dense, Input, Lambda, Concatenate, Reshape\n",
        "from tensorflow.keras.models import Model\n",
        "from tensorflow.keras.losses import categorical_crossentropy\n",
        "from tensorflow.keras import backend as K\n",
        "import tensorflow as tf\n",
        "\n",
        "import numpy as np\n",
        "import matplotlib.pyplot as plt\n",
        "from scipy.spatial.distance import cdist # For calculating QPSK decoding\n",
        "\n",
        "import datetime, itertools, dill"
      ],
      "execution_count": 0,
      "outputs": []
    },
    {
      "metadata": {
        "id": "3BnlhKS5E-NJ",
        "colab_type": "code",
        "colab": {}
      },
      "cell_type": "code",
      "source": [
        "# dim = 4\n",
        "# N = 5"
      ],
      "execution_count": 0,
      "outputs": []
    },
    {
      "metadata": {
        "id": "-MBTE8zG-9Tc",
        "colab_type": "text"
      },
      "cell_type": "markdown",
      "source": [
        "### Pilot Add"
      ]
    },
    {
      "metadata": {
        "id": "WSsQDNaiqbRy",
        "colab_type": "code",
        "colab": {}
      },
      "cell_type": "code",
      "source": [
        "# def add_pilot(sym_blk):\n",
        "#   pilotSym = [+1.0, 1.0]\n",
        "    \n",
        "#   batch_size = K.shape(sym_blk)[0]\n",
        "#   enc_dim = K.shape(sym_blk)[1]\n",
        "\n",
        "#   tx_blk = K.concatenate( [pilotSym[0]*tf.ones((batch_size,1)),sym_blk[:,:dim//2],pilotSym[1]*tf.ones((batch_size,1)),sym_blk[:,dim//2:]], axis=1 )\n",
        "    \n",
        "#   return tx_blk\n",
        "\n",
        "\n",
        "def add_pilot(sym_blk):\n",
        "  pilotSym = [+1.0, +1.0]\n",
        "    \n",
        "  batch_size = K.shape(sym_blk)[0]\n",
        "  enc_dim = K.shape(sym_blk)[1]\n",
        "\n",
        "  tx_blk = K.concatenate( [pilotSym[0]*tf.ones((batch_size,1)),sym_blk[:,:enc_dim//2],pilotSym[1]*tf.ones((batch_size,1)),sym_blk[:,enc_dim//2:]], axis=1 )\n",
        "    \n",
        "  return tx_blk\n"
      ],
      "execution_count": 0,
      "outputs": []
    },
    {
      "metadata": {
        "id": "chP_OJPfzzF9",
        "colab_type": "text"
      },
      "cell_type": "markdown",
      "source": [
        "Test for ```add_pilot``` layer"
      ]
    },
    {
      "metadata": {
        "id": "BMeES3Zpz5jp",
        "colab_type": "code",
        "colab": {
          "base_uri": "https://localhost:8080/",
          "height": 722
        },
        "outputId": "acc0f3ae-1de3-46bd-9e51-a9535419a130"
      },
      "cell_type": "code",
      "source": [
        "def test_pilot_layer():\n",
        "  dim = 4\n",
        "  N = 5\n",
        "  \n",
        "  try:\n",
        "    K.clear_session()\n",
        "    del test_pilot_model\n",
        "  except:\n",
        "    pass\n",
        "\n",
        "  in_blk = Input(shape=(dim,), name=\"in\")\n",
        "  out_blk = Lambda(add_pilot, output_shape=(dim,), name=\"out\")(in_blk)\n",
        "  test_pilot_model = Model(in_blk, out_blk, name=\"test_add_pilot\")\n",
        "  test_pilot_model.summary()\n",
        "\n",
        "  test_pilot_model.compile('adam',loss='mse')\n",
        "\n",
        "  x = np.random.rand(10,dim)\n",
        "  y = test_pilot_model.predict(x)\n",
        "  print(x)\n",
        "  print(y)\n",
        "\n",
        "test_pilot_layer()"
      ],
      "execution_count": 4,
      "outputs": [
        {
          "output_type": "stream",
          "text": [
            "_________________________________________________________________\n",
            "Layer (type)                 Output Shape              Param #   \n",
            "=================================================================\n",
            "in (InputLayer)              (None, 4)                 0         \n",
            "_________________________________________________________________\n",
            "out (Lambda)                 (None, None)              0         \n",
            "=================================================================\n",
            "Total params: 0\n",
            "Trainable params: 0\n",
            "Non-trainable params: 0\n",
            "_________________________________________________________________\n",
            "WARNING:tensorflow:From /usr/local/lib/python3.6/dist-packages/tensorflow/python/ops/resource_variable_ops.py:435: colocate_with (from tensorflow.python.framework.ops) is deprecated and will be removed in a future version.\n",
            "Instructions for updating:\n",
            "Colocations handled automatically by placer.\n",
            "WARNING:tensorflow:From /usr/local/lib/python3.6/dist-packages/tensorflow/python/keras/utils/losses_utils.py:170: to_float (from tensorflow.python.ops.math_ops) is deprecated and will be removed in a future version.\n",
            "Instructions for updating:\n",
            "Use tf.cast instead.\n",
            "[[0.98380186 0.50317473 0.31324788 0.74991473]\n",
            " [0.02169882 0.89193026 0.74696222 0.56608409]\n",
            " [0.35742228 0.58517112 0.58277263 0.11276546]\n",
            " [0.67478985 0.79118923 0.03139475 0.10610964]\n",
            " [0.17935459 0.83701818 0.02492929 0.82804138]\n",
            " [0.06181282 0.85074114 0.55639604 0.69686869]\n",
            " [0.30935265 0.22877928 0.07296392 0.74602613]\n",
            " [0.21158031 0.92246603 0.5136376  0.58786741]\n",
            " [0.50364612 0.70621856 0.03472033 0.3332177 ]\n",
            " [0.67579363 0.69311625 0.96661704 0.555453  ]]\n",
            "[[1.         0.98380184 0.5031747  1.         0.3132479  0.7499147 ]\n",
            " [1.         0.02169882 0.8919303  1.         0.7469622  0.5660841 ]\n",
            " [1.         0.3574223  0.5851711  1.         0.5827726  0.11276546]\n",
            " [1.         0.67478985 0.79118925 1.         0.03139475 0.10610964]\n",
            " [1.         0.1793546  0.8370182  1.         0.02492929 0.8280414 ]\n",
            " [1.         0.06181283 0.85074115 1.         0.556396   0.6968687 ]\n",
            " [1.         0.30935267 0.22877927 1.         0.07296392 0.74602616]\n",
            " [1.         0.21158032 0.92246604 1.         0.5136376  0.5878674 ]\n",
            " [1.         0.50364614 0.70621854 1.         0.03472033 0.3332177 ]\n",
            " [1.         0.67579365 0.69311625 1.         0.96661705 0.555453  ]]\n"
          ],
          "name": "stdout"
        }
      ]
    },
    {
      "metadata": {
        "id": "N30ewsCVAQAB",
        "colab_type": "text"
      },
      "cell_type": "markdown",
      "source": [
        "## RBF Channel"
      ]
    },
    {
      "metadata": {
        "id": "k3Wrx6VhASi7",
        "colab_type": "code",
        "colab": {}
      },
      "cell_type": "code",
      "source": [
        "# def rbf_channel( inputs ):\n",
        "  \n",
        "#   symbol_tensor, h1_tensor, h2_tensor = inputs\n",
        "\n",
        "#   batch = K.shape( symbol_tensor )[0]\n",
        "  \n",
        "  \n",
        "#   p2 = K.concatenate( [-symbol_tensor[:,1+dim//2:],symbol_tensor[:,:dim//2+1]] )\n",
        "  \n",
        "#   t1 = h1_tensor*symbol_tensor + h2_tensor*p2\n",
        "# #   t1 = h[:,0,None]*symbol_tensor + h[:,1,None]*symbol_tensor\n",
        "  \n",
        "# #   epsilon = K.random_normal( shape = (batch,dim+2) )\n",
        "  \n",
        "#   return t1\n",
        "\n",
        "\n",
        "\n",
        "\n",
        "def rbf_channel( inputs ):\n",
        "  \n",
        "  symbol_tensor, h1_tensor, h2_tensor, n0_tensor = inputs\n",
        "\n",
        "  batch_size = K.shape(symbol_tensor)[0]\n",
        "  enc_dim = K.shape(symbol_tensor)[1]\n",
        "  \n",
        "  p2 = K.concatenate( [-symbol_tensor[:,enc_dim//2:],symbol_tensor[:,:enc_dim//2]] )\n",
        "  \n",
        "  t1 = h1_tensor*symbol_tensor + h2_tensor*p2\n",
        "#   t1 = h[:,0,None]*symbol_tensor + h[:,1,None]*symbol_tensor\n",
        "  \n",
        "  epsilon = K.random_normal( shape=K.shape(symbol_tensor), stddev=K.sqrt(n0_tensor) )\n",
        "  \n",
        "  return t1 + epsilon"
      ],
      "execution_count": 0,
      "outputs": []
    },
    {
      "metadata": {
        "id": "1ikm7ehYCZJI",
        "colab_type": "text"
      },
      "cell_type": "markdown",
      "source": [
        "Test Channel"
      ]
    },
    {
      "metadata": {
        "id": "sUgbcRLJAUc_",
        "colab_type": "code",
        "colab": {
          "base_uri": "https://localhost:8080/",
          "height": 760
        },
        "outputId": "20d951eb-45eb-46c7-b97c-858bfec68017"
      },
      "cell_type": "code",
      "source": [
        "def test_channel_layer():\n",
        "  dim = 4\n",
        "  N = 5\n",
        "  try:\n",
        "    K.clear_session()\n",
        "    del m\n",
        "  except:\n",
        "    pass\n",
        "\n",
        "  in_blk = Input(shape=(dim+2,), name=\"in\")\n",
        "\n",
        "  in_h1 = Input(shape=(1,), name=\"h1\")\n",
        "  in_h2 = Input(shape=(1,), name=\"h2\")\n",
        "  in_n0 = Input(shape=(1,), name=\"n0\")\n",
        "  outputs = Lambda(rbf_channel, output_shape=(dim,), name=\"out\")((in_blk,in_h1,in_h2,in_n0))\n",
        "  m = Model([in_blk,in_h1,in_h2,in_n0], outputs, name=\"channel\")\n",
        "\n",
        "  m.summary()\n",
        "\n",
        "\n",
        "  inBlk = np.random.rand(N,dim+2)\n",
        "  h1 = np.sqrt(1/2) * np.random.randn(N)\n",
        "  h2 = np.sqrt(1/2) * np.random.randn(N)\n",
        "  n0 = 1e-12 * np.ones(N)\n",
        "\n",
        "  # h1 = np.ones(N)\n",
        "  # h2 = np.zeros(N)\n",
        "\n",
        "  # h1 = np.zeros(N)\n",
        "  # h2 = np.ones(N)\n",
        "\n",
        "  p1 = inBlk[:,:]\n",
        "  p2 = np.hstack((-inBlk[:,inBlk.shape[1]//2:],inBlk[:,:inBlk.shape[1]//2]))\n",
        "  outBlk = h1[:,None]*p1 + h2[:,None]*p2\n",
        "\n",
        "  # print(\"inBlk\\n\", inBlk)\n",
        "  print(\"h1,h2:\\n\", (h1,h2))\n",
        "  # # print(\"h:\\n\", (h))\n",
        "  # print(\"p1\\n\", p1)\n",
        "  # print(\"p2\\n\", p2)\n",
        "  print(\"outBlk\\n\", outBlk)\n",
        "\n",
        "  chOut = m.predict([inBlk, h1, h2,n0])\n",
        "  print(\"ChOut\\n\", chOut)\n",
        "  \n",
        "  print( outBlk-chOut < 1e-5)\n",
        "\n",
        "test_channel_layer()"
      ],
      "execution_count": 6,
      "outputs": [
        {
          "output_type": "stream",
          "text": [
            "__________________________________________________________________________________________________\n",
            "Layer (type)                    Output Shape         Param #     Connected to                     \n",
            "==================================================================================================\n",
            "in (InputLayer)                 (None, 6)            0                                            \n",
            "__________________________________________________________________________________________________\n",
            "h1 (InputLayer)                 (None, 1)            0                                            \n",
            "__________________________________________________________________________________________________\n",
            "h2 (InputLayer)                 (None, 1)            0                                            \n",
            "__________________________________________________________________________________________________\n",
            "n0 (InputLayer)                 (None, 1)            0                                            \n",
            "__________________________________________________________________________________________________\n",
            "out (Lambda)                    (None, 6)            0           in[0][0]                         \n",
            "                                                                 h1[0][0]                         \n",
            "                                                                 h2[0][0]                         \n",
            "                                                                 n0[0][0]                         \n",
            "==================================================================================================\n",
            "Total params: 0\n",
            "Trainable params: 0\n",
            "Non-trainable params: 0\n",
            "__________________________________________________________________________________________________\n",
            "h1,h2:\n",
            " (array([-0.37591699,  0.02572369, -1.09928806, -0.36215925, -0.88468606]), array([ 0.61982128, -0.82247375,  1.02174118, -0.66090167,  0.5704554 ]))\n",
            "outBlk\n",
            " [[-0.58755062 -0.40851598 -0.30751134  0.42648161  0.07621649  0.11864196]\n",
            " [ 0.39956075  0.81288381  0.18101592 -0.53059777 -0.01218608 -0.52571508]\n",
            " [-0.70082779 -1.25431396 -1.60991163 -0.66115468  0.8264206  -0.29537788]\n",
            " [-0.05257048  0.05150873  0.22352009 -0.66106359 -0.74791582 -0.20541893]\n",
            " [-1.19260013 -0.70749477 -0.84536195 -0.38585409  0.37879766  0.33636089]]\n",
            "ChOut\n",
            " [[-0.58754885 -0.4085168  -0.3075117   0.4264849   0.07621575  0.11864272]\n",
            " [ 0.39956108  0.8128837   0.18101373 -0.5305963  -0.012186   -0.52571553]\n",
            " [-0.7008287  -1.2543142  -1.6099125  -0.66115487  0.8264202  -0.29537806]\n",
            " [-0.05257053  0.05150812  0.22352004 -0.6610652  -0.74791646 -0.20541953]\n",
            " [-1.1926018  -0.70749474 -0.84536207 -0.3858541   0.37879664  0.33636186]]\n",
            "[[ True  True  True  True  True  True]\n",
            " [ True  True  True  True  True  True]\n",
            " [ True  True  True  True  True  True]\n",
            " [ True  True  True  True  True  True]\n",
            " [ True  True  True  True  True  True]]\n"
          ],
          "name": "stdout"
        }
      ]
    },
    {
      "metadata": {
        "id": "skbWkJzKC7tu",
        "colab_type": "text"
      },
      "cell_type": "markdown",
      "source": [
        "Pilot Integration"
      ]
    },
    {
      "metadata": {
        "id": "LQxamgs5C94A",
        "colab_type": "code",
        "colab": {
          "base_uri": "https://localhost:8080/",
          "height": 931
        },
        "outputId": "ba482f41-015d-48fd-cd0f-c21023fe7c62"
      },
      "cell_type": "code",
      "source": [
        "def test_pilot_integration():\n",
        "  dim = 4\n",
        "  N = 5\n",
        "\n",
        "  try:\n",
        "    K.clear_session()\n",
        "    del m\n",
        "  except:\n",
        "    pass\n",
        "\n",
        "  in_blk = Input(shape=(dim,), name=\"in\")\n",
        "\n",
        "  in_h1 = Input(shape=(1,), name=\"h1\")\n",
        "  in_h2 = Input(shape=(1,), name=\"h2\")\n",
        "  in_n0 = Input(shape=(1,), name=\"n0\")\n",
        "\n",
        "  tx_blk = Lambda(add_pilot, output_shape=(dim+2,), name=\"tx_blk\")(in_blk) \n",
        "  ch_out = Lambda(rbf_channel, output_shape=(dim+2,), name=\"ch_out\")((tx_blk,in_h1,in_h2,in_n0))\n",
        "  m = Model([in_blk,in_h1,in_h2,in_n0], ch_out, name=\"test_pilot_channel\")\n",
        "\n",
        "  m.summary()\n",
        "\n",
        "\n",
        "  inBlk = np.random.rand(N,dim)\n",
        "\n",
        "  h1 = np.sqrt(1/2) * np.random.randn(N)\n",
        "  h2 = np.sqrt(1/2) * np.random.randn(N)\n",
        "  n0 = 1e-12 * np.ones(N)\n",
        "\n",
        "\n",
        "  # h1 = np.ones(N)\n",
        "  # h2 = np.zeros(N)\n",
        "\n",
        "  # h1 = np.zeros(N)\n",
        "  # h2 = np.ones(N)\n",
        "\n",
        "\n",
        "  # h = np.sqrt(1/2) * np.random.randn(N,2)\n",
        "  # print(h.shape)\n",
        "\n",
        "  p1 = inBlk[:,:]\n",
        "  p2 = np.hstack((-inBlk[:,inBlk.shape[1]//2:],inBlk[:,:inBlk.shape[1]//2]))\n",
        "  # outBlk = h[:,0,None]*p1 + h[:,1,None]*p2\n",
        "  outBlk = h1[:,None]*p1 + h2[:,None]*p2\n",
        "\n",
        "  # print(\"inBlk\\n\", inBlk)\n",
        "  print(\"h1,h2:\\n\", (h1,h2))\n",
        "  # # print(\"h:\\n\", (h))\n",
        "  print(\"p1\\n\", p1)\n",
        "  print(\"p2\\n\", p2)\n",
        "  print(\"outBlk\\n\", outBlk)\n",
        "\n",
        "  chOut = m.predict([inBlk, h1, h2, n0])\n",
        "  # chOut = np.delete(chOut[0],[0,dim//2+1], axis=1)\n",
        "  print(\"Ch Out\\n\", chOut)\n",
        "  \n",
        "test_pilot_integration()"
      ],
      "execution_count": 7,
      "outputs": [
        {
          "output_type": "stream",
          "text": [
            "__________________________________________________________________________________________________\n",
            "Layer (type)                    Output Shape         Param #     Connected to                     \n",
            "==================================================================================================\n",
            "in (InputLayer)                 (None, 4)            0                                            \n",
            "__________________________________________________________________________________________________\n",
            "tx_blk (Lambda)                 (None, None)         0           in[0][0]                         \n",
            "__________________________________________________________________________________________________\n",
            "h1 (InputLayer)                 (None, 1)            0                                            \n",
            "__________________________________________________________________________________________________\n",
            "h2 (InputLayer)                 (None, 1)            0                                            \n",
            "__________________________________________________________________________________________________\n",
            "n0 (InputLayer)                 (None, 1)            0                                            \n",
            "__________________________________________________________________________________________________\n",
            "ch_out (Lambda)                 (None, None)         0           tx_blk[0][0]                     \n",
            "                                                                 h1[0][0]                         \n",
            "                                                                 h2[0][0]                         \n",
            "                                                                 n0[0][0]                         \n",
            "==================================================================================================\n",
            "Total params: 0\n",
            "Trainable params: 0\n",
            "Non-trainable params: 0\n",
            "__________________________________________________________________________________________________\n",
            "h1,h2:\n",
            " (array([-0.5720689 , -0.2102382 , -0.90647892, -1.17215487,  0.13753588]), array([ 0.2870838 , -1.38918371, -0.31240337,  0.53957995, -0.12508481]))\n",
            "p1\n",
            " [[0.31755993 0.89787396 0.63063248 0.92330776]\n",
            " [0.61938486 0.88524726 0.98171593 0.16160091]\n",
            " [0.56237129 0.27905863 0.36681798 0.44464655]\n",
            " [0.887185   0.73785577 0.09853476 0.85932176]\n",
            " [0.19831829 0.65123227 0.80657618 0.85716642]]\n",
            "p2\n",
            " [[-0.63063248 -0.92330776  0.31755993  0.89787396]\n",
            " [-0.98171593 -0.16160091  0.61938486  0.88524726]\n",
            " [-0.36681798 -0.44464655  0.56237129  0.27905863]\n",
            " [-0.09853476 -0.85932176  0.887185    0.73785577]\n",
            " [-0.80657618 -0.85716642  0.19831829  0.65123227]]\n",
            "outBlk\n",
            " [[-0.36271053 -0.77871248 -0.26959892 -0.27043059]\n",
            " [ 1.23356541  0.03838056 -1.06683355 -1.26374575]\n",
            " [-0.39518255 -0.11405168 -0.50819946 -0.49024158]\n",
            " [-1.0930856  -1.32855402  0.36320924 -0.60912601]\n",
            " [ 0.12816631  0.1967863   0.08612656  0.03643188]]\n",
            "Ch Out\n",
            " [[-0.8591532  -0.36271012 -0.7787124  -0.28498608 -0.26959965 -0.2704312 ]\n",
            " [ 1.1789452   1.2335664   0.03838221 -1.5994228  -1.0668323  -1.2637459 ]\n",
            " [-0.5940751  -0.3951837  -0.11405051 -1.2188815  -0.5081986  -0.49024183]\n",
            " [-1.7117362  -1.093084   -1.3285553  -0.6325747   0.36320713 -0.60912687]\n",
            " [ 0.2626204   0.12816612  0.19678605  0.01245062  0.08612711  0.03643156]]\n"
          ],
          "name": "stdout"
        }
      ]
    },
    {
      "metadata": {
        "id": "Wv6nG0h0_AXE",
        "colab_type": "text"
      },
      "cell_type": "markdown",
      "source": [
        "## Equalizer"
      ]
    },
    {
      "metadata": {
        "id": "tCGx78qR_CR7",
        "colab_type": "code",
        "colab": {}
      },
      "cell_type": "code",
      "source": [
        "# def equalizer(rx_blk):\n",
        "  \n",
        "#   pilotSym = [+1.0, +1.0]\n",
        "\n",
        "#   rx_pilot0 = rx_blk[:,0]\n",
        "#   rx_pilot1 = rx_blk[:,1+dim//2]\n",
        "  \n",
        "#   h1_hat = (pilotSym[1]*rx_pilot1+pilotSym[0]*rx_pilot0)/(pilotSym[0]**2+pilotSym[1]**2)\n",
        "#   h2_hat = (pilotSym[0]*rx_pilot1-pilotSym[1]*rx_pilot0)/(pilotSym[0]**2+pilotSym[1]**2)    \n",
        "    \n",
        "#   z1_hat = rx_blk[:,:dim//2+1]\n",
        "#   z2_hat = rx_blk[:,dim//2+1:]\n",
        "    \n",
        "    \n",
        "#   zR = (h1_hat[:,None]*z1_hat+h2_hat[:,None]*z2_hat) / (h1_hat[:,None]**2+h2_hat[:,None]**2)\n",
        "#   zI = (h1_hat[:,None]*z2_hat-h2_hat[:,None]*z1_hat) / (h1_hat[:,None]**2+h2_hat[:,None]**2)\n",
        "    \n",
        "#   out_blk = K.concatenate((zR[:,1:],zI[:,1:]))\n",
        "# #   out_blk = K.concatenate((zR,zI))\n",
        "    \n",
        "#   return out_blk\n",
        "\n",
        "\n",
        "\n",
        "def equalizer(rx_blk):\n",
        "  \n",
        "  batch_size = K.shape(rx_blk)[0]\n",
        "  enc_dim = K.shape(rx_blk)[1]\n",
        "  \n",
        "  \n",
        "  pilotSym = [+1.0, +1.0]\n",
        "\n",
        "  rx_pilot0 = rx_blk[:,0]\n",
        "  rx_pilot1 = rx_blk[:,enc_dim//2]\n",
        "  \n",
        "  h1_hat = (pilotSym[1]*rx_pilot1+pilotSym[0]*rx_pilot0)/(pilotSym[0]**2+pilotSym[1]**2)\n",
        "  h2_hat = (pilotSym[0]*rx_pilot1-pilotSym[1]*rx_pilot0)/(pilotSym[0]**2+pilotSym[1]**2)    \n",
        "    \n",
        "  z1_hat = rx_blk[:,:enc_dim//2]\n",
        "  z2_hat = rx_blk[:,enc_dim//2:]\n",
        "    \n",
        "    \n",
        "  zR = (h1_hat[:,None]*z1_hat+h2_hat[:,None]*z2_hat) / (h1_hat[:,None]**2+h2_hat[:,None]**2)\n",
        "  zI = (h1_hat[:,None]*z2_hat-h2_hat[:,None]*z1_hat) / (h1_hat[:,None]**2+h2_hat[:,None]**2)\n",
        "    \n",
        "  out_blk = K.concatenate((zR[:,1:],zI[:,1:]))\n",
        "#   out_blk = K.concatenate((zR,zI))\n",
        "    \n",
        "  return out_blk\n"
      ],
      "execution_count": 0,
      "outputs": []
    },
    {
      "metadata": {
        "id": "Qn1dh00h_DbH",
        "colab_type": "code",
        "colab": {
          "base_uri": "https://localhost:8080/",
          "height": 379
        },
        "outputId": "08777696-e06b-4394-bdc9-74af8a0743dc"
      },
      "cell_type": "code",
      "source": [
        "def test_full_model():\n",
        "  dim = 4\n",
        "  N = 5\n",
        "\n",
        "  try:\n",
        "    K.clear_session()\n",
        "    del m\n",
        "  except:\n",
        "    pass\n",
        "\n",
        "  in_blk = Input(shape=(dim,), name=\"in\")\n",
        "\n",
        "  in_h1 = Input(shape=(1,), name=\"h1\")\n",
        "  in_h2 = Input(shape=(1,), name=\"h2\")\n",
        "  in_n0 = Input(shape=(1,), name=\"n0\")\n",
        "\n",
        "\n",
        "  tx_blk = Lambda(add_pilot, output_shape=(dim+2,), name=\"tx_blk\")(in_blk) \n",
        "  ch_out = Lambda(rbf_channel, output_shape=(dim+2,), name=\"ch_out\")((tx_blk,in_h1,in_h2,in_n0))\n",
        "  rx_blk = Lambda(equalizer, output_shape=(dim+2,), name=\"rx_blk\")(ch_out)\n",
        "\n",
        "  m = Model([in_blk,in_h1,in_h2,in_n0], rx_blk, name=\"test_model\")\n",
        "\n",
        "  # m.summary()\n",
        "\n",
        "\n",
        "  inBlk = np.random.rand(N,dim)\n",
        "\n",
        "  h1 = np.sqrt(1/2) * np.random.randn(N)\n",
        "  h2 = np.sqrt(1/2) * np.random.randn(N)\n",
        "  n0 = 1e-12 * np.ones(N)\n",
        "\n",
        "  # h1 = np.ones(N)\n",
        "  # h2 = np.zeros(N)\n",
        "  # h1 = np.zeros(N)\n",
        "  # h2 = -np.ones(N)\n",
        "\n",
        "\n",
        "  # h = np.sqrt(1/2) * np.random.randn(N,2)\n",
        "  # print(h.shape)\n",
        "\n",
        "  p1 = inBlk[:,:]\n",
        "  p2 = np.hstack((-inBlk[:,dim//2:],inBlk[:,:dim//2]))\n",
        "  # outBlk = h[:,0,None]*p1 + h[:,1,None]*p2\n",
        "  outBlk = h1[:,None]*p1 + h2[:,None]*p2\n",
        "\n",
        "  print(\"inBlk\\n\", inBlk)\n",
        "  print(\"h1,h2:\\n\", (h1,h2))\n",
        "  # print(\"p1\\n\", p1)\n",
        "  # print(\"p2\\n\", p2)\n",
        "  # print(\"outBlk\\n\", outBlk)\n",
        "\n",
        "  eqBlk = m.predict([inBlk, h1, h2, n0])\n",
        "  print(\"OUT>>\\n\", eqBlk)\n",
        "\n",
        "  print( inBlk-eqBlk < 1e-5 )\n",
        "  \n",
        "test_full_model()"
      ],
      "execution_count": 9,
      "outputs": [
        {
          "output_type": "stream",
          "text": [
            "inBlk\n",
            " [[0.6546834  0.02271731 0.1319668  0.7709766 ]\n",
            " [0.84280018 0.7653356  0.65925493 0.15561915]\n",
            " [0.89263706 0.82569732 0.82164695 0.77409137]\n",
            " [0.32928738 0.21169979 0.17188034 0.07117206]\n",
            " [0.67201581 0.24592269 0.87050381 0.10354727]]\n",
            "h1,h2:\n",
            " (array([-0.8874821 ,  1.02133235,  0.12608669, -0.96486442, -0.1834301 ]), array([ 1.06682086,  1.13726804,  0.98384061, -0.46521764,  0.1267637 ]))\n",
            "OUT>>\n",
            " [[0.6546837  0.02271589 0.1319669  0.77097535]\n",
            " [0.84280074 0.7653366  0.65925545 0.15561871]\n",
            " [0.8926353  0.82569444 0.82164913 0.77409226]\n",
            " [0.329287   0.21169837 0.17187984 0.07117234]\n",
            " [0.6720094  0.24593    0.8704973  0.10354299]]\n",
            "[[ True  True  True  True]\n",
            " [ True  True  True  True]\n",
            " [ True  True  True  True]\n",
            " [ True  True  True  True]\n",
            " [ True  True  True  True]]\n"
          ],
          "name": "stdout"
        }
      ]
    },
    {
      "metadata": {
        "id": "b8Jftvz5IFij",
        "colab_type": "text"
      },
      "cell_type": "markdown",
      "source": [
        "# Test QAM"
      ]
    },
    {
      "metadata": {
        "id": "oZh1S8N6Jm8c",
        "colab_type": "code",
        "colab": {}
      },
      "cell_type": "code",
      "source": [
        "import numpy as np\n",
        "from itertools import cycle, product\n",
        "import dill\n",
        "\n",
        "import matplotlib.pyplot as plt\n",
        "from scipy.spatial.distance import cdist"
      ],
      "execution_count": 0,
      "outputs": []
    },
    {
      "metadata": {
        "id": "t0CwmDFdJs5S",
        "colab_type": "code",
        "colab": {}
      },
      "cell_type": "code",
      "source": [
        "blkSize     = 4\n",
        "chDim       = 2\n",
        "\n",
        "# Input\n",
        "inVecDim   = 2 ** blkSize  # 1-hot vector length for block\n",
        "encDim = 2*chDim\n",
        "\n",
        "SNR_range_dB = np.arange( 0.0, 41.0, 1.0 )\n",
        "\n",
        "results = {}"
      ],
      "execution_count": 0,
      "outputs": []
    },
    {
      "metadata": {
        "id": "brAsAeFUIeYo",
        "colab_type": "code",
        "colab": {
          "base_uri": "https://localhost:8080/",
          "height": 36
        },
        "outputId": "590d27b4-1725-43b6-fc43-a40c46a57f44"
      },
      "cell_type": "code",
      "source": [
        "qam_map = np.array(list(map(list, product([-1.0, +1.0], repeat=blkSize))))\n",
        "qam_sym_pow = np.mean(np.sum(qam_map*qam_map,axis=1))\n",
        "print( \"QAM Avg. Tx Power:\", qam_sym_pow )\n",
        "\n",
        "noisePower = qam_sym_pow * 10.0**(-SNR_range_dB/10.0)\n",
        "n0_per_comp = noisePower/(2*chDim)"
      ],
      "execution_count": 12,
      "outputs": [
        {
          "output_type": "stream",
          "text": [
            "QAM Avg. Tx Power: 4.0\n"
          ],
          "name": "stdout"
        }
      ]
    },
    {
      "metadata": {
        "id": "6Rjt--wNJlJO",
        "colab_type": "code",
        "colab": {
          "base_uri": "https://localhost:8080/",
          "height": 474
        },
        "outputId": "a362fa2c-2346-4c4b-ebbc-d8b87dc5a293"
      },
      "cell_type": "code",
      "source": [
        "try:\n",
        "  K.clear_session()\n",
        "  del m\n",
        "except:\n",
        "  pass\n",
        "\n",
        "in_blk = Input(shape=(encDim,), name=\"in\")\n",
        "\n",
        "in_h1 = Input(shape=(1,), name=\"h1\")\n",
        "in_h2 = Input(shape=(1,), name=\"h2\")\n",
        "in_n0 = Input(shape=(1,), name=\"n0\")\n",
        "\n",
        "\n",
        "tx_blk = Lambda(add_pilot, output_shape=(encDim+2,), name=\"tx_blk\")(in_blk) \n",
        "ch_out = Lambda(rbf_channel, output_shape=(encDim+2,), name=\"ch_out\")((tx_blk,in_h1,in_h2,in_n0))\n",
        "rx_blk = Lambda(equalizer, output_shape=(encDim+2,), name=\"rx_blk\")(ch_out)\n",
        "\n",
        "m = Model([in_blk,in_h1,in_h2,in_n0], rx_blk, name=\"complete_model\")\n",
        "\n",
        "m.summary()"
      ],
      "execution_count": 13,
      "outputs": [
        {
          "output_type": "stream",
          "text": [
            "__________________________________________________________________________________________________\n",
            "Layer (type)                    Output Shape         Param #     Connected to                     \n",
            "==================================================================================================\n",
            "in (InputLayer)                 (None, 4)            0                                            \n",
            "__________________________________________________________________________________________________\n",
            "tx_blk (Lambda)                 (None, None)         0           in[0][0]                         \n",
            "__________________________________________________________________________________________________\n",
            "h1 (InputLayer)                 (None, 1)            0                                            \n",
            "__________________________________________________________________________________________________\n",
            "h2 (InputLayer)                 (None, 1)            0                                            \n",
            "__________________________________________________________________________________________________\n",
            "n0 (InputLayer)                 (None, 1)            0                                            \n",
            "__________________________________________________________________________________________________\n",
            "ch_out (Lambda)                 (None, None)         0           tx_blk[0][0]                     \n",
            "                                                                 h1[0][0]                         \n",
            "                                                                 h2[0][0]                         \n",
            "                                                                 n0[0][0]                         \n",
            "__________________________________________________________________________________________________\n",
            "rx_blk (Lambda)                 (None, None)         0           ch_out[0][0]                     \n",
            "==================================================================================================\n",
            "Total params: 0\n",
            "Trainable params: 0\n",
            "Non-trainable params: 0\n",
            "__________________________________________________________________________________________________\n"
          ],
          "name": "stdout"
        }
      ]
    },
    {
      "metadata": {
        "id": "8fCAorFFRTVB",
        "colab_type": "code",
        "colab": {
          "base_uri": "https://localhost:8080/",
          "height": 798
        },
        "outputId": "acc11d67-e076-408d-871f-15456f37df80"
      },
      "cell_type": "code",
      "source": [
        "err = []\n",
        "for (idx,n0) in enumerate(n0_per_comp):\n",
        "  print( \"{}/{} {}\".format(idx,n0_per_comp.shape[0],n0))\n",
        "  thisErr = 0\n",
        "  thisCount = 0\n",
        "  while thisErr < 500:\n",
        "    txSym = np.random.randint(inVecDim, size=1000)\n",
        "    symBlk = qam_map[txSym]\n",
        "    \n",
        "    h1 = np.sqrt(1/2) * np.random.randn(txSym.shape[0])\n",
        "    h2 = np.sqrt(1/2) * np.random.randn(txSym.shape[0])\n",
        "    _n0 = n0 * np.ones(txSym.shape[0])\n",
        "    \n",
        "#     txTest = add_pilot(symBlk)\n",
        "#     rxTest, _, _ = rbf_channel(txTest, n0)\n",
        "#     rxEqualized, _, _ = equalizer(rxTest)\n",
        "    \n",
        "    rxEqualized = m.predict([symBlk, h1, h2, _n0])\n",
        "    rxDecode = cdist(rxEqualized, qam_map)\n",
        "    rxSym = np.argmin(rxDecode,axis=1)\n",
        "    thisErr += np.sum(rxSym!=txSym)\n",
        "    thisCount += 1000\n",
        "  err.append(thisErr/thisCount)\n",
        "results[\"QAM\"] = np.array(err)"
      ],
      "execution_count": 14,
      "outputs": [
        {
          "output_type": "stream",
          "text": [
            "0/41 1.0\n",
            "1/41 0.7943282347242815\n",
            "2/41 0.6309573444801932\n",
            "3/41 0.5011872336272722\n",
            "4/41 0.3981071705534972\n",
            "5/41 0.31622776601683794\n",
            "6/41 0.251188643150958\n",
            "7/41 0.19952623149688797\n",
            "8/41 0.15848931924611134\n",
            "9/41 0.12589254117941673\n",
            "10/41 0.1\n",
            "11/41 0.07943282347242814\n",
            "12/41 0.06309573444801933\n",
            "13/41 0.05011872336272722\n",
            "14/41 0.039810717055349734\n",
            "15/41 0.03162277660168379\n",
            "16/41 0.025118864315095794\n",
            "17/41 0.0199526231496888\n",
            "18/41 0.015848931924611134\n",
            "19/41 0.012589254117941675\n",
            "20/41 0.01\n",
            "21/41 0.007943282347242814\n",
            "22/41 0.00630957344480193\n",
            "23/41 0.005011872336272725\n",
            "24/41 0.003981071705534973\n",
            "25/41 0.0031622776601683794\n",
            "26/41 0.0025118864315095794\n",
            "27/41 0.001995262314968879\n",
            "28/41 0.001584893192461114\n",
            "29/41 0.0012589254117941675\n",
            "30/41 0.001\n",
            "31/41 0.0007943282347242813\n",
            "32/41 0.000630957344480193\n",
            "33/41 0.0005011872336272725\n",
            "34/41 0.00039810717055349735\n",
            "35/41 0.00031622776601683794\n",
            "36/41 0.00025118864315095795\n",
            "37/41 0.00019952623149688788\n",
            "38/41 0.00015848931924611142\n",
            "39/41 0.00012589254117941674\n",
            "40/41 0.0001\n"
          ],
          "name": "stdout"
        }
      ]
    },
    {
      "metadata": {
        "id": "CYoRrZtwYAfd",
        "colab_type": "code",
        "colab": {
          "base_uri": "https://localhost:8080/",
          "height": 378
        },
        "outputId": "aa03f109-e79a-453e-bfb3-25645e348f3b"
      },
      "cell_type": "code",
      "source": [
        "fig = plt.figure(figsize=(8,6))\n",
        "for (l,v) in results.items():\n",
        "    plt.semilogy(SNR_range_dB, v, label=l)\n",
        "plt.legend()\n",
        "plt.grid()"
      ],
      "execution_count": 16,
      "outputs": [
        {
          "output_type": "display_data",
          "data": {
            "image/png": "[encoded data removed]",
            "text/plain": [
              "<Figure size 576x432 with 1 Axes>"
            ]
          },
          "metadata": {
            "tags": []
          }
        }
      ]
    },
    {
      "metadata": {
        "id": "FZ4l-oNtYdOv",
        "colab_type": "code",
        "colab": {}
      },
      "cell_type": "code",
      "source": [
        ""
      ],
      "execution_count": 0,
      "outputs": []
    },
    {
      "metadata": {
        "id": "RJ_64nUIZA3W",
        "colab_type": "code",
        "colab": {}
      },
      "cell_type": "code",
      "source": [
        ""
      ],
      "execution_count": 0,
      "outputs": []
    }
  ]
}