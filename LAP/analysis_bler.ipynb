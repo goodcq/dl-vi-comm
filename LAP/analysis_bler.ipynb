{
 "cells": [
  {
   "cell_type": "markdown",
   "metadata": {},
   "source": [
    "# Analysis of results in Laplace Channel"
   ]
  },
  {
   "cell_type": "code",
   "execution_count": 44,
   "metadata": {},
   "outputs": [],
   "source": [
    "import numpy as np\n",
    "import pickle\n",
    "from itertools import cycle, product\n",
    "import dill\n",
    "\n",
    "import matplotlib.pyplot as plt\n",
    "from scipy.spatial.distance import cdist"
   ]
  },
  {
   "cell_type": "code",
   "execution_count": 45,
   "metadata": {},
   "outputs": [],
   "source": [
    "# The one who steals the data\n",
    "def robinhood(fig, filename, col_dtype=[float, float], col_fmt=None):\n",
    "    assert (len(fig.axes) < 2), \"More than one axis not supported\"\n",
    "    ax = fig.axes[0]\n",
    "    \n",
    "    header = []\n",
    "    fmt = []\n",
    "    \n",
    "    # Don't modify the argument here, it will get updated for all the following calls\n",
    "    if not col_fmt:\n",
    "        _col_fmt = [ \"%d\" if d == int else \"%.5f\" for d in col_dtype ]\n",
    "    else:\n",
    "        _col_fmt = col_fmt.copy()\n",
    "    \n",
    "    n_lines = len(ax.lines)\n",
    "    x_data = ax.lines[0].get_xdata()\n",
    "    \n",
    "    data = np.zeros((x_data.shape[0], 2 * n_lines))\n",
    "    \n",
    "    for(i, line) in enumerate(ax.lines):\n",
    "        data[:, 2*i] = line.get_xdata()\n",
    "        data[:, 2*i+1] = line.get_ydata()\n",
    "        \n",
    "        header += [\"x_\" + line.get_label(), \"y_\" + line.get_label()]\n",
    "        fmt += _col_fmt\n",
    "            \n",
    "    if filename is not None:\n",
    "        with open(filename, 'w') as f:\n",
    "            f.write(\",\".join(header) + \"\\n\")\n",
    "            np.savetxt(f, data, delimiter=\",\", fmt=\",\".join(fmt))"
   ]
  },
  {
   "cell_type": "markdown",
   "metadata": {},
   "source": [
    "#### System Configuration"
   ]
  },
  {
   "cell_type": "code",
   "execution_count": 46,
   "metadata": {},
   "outputs": [],
   "source": [
    "blkSize     = 4\n",
    "chDim       = 2\n",
    "\n",
    "# Input\n",
    "inVecDim   = 2 ** blkSize  # 1-hot vector length for block\n",
    "encDim = 2*chDim\n",
    "\n",
    "SNR_range_dB = np.arange( 0.0, 11.0, 1.0 )"
   ]
  },
  {
   "cell_type": "markdown",
   "metadata": {},
   "source": [
    "To store the results"
   ]
  },
  {
   "cell_type": "code",
   "execution_count": 47,
   "metadata": {},
   "outputs": [],
   "source": [
    "results = {}"
   ]
  },
  {
   "cell_type": "markdown",
   "metadata": {},
   "source": [
    "## Traditional Systems"
   ]
  },
  {
   "cell_type": "markdown",
   "metadata": {},
   "source": [
    "### QAM"
   ]
  },
  {
   "cell_type": "markdown",
   "metadata": {},
   "source": [
    "Generate QPSK Map"
   ]
  },
  {
   "cell_type": "code",
   "execution_count": 48,
   "metadata": {},
   "outputs": [
    {
     "name": "stdout",
     "output_type": "stream",
     "text": [
      "QAM Avg. Tx Power: 4.0\n"
     ]
    }
   ],
   "source": [
    "if blkSize == 2*chDim:\n",
    "    qam_map = np.array(list(map(list, product([-1, +1], repeat=blkSize))))\n",
    "elif blkSize==4 and chDim==1:\n",
    "    qam_map = np.array([\n",
    "        [ -3.0, -3.0 ],\n",
    "        [ -3.0, -1.0 ],\n",
    "        [ -3.0, 1.0 ],\n",
    "        [ -3.0, 3.0 ],\n",
    "        [ -1.0, -3.0 ],\n",
    "        [ -1.0, -1.0 ],\n",
    "        [ -1.0, 1.0 ],\n",
    "        [ -1.0, 3.0 ],\n",
    "        [ 1.0, -3.0 ],\n",
    "        [ 1.0, -1.0 ],\n",
    "        [ 1.0, 1.0 ],\n",
    "        [ 1.0, 3.0 ],\n",
    "        [ 3.0, -3.0 ],\n",
    "        [ 3.0, -1.0 ],\n",
    "        [ 3.0, 1.0 ],\n",
    "        [ 3.0, 3.0 ]\n",
    "    ])\n",
    "else:\n",
    "    raise NotImplementedError(\"Not implemented (blkSize={},chDim={})\".format(blkSize,chDim))\n",
    "qam_sym_pow = np.mean(np.sum(qam_map*qam_map,axis=1))\n",
    "print( \"QAM Avg. Tx Power:\", qam_sym_pow )\n",
    "\n",
    "noisePower = qam_sym_pow * 10.0**(-SNR_range_dB/10.0)\n",
    "n0_per_comp = noisePower/(2*chDim)"
   ]
  },
  {
   "cell_type": "markdown",
   "metadata": {},
   "source": [
    "Test BLER for SNR Range"
   ]
  },
  {
   "cell_type": "code",
   "execution_count": 49,
   "metadata": {},
   "outputs": [],
   "source": [
    "err = []\n",
    "for n0 in n0_per_comp:\n",
    "  thisErr = 0\n",
    "  thisCount = 0\n",
    "  while thisErr < 1000:\n",
    "    txSym = np.random.randint(inVecDim, size=1000)\n",
    "    txTest = qam_map[txSym]\n",
    "    rxTest = txTest + np.random.laplace(scale=np.sqrt(n0/2), size=txTest.shape)\n",
    "    rxDecode = cdist(rxTest, qam_map)\n",
    "    rxSym = np.argmin(rxDecode,axis=1)\n",
    "    thisErr += np.sum(rxSym!=txSym)\n",
    "    thisCount += 1000\n",
    "  err.append(thisErr/thisCount)\n",
    "results[\"QAM\"] = np.array(err)"
   ]
  },
  {
   "cell_type": "markdown",
   "metadata": {},
   "source": [
    "### Agrell"
   ]
  },
  {
   "cell_type": "code",
   "execution_count": 50,
   "metadata": {},
   "outputs": [
    {
     "name": "stdout",
     "output_type": "stream",
     "text": [
      "Agrell Avg. Tx Power: 3.095200273238941\n"
     ]
    }
   ],
   "source": [
    "agrell_map = []\n",
    "if blkSize==2 and chDim==1:\n",
    "    agrell_map = np.array([\n",
    "        [ -1.0, -1.0 ],\n",
    "        [ -1.0, 1.0 ],\n",
    "        [ 1.0, -1.0 ],\n",
    "        [ 1.0, 1.0 ]\n",
    "    ])\n",
    "#     agrell_map = np.array([\n",
    "#         [ +1.0,  0.0 ],\n",
    "#         [  0.0, +1.0 ],\n",
    "#         [ -1.0,  0.0 ],\n",
    "#         [  0.0, -1.0 ]\n",
    "#     ])\n",
    "elif blkSize==4 and chDim==1:\n",
    "    agrell_map = np.array([\n",
    "        [ -7.0, -3.4641016151377544 ],\n",
    "        [ -7.0, 3.4641016151377544 ],\n",
    "        [ -5.0, 0. ],\n",
    "        [ -3.0, -3.4641016151377544 ],\n",
    "        [ -3.0, 3.4641016151377544 ],\n",
    "        [ -1.0, -6.928203230275509 ],\n",
    "        [ -1.0, 0. ],\n",
    "        [ -1.0, 6.928203230275509 ],\n",
    "        [ 1.0, -3.4641016151377544 ],\n",
    "        [ 1.0, 3.4641016151377544 ],\n",
    "        [ 3.0, -6.928203230275509 ],\n",
    "        [ 3.0, 0. ],\n",
    "        [ 3.0, 6.928203230275509 ],\n",
    "        [ 5.0, -3.4641016151377544 ],\n",
    "        [ 5.0, 3.4641016151377544 ],\n",
    "        [ 7.0, 0. ]\n",
    "    ])\n",
    "elif blkSize==4 and chDim==2:\n",
    "    agrell_map = np.array([\n",
    "        [2.148934030042627, 0.0, 0.0, 0.0],\n",
    "        [0.7347204676695321, 1.4142135623730951, 0.0, 0.0],\n",
    "        [0.7347204676695321, -1.4142135623730951, 0.0, 0.0],\n",
    "        [0.7347204676695321, 0.0, 1.4142135623730951, 0.0],\n",
    "        [0.7347204676695321, 0.0, -1.4142135623730951, 0.0],\n",
    "        [0.7347204676695321, 0.0, 0.0, 1.4142135623730951],\n",
    "        [0.7347204676695321, 0.0, 0.0, -1.4142135623730951],\n",
    "        [-0.6174729817844246, 1.0, 1.0, 1.0],\n",
    "        [-0.6174729817844246, 1.0, 1.0, -1.0],\n",
    "        [-0.6174729817844246, 1.0, -1.0, 1.0],\n",
    "        [-0.6174729817844246, 1.0, -1.0, -1.0],\n",
    "        [-0.6174729817844246, -1.0, 1.0, 1.0],\n",
    "        [-0.6174729817844246, -1.0, 1.0, -1.0],\n",
    "        [-0.6174729817844246, -1.0, -1.0, 1.0],\n",
    "        [-0.6174729817844246, -1.0, -1.0, -1.0],\n",
    "        [-1.6174729817844242, 0.0, 0.0, 0.0]\n",
    "    ])\n",
    "elif blkSize==8 and chDim==4:\n",
    "    agrell_map = np.array([\n",
    "        [ -256.0, -256.0, 8.0, -8.0, -8.0, 14.0, 11.0, -11.0 ],\n",
    "        [ -256.0, 0.0, -248.0, -8.0, -8.0, 14.0, 11.0, -11.0 ],\n",
    "        [ -256.0, 0.0, 8.0, -264.0, -8.0, 14.0, 11.0, -11.0 ],\n",
    "        [ -256.0, 0.0, 8.0, -8.0, -264.0, 14.0, 11.0, -11.0 ],\n",
    "        [ -256.0, 0.0, 8.0, -8.0, -8.0, -242.0, 11.0, -11.0 ],\n",
    "        [ -256.0, 0.0, 8.0, -8.0, -8.0, 14.0, -245.0, -11.0 ],\n",
    "        [ -256.0, 0.0, 8.0, -8.0, -8.0, 14.0, 11.0, -267.0 ],\n",
    "        [ -256.0, 0.0, 8.0, -8.0, -8.0, 14.0, 11.0, 245.0 ],\n",
    "        [ -256.0, 0.0, 8.0, -8.0, -8.0, 14.0, 267.0, -11.0 ],\n",
    "        [ -256.0, 0.0, 8.0, -8.0, -8.0, 270.0, 11.0, -11.0 ],\n",
    "        [ -256.0, 0.0, 8.0, -8.0, 248.0, 14.0, 11.0, -11.0 ],\n",
    "        [ -256.0, 0.0, 8.0, 248.0, -8.0, 14.0, 11.0, -11.0 ],\n",
    "        [ -256.0, 0.0, 264.0, -8.0, -8.0, 14.0, 11.0, -11.0 ],\n",
    "        [ -256.0, 256.0, 8.0, -8.0, -8.0, 14.0, 11.0, -11.0 ],\n",
    "        [ -128.0, -128.0, -120.0, -136.0, -136.0, -114.0, -117.0, -139.0 ],\n",
    "        [ -128.0, -128.0, -120.0, -136.0, -136.0, -114.0, 139.0, 117.0 ],\n",
    "        [ -128.0, -128.0, -120.0, -136.0, -136.0, 142.0, -117.0, 117.0 ],\n",
    "        [ -128.0, -128.0, -120.0, -136.0, -136.0, 142.0, 139.0, -139.0 ],\n",
    "        [ -128.0, -128.0, -120.0, -136.0, 120.0, -114.0, -117.0, 117.0 ],\n",
    "        [ -128.0, -128.0, -120.0, -136.0, 120.0, -114.0, 139.0, -139.0 ],\n",
    "        [ -128.0, -128.0, -120.0, -136.0, 120.0, 142.0, -117.0, -139.0 ],\n",
    "        [ -128.0, -128.0, -120.0, -136.0, 120.0, 142.0, 139.0, 117.0 ],\n",
    "        [ -128.0, -128.0, -120.0, 120.0, -136.0, -114.0, -117.0, 117.0 ],\n",
    "        [ -128.0, -128.0, -120.0, 120.0, -136.0, -114.0, 139.0, -139.0 ],\n",
    "        [ -128.0, -128.0, -120.0, 120.0, -136.0, 142.0, -117.0, -139.0 ],\n",
    "        [ -128.0, -128.0, -120.0, 120.0, -136.0, 142.0, 139.0, 117.0 ],\n",
    "        [ -128.0, -128.0, -120.0, 120.0, 120.0, -370.0, -117.0, 117.0 ],\n",
    "        [ -128.0, -128.0, -120.0, 120.0, 120.0, -114.0, -373.0, 117.0 ],\n",
    "        [ -128.0, -128.0, -120.0, 120.0, 120.0, -114.0, -117.0, -139.0 ],\n",
    "        [ -128.0, -128.0, -120.0, 120.0, 120.0, -114.0, -117.0, 373.0 ],\n",
    "        [ -128.0, -128.0, -120.0, 120.0, 120.0, -114.0, 139.0, 117.0 ],\n",
    "        [ -128.0, -128.0, -120.0, 120.0, 120.0, 142.0, -117.0, 117.0 ],\n",
    "        [ -128.0, -128.0, -120.0, 120.0, 120.0, 142.0, 139.0, -139.0 ],\n",
    "        [ -128.0, -128.0, 136.0, -136.0, -136.0, -114.0, -117.0, 117.0 ],\n",
    "        [ -128.0, -128.0, 136.0, -136.0, -136.0, -114.0, 139.0, -139.0 ],\n",
    "        [ -128.0, -128.0, 136.0, -136.0, -136.0, 142.0, -117.0, -139.0 ],\n",
    "        [ -128.0, -128.0, 136.0, -136.0, -136.0, 142.0, 139.0, 117.0 ],\n",
    "        [ -128.0, -128.0, 136.0, -136.0, 120.0, -114.0, -117.0, -139.0 ],\n",
    "        [ -128.0, -128.0, 136.0, -136.0, 120.0, -114.0, 139.0, 117.0 ],\n",
    "        [ -128.0, -128.0, 136.0, -136.0, 120.0, 142.0, -117.0, 117.0 ],\n",
    "        [ -128.0, -128.0, 136.0, -136.0, 120.0, 142.0, 139.0, -139.0 ],\n",
    "        [ -128.0, -128.0, 136.0, 120.0, -136.0, -114.0, -117.0, -139.0 ],\n",
    "        [ -128.0, -128.0, 136.0, 120.0, -136.0, -114.0, 139.0, 117.0 ],\n",
    "        [ -128.0, -128.0, 136.0, 120.0, -136.0, 142.0, -117.0, 117.0 ],\n",
    "        [ -128.0, -128.0, 136.0, 120.0, -136.0, 142.0, 139.0, -139.0 ],\n",
    "        [ -128.0, -128.0, 136.0, 120.0, 120.0, -114.0, -117.0, 117.0 ],\n",
    "        [ -128.0, -128.0, 136.0, 120.0, 120.0, -114.0, 139.0, -139.0 ],\n",
    "        [ -128.0, -128.0, 136.0, 120.0, 120.0, 142.0, -117.0, -139.0 ],\n",
    "        [ -128.0, -128.0, 136.0, 120.0, 120.0, 142.0, 139.0, 117.0 ],\n",
    "        [ -128.0, 128.0, -120.0, -136.0, -136.0, -114.0, -117.0, 117.0 ],\n",
    "        [ -128.0, 128.0, -120.0, -136.0, -136.0, -114.0, 139.0, -139.0 ],\n",
    "        [ -128.0, 128.0, -120.0, -136.0, -136.0, 142.0, -117.0, -139.0 ],\n",
    "        [ -128.0, 128.0, -120.0, -136.0, -136.0, 142.0, 139.0, 117.0 ],\n",
    "        [ -128.0, 128.0, -120.0, -136.0, 120.0, -114.0, -117.0, -139.0 ],\n",
    "        [ -128.0, 128.0, -120.0, -136.0, 120.0, -114.0, 139.0, 117.0 ],\n",
    "        [ -128.0, 128.0, -120.0, -136.0, 120.0, 142.0, -117.0, 117.0 ],\n",
    "        [ -128.0, 128.0, -120.0, -136.0, 120.0, 142.0, 139.0, -139.0 ],\n",
    "        [ -128.0, 128.0, -120.0, 120.0, -136.0, -114.0, -117.0, -139.0 ],\n",
    "        [ -128.0, 128.0, -120.0, 120.0, -136.0, -114.0, 139.0, 117.0 ],\n",
    "        [ -128.0, 128.0, -120.0, 120.0, -136.0, 142.0, -117.0, 117.0 ],\n",
    "        [ -128.0, 128.0, -120.0, 120.0, -136.0, 142.0, 139.0, -139.0 ],\n",
    "        [ -128.0, 128.0, -120.0, 120.0, 120.0, -114.0, -117.0, 117.0 ],\n",
    "        [ -128.0, 128.0, -120.0, 120.0, 120.0, -114.0, 139.0, -139.0 ],\n",
    "        [ -128.0, 128.0, -120.0, 120.0, 120.0, 142.0, -117.0, -139.0 ],\n",
    "        [ -128.0, 128.0, -120.0, 120.0, 120.0, 142.0, 139.0, 117.0 ],\n",
    "        [ -128.0, 128.0, 136.0, -136.0, -136.0, -114.0, -117.0, -139.0 ],\n",
    "        [ -128.0, 128.0, 136.0, -136.0, -136.0, -114.0, 139.0, 117.0 ],\n",
    "        [ -128.0, 128.0, 136.0, -136.0, -136.0, 142.0, -117.0, 117.0 ],\n",
    "        [ -128.0, 128.0, 136.0, -136.0, -136.0, 142.0, 139.0, -139.0 ],\n",
    "        [ -128.0, 128.0, 136.0, -136.0, 120.0, -114.0, -117.0, 117.0 ],\n",
    "        [ -128.0, 128.0, 136.0, -136.0, 120.0, -114.0, 139.0, -139.0 ],\n",
    "        [ -128.0, 128.0, 136.0, -136.0, 120.0, 142.0, -117.0, -139.0 ],\n",
    "        [ -128.0, 128.0, 136.0, -136.0, 120.0, 142.0, 139.0, 117.0 ],\n",
    "        [ -128.0, 128.0, 136.0, 120.0, -136.0, -114.0, -117.0, 117.0 ],\n",
    "        [ -128.0, 128.0, 136.0, 120.0, -136.0, -114.0, 139.0, -139.0 ],\n",
    "        [ -128.0, 128.0, 136.0, 120.0, -136.0, 142.0, -117.0, -139.0 ],\n",
    "        [ -128.0, 128.0, 136.0, 120.0, -136.0, 142.0, 139.0, 117.0 ],\n",
    "        [ -128.0, 128.0, 136.0, 120.0, 120.0, -114.0, -117.0, -139.0 ],\n",
    "        [ -128.0, 128.0, 136.0, 120.0, 120.0, -114.0, 139.0, 117.0 ],\n",
    "        [ -128.0, 128.0, 136.0, 120.0, 120.0, 142.0, -117.0, 117.0 ],\n",
    "        [ -128.0, 128.0, 136.0, 120.0, 120.0, 142.0, 139.0, -139.0 ],\n",
    "        [ 0.0, -256.0, -248.0, -8.0, -8.0, 14.0, 11.0, -11.0 ],\n",
    "        [ 0.0, -256.0, 8.0, -264.0, -8.0, 14.0, 11.0, -11.0 ],\n",
    "        [ 0.0, -256.0, 8.0, -8.0, -264.0, 14.0, 11.0, -11.0 ],\n",
    "        [ 0.0, -256.0, 8.0, -8.0, -8.0, -242.0, 11.0, -11.0 ],\n",
    "        [ 0.0, -256.0, 8.0, -8.0, -8.0, 14.0, -245.0, -11.0 ],\n",
    "        [ 0.0, -256.0, 8.0, -8.0, -8.0, 14.0, 11.0, -267.0 ],\n",
    "        [ 0.0, -256.0, 8.0, -8.0, -8.0, 14.0, 11.0, 245.0 ],\n",
    "        [ 0.0, -256.0, 8.0, -8.0, -8.0, 14.0, 267.0, -11.0 ],\n",
    "        [ 0.0, -256.0, 8.0, -8.0, -8.0, 270.0, 11.0, -11.0 ],\n",
    "        [ 0.0, -256.0, 8.0, -8.0, 248.0, 14.0, 11.0, -11.0 ],\n",
    "        [ 0.0, -256.0, 8.0, 248.0, -8.0, 14.0, 11.0, -11.0 ],\n",
    "        [ 0.0, -256.0, 264.0, -8.0, -8.0, 14.0, 11.0, -11.0 ],\n",
    "        [ 0.0, 0.0, -248.0, -264.0, -8.0, 14.0, 11.0, -11.0 ],\n",
    "        [ 0.0, 0.0, -248.0, -8.0, -264.0, 14.0, 11.0, -11.0 ],\n",
    "        [ 0.0, 0.0, -248.0, -8.0, -8.0, -242.0, -245.0, 245.0 ],\n",
    "        [ 0.0, 0.0, -248.0, -8.0, -8.0, -242.0, 11.0, -11.0 ],\n",
    "        [ 0.0, 0.0, -248.0, -8.0, -8.0, 14.0, -245.0, -11.0 ],\n",
    "        [ 0.0, 0.0, -248.0, -8.0, -8.0, 14.0, 11.0, -267.0 ],\n",
    "        [ 0.0, 0.0, -248.0, -8.0, -8.0, 14.0, 11.0, 245.0 ],\n",
    "        [ 0.0, 0.0, -248.0, -8.0, -8.0, 14.0, 267.0, -11.0 ],\n",
    "        [ 0.0, 0.0, -248.0, -8.0, -8.0, 270.0, 11.0, -11.0 ],\n",
    "        [ 0.0, 0.0, -248.0, -8.0, 248.0, -242.0, -245.0, -11.0 ],\n",
    "        [ 0.0, 0.0, -248.0, -8.0, 248.0, -242.0, 11.0, 245.0 ],\n",
    "        [ 0.0, 0.0, -248.0, -8.0, 248.0, 14.0, 11.0, -11.0 ],\n",
    "        [ 0.0, 0.0, -248.0, 248.0, -8.0, -242.0, -245.0, -11.0 ],\n",
    "        [ 0.0, 0.0, -248.0, 248.0, -8.0, -242.0, 11.0, 245.0 ],\n",
    "        [ 0.0, 0.0, -248.0, 248.0, -8.0, 14.0, 11.0, -11.0 ],\n",
    "        [ 0.0, 0.0, 8.0, -264.0, -264.0, 14.0, 11.0, -11.0 ],\n",
    "        [ 0.0, 0.0, 8.0, -264.0, -8.0, -242.0, 11.0, -11.0 ],\n",
    "        [ 0.0, 0.0, 8.0, -264.0, -8.0, 14.0, -245.0, -11.0 ],\n",
    "        [ 0.0, 0.0, 8.0, -264.0, -8.0, 14.0, 11.0, -267.0 ],\n",
    "        [ 0.0, 0.0, 8.0, -264.0, -8.0, 14.0, 11.0, 245.0 ],\n",
    "        [ 0.0, 0.0, 8.0, -264.0, -8.0, 14.0, 267.0, -11.0 ],\n",
    "        [ 0.0, 0.0, 8.0, -264.0, -8.0, 270.0, 11.0, -11.0 ],\n",
    "        [ 0.0, 0.0, 8.0, -264.0, 248.0, 14.0, 11.0, -11.0 ],\n",
    "        [ 0.0, 0.0, 8.0, -8.0, -264.0, -242.0, 11.0, -11.0 ],\n",
    "        [ 0.0, 0.0, 8.0, -8.0, -264.0, 14.0, -245.0, -11.0 ],\n",
    "        [ 0.0, 0.0, 8.0, -8.0, -264.0, 14.0, 11.0, -267.0 ],\n",
    "        [ 0.0, 0.0, 8.0, -8.0, -264.0, 14.0, 11.0, 245.0 ],\n",
    "        [ 0.0, 0.0, 8.0, -8.0, -264.0, 14.0, 267.0, -11.0 ],\n",
    "        [ 0.0, 0.0, 8.0, -8.0, -264.0, 270.0, 11.0, -11.0 ],\n",
    "        [ 0.0, 0.0, 8.0, -8.0, -8.0, -242.0, -245.0, -11.0 ],\n",
    "        [ 0.0, 0.0, 8.0, -8.0, -8.0, -242.0, 11.0, -267.0 ],\n",
    "        [ 0.0, 0.0, 8.0, -8.0, -8.0, -242.0, 11.0, 245.0 ],\n",
    "        [ 0.0, 0.0, 8.0, -8.0, -8.0, -242.0, 267.0, -11.0 ],\n",
    "        [ 0.0, 0.0, 8.0, -8.0, -8.0, 14.0, -245.0, -267.0 ],\n",
    "        [ 0.0, 0.0, 8.0, -8.0, -8.0, 14.0, -245.0, 245.0 ],\n",
    "        [ 0.0, 0.0, 8.0, -8.0, -8.0, 14.0, 11.0, -11.0 ],\n",
    "        [ 0.0, 0.0, 8.0, -8.0, -8.0, 14.0, 267.0, -267.0 ],\n",
    "        [ 0.0, 0.0, 8.0, -8.0, -8.0, 14.0, 267.0, 245.0 ],\n",
    "        [ 0.0, 0.0, 8.0, -8.0, -8.0, 270.0, -245.0, -11.0 ],\n",
    "        [ 0.0, 0.0, 8.0, -8.0, -8.0, 270.0, 11.0, -267.0 ],\n",
    "        [ 0.0, 0.0, 8.0, -8.0, -8.0, 270.0, 11.0, 245.0 ],\n",
    "        [ 0.0, 0.0, 8.0, -8.0, -8.0, 270.0, 267.0, -11.0 ],\n",
    "        [ 0.0, 0.0, 8.0, -8.0, 248.0, -242.0, -245.0, 245.0 ],\n",
    "        [ 0.0, 0.0, 8.0, -8.0, 248.0, -242.0, 11.0, -11.0 ],\n",
    "        [ 0.0, 0.0, 8.0, -8.0, 248.0, 14.0, -245.0, -11.0 ],\n",
    "        [ 0.0, 0.0, 8.0, -8.0, 248.0, 14.0, 11.0, -267.0 ],\n",
    "        [ 0.0, 0.0, 8.0, -8.0, 248.0, 14.0, 11.0, 245.0 ],\n",
    "        [ 0.0, 0.0, 8.0, -8.0, 248.0, 14.0, 267.0, -11.0 ],\n",
    "        [ 0.0, 0.0, 8.0, -8.0, 248.0, 270.0, 11.0, -11.0 ],\n",
    "        [ 0.0, 0.0, 8.0, 248.0, -264.0, 14.0, 11.0, -11.0 ],\n",
    "        [ 0.0, 0.0, 8.0, 248.0, -8.0, -242.0, -245.0, 245.0 ],\n",
    "        [ 0.0, 0.0, 8.0, 248.0, -8.0, -242.0, 11.0, -11.0 ],\n",
    "        [ 0.0, 0.0, 8.0, 248.0, -8.0, 14.0, -245.0, -11.0 ],\n",
    "        [ 0.0, 0.0, 8.0, 248.0, -8.0, 14.0, 11.0, -267.0 ],\n",
    "        [ 0.0, 0.0, 8.0, 248.0, -8.0, 14.0, 11.0, 245.0 ],\n",
    "        [ 0.0, 0.0, 8.0, 248.0, -8.0, 14.0, 267.0, -11.0 ],\n",
    "        [ 0.0, 0.0, 8.0, 248.0, -8.0, 270.0, 11.0, -11.0 ],\n",
    "        [ 0.0, 0.0, 8.0, 248.0, 248.0, -242.0, -245.0, -11.0 ],\n",
    "        [ 0.0, 0.0, 8.0, 248.0, 248.0, -242.0, 11.0, 245.0 ],\n",
    "        [ 0.0, 0.0, 8.0, 248.0, 248.0, 14.0, 11.0, -11.0 ],\n",
    "        [ 0.0, 0.0, 264.0, -264.0, -8.0, 14.0, 11.0, -11.0 ],\n",
    "        [ 0.0, 0.0, 264.0, -8.0, -264.0, 14.0, 11.0, -11.0 ],\n",
    "        [ 0.0, 0.0, 264.0, -8.0, -8.0, -242.0, 11.0, -11.0 ],\n",
    "        [ 0.0, 0.0, 264.0, -8.0, -8.0, 14.0, -245.0, -11.0 ],\n",
    "        [ 0.0, 0.0, 264.0, -8.0, -8.0, 14.0, 11.0, -267.0 ],\n",
    "        [ 0.0, 0.0, 264.0, -8.0, -8.0, 14.0, 11.0, 245.0 ],\n",
    "        [ 0.0, 0.0, 264.0, -8.0, -8.0, 14.0, 267.0, -11.0 ],\n",
    "        [ 0.0, 0.0, 264.0, -8.0, -8.0, 270.0, 11.0, -11.0 ],\n",
    "        [ 0.0, 0.0, 264.0, -8.0, 248.0, 14.0, 11.0, -11.0 ],\n",
    "        [ 0.0, 0.0, 264.0, 248.0, -8.0, 14.0, 11.0, -11.0 ],\n",
    "        [ 0.0, 256.0, -248.0, -8.0, -8.0, 14.0, 11.0, -11.0 ],\n",
    "        [ 0.0, 256.0, 8.0, -264.0, -8.0, 14.0, 11.0, -11.0 ],\n",
    "        [ 0.0, 256.0, 8.0, -8.0, -264.0, 14.0, 11.0, -11.0 ],\n",
    "        [ 0.0, 256.0, 8.0, -8.0, -8.0, -242.0, 11.0, -11.0 ],\n",
    "        [ 0.0, 256.0, 8.0, -8.0, -8.0, 14.0, -245.0, -11.0 ],\n",
    "        [ 0.0, 256.0, 8.0, -8.0, -8.0, 14.0, 11.0, -267.0 ],\n",
    "        [ 0.0, 256.0, 8.0, -8.0, -8.0, 14.0, 11.0, 245.0 ],\n",
    "        [ 0.0, 256.0, 8.0, -8.0, -8.0, 14.0, 267.0, -11.0 ],\n",
    "        [ 0.0, 256.0, 8.0, -8.0, -8.0, 270.0, 11.0, -11.0 ],\n",
    "        [ 0.0, 256.0, 8.0, -8.0, 248.0, 14.0, 11.0, -11.0 ],\n",
    "        [ 0.0, 256.0, 8.0, 248.0, -8.0, 14.0, 11.0, -11.0 ],\n",
    "        [ 0.0, 256.0, 264.0, -8.0, -8.0, 14.0, 11.0, -11.0 ],\n",
    "        [ 128.0, -128.0, -120.0, -136.0, -136.0, -114.0, -117.0, 117.0 ],\n",
    "        [ 128.0, -128.0, -120.0, -136.0, -136.0, -114.0, 139.0, -139.0 ],\n",
    "        [ 128.0, -128.0, -120.0, -136.0, -136.0, 142.0, -117.0, -139.0 ],\n",
    "        [ 128.0, -128.0, -120.0, -136.0, -136.0, 142.0, 139.0, 117.0 ],\n",
    "        [ 128.0, -128.0, -120.0, -136.0, 120.0, -114.0, -117.0, -139.0 ],\n",
    "        [ 128.0, -128.0, -120.0, -136.0, 120.0, -114.0, 139.0, 117.0 ],\n",
    "        [ 128.0, -128.0, -120.0, -136.0, 120.0, 142.0, -117.0, 117.0 ],\n",
    "        [ 128.0, -128.0, -120.0, -136.0, 120.0, 142.0, 139.0, -139.0 ],\n",
    "        [ 128.0, -128.0, -120.0, 120.0, -136.0, -114.0, -117.0, -139.0 ],\n",
    "        [ 128.0, -128.0, -120.0, 120.0, -136.0, -114.0, 139.0, 117.0 ],\n",
    "        [ 128.0, -128.0, -120.0, 120.0, -136.0, 142.0, -117.0, 117.0 ],\n",
    "        [ 128.0, -128.0, -120.0, 120.0, -136.0, 142.0, 139.0, -139.0 ],\n",
    "        [ 128.0, -128.0, -120.0, 120.0, 120.0, -114.0, -117.0, 117.0 ],\n",
    "        [ 128.0, -128.0, -120.0, 120.0, 120.0, -114.0, 139.0, -139.0 ],\n",
    "        [ 128.0, -128.0, -120.0, 120.0, 120.0, 142.0, -117.0, -139.0 ],\n",
    "        [ 128.0, -128.0, -120.0, 120.0, 120.0, 142.0, 139.0, 117.0 ],\n",
    "        [ 128.0, -128.0, 136.0, -136.0, -136.0, -114.0, -117.0, -139.0 ],\n",
    "        [ 128.0, -128.0, 136.0, -136.0, -136.0, -114.0, 139.0, 117.0 ],\n",
    "        [ 128.0, -128.0, 136.0, -136.0, -136.0, 142.0, -117.0, 117.0 ],\n",
    "        [ 128.0, -128.0, 136.0, -136.0, -136.0, 142.0, 139.0, -139.0 ],\n",
    "        [ 128.0, -128.0, 136.0, -136.0, 120.0, -114.0, -117.0, 117.0 ],\n",
    "        [ 128.0, -128.0, 136.0, -136.0, 120.0, -114.0, 139.0, -139.0 ],\n",
    "        [ 128.0, -128.0, 136.0, -136.0, 120.0, 142.0, -117.0, -139.0 ],\n",
    "        [ 128.0, -128.0, 136.0, -136.0, 120.0, 142.0, 139.0, 117.0 ],\n",
    "        [ 128.0, -128.0, 136.0, 120.0, -136.0, -114.0, -117.0, 117.0 ],\n",
    "        [ 128.0, -128.0, 136.0, 120.0, -136.0, -114.0, 139.0, -139.0 ],\n",
    "        [ 128.0, -128.0, 136.0, 120.0, -136.0, 142.0, -117.0, -139.0 ],\n",
    "        [ 128.0, -128.0, 136.0, 120.0, -136.0, 142.0, 139.0, 117.0 ],\n",
    "        [ 128.0, -128.0, 136.0, 120.0, 120.0, -114.0, -117.0, -139.0 ],\n",
    "        [ 128.0, -128.0, 136.0, 120.0, 120.0, -114.0, 139.0, 117.0 ],\n",
    "        [ 128.0, -128.0, 136.0, 120.0, 120.0, 142.0, -117.0, 117.0 ],\n",
    "        [ 128.0, -128.0, 136.0, 120.0, 120.0, 142.0, 139.0, -139.0 ],\n",
    "        [ 128.0, 128.0, -120.0, -136.0, -136.0, -114.0, -117.0, -139.0 ],\n",
    "        [ 128.0, 128.0, -120.0, -136.0, -136.0, -114.0, 139.0, 117.0 ],\n",
    "        [ 128.0, 128.0, -120.0, -136.0, -136.0, 142.0, -117.0, 117.0 ],\n",
    "        [ 128.0, 128.0, -120.0, -136.0, -136.0, 142.0, 139.0, -139.0 ],\n",
    "        [ 128.0, 128.0, -120.0, -136.0, 120.0, -114.0, -117.0, 117.0 ],\n",
    "        [ 128.0, 128.0, -120.0, -136.0, 120.0, -114.0, 139.0, -139.0 ],\n",
    "        [ 128.0, 128.0, -120.0, -136.0, 120.0, 142.0, -117.0, -139.0 ],\n",
    "        [ 128.0, 128.0, -120.0, -136.0, 120.0, 142.0, 139.0, 117.0 ],\n",
    "        [ 128.0, 128.0, -120.0, 120.0, -136.0, -114.0, -117.0, 117.0 ],\n",
    "        [ 128.0, 128.0, -120.0, 120.0, -136.0, -114.0, 139.0, -139.0 ],\n",
    "        [ 128.0, 128.0, -120.0, 120.0, -136.0, 142.0, -117.0, -139.0 ],\n",
    "        [ 128.0, 128.0, -120.0, 120.0, -136.0, 142.0, 139.0, 117.0 ],\n",
    "        [ 128.0, 128.0, -120.0, 120.0, 120.0, -370.0, -117.0, 117.0 ],\n",
    "        [ 128.0, 128.0, -120.0, 120.0, 120.0, -114.0, -373.0, 117.0 ],\n",
    "        [ 128.0, 128.0, -120.0, 120.0, 120.0, -114.0, -117.0, -139.0 ],\n",
    "        [ 128.0, 128.0, -120.0, 120.0, 120.0, -114.0, -117.0, 373.0 ],\n",
    "        [ 128.0, 128.0, -120.0, 120.0, 120.0, -114.0, 139.0, 117.0 ],\n",
    "        [ 128.0, 128.0, -120.0, 120.0, 120.0, 142.0, -117.0, 117.0 ],\n",
    "        [ 128.0, 128.0, -120.0, 120.0, 120.0, 142.0, 139.0, -139.0 ],\n",
    "        [ 128.0, 128.0, 136.0, -136.0, -136.0, -114.0, -117.0, 117.0 ],\n",
    "        [ 128.0, 128.0, 136.0, -136.0, -136.0, -114.0, 139.0, -139.0 ],\n",
    "        [ 128.0, 128.0, 136.0, -136.0, -136.0, 142.0, -117.0, -139.0 ],\n",
    "        [ 128.0, 128.0, 136.0, -136.0, -136.0, 142.0, 139.0, 117.0 ],\n",
    "        [ 128.0, 128.0, 136.0, -136.0, 120.0, -114.0, -117.0, -139.0 ],\n",
    "        [ 128.0, 128.0, 136.0, -136.0, 120.0, -114.0, 139.0, 117.0 ],\n",
    "        [ 128.0, 128.0, 136.0, -136.0, 120.0, 142.0, -117.0, 117.0 ],\n",
    "        [ 128.0, 128.0, 136.0, -136.0, 120.0, 142.0, 139.0, -139.0 ],\n",
    "        [ 128.0, 128.0, 136.0, 120.0, -136.0, -114.0, -117.0, -139.0 ],\n",
    "        [ 128.0, 128.0, 136.0, 120.0, -136.0, -114.0, 139.0, 117.0 ],\n",
    "        [ 128.0, 128.0, 136.0, 120.0, -136.0, 142.0, -117.0, 117.0 ],\n",
    "        [ 128.0, 128.0, 136.0, 120.0, -136.0, 142.0, 139.0, -139.0 ],\n",
    "        [ 128.0, 128.0, 136.0, 120.0, 120.0, -114.0, -117.0, 117.0 ],\n",
    "        [ 128.0, 128.0, 136.0, 120.0, 120.0, -114.0, 139.0, -139.0 ],\n",
    "        [ 128.0, 128.0, 136.0, 120.0, 120.0, 142.0, -117.0, -139.0 ],\n",
    "        [ 128.0, 128.0, 136.0, 120.0, 120.0, 142.0, 139.0, 117.0 ],\n",
    "        [ 256.0, -256.0, 8.0, -8.0, -8.0, 14.0, 11.0, -11.0 ],\n",
    "        [ 256.0, 0.0, -248.0, -8.0, -8.0, 14.0, 11.0, -11.0 ],\n",
    "        [ 256.0, 0.0, 8.0, -264.0, -8.0, 14.0, 11.0, -11.0 ],\n",
    "        [ 256.0, 0.0, 8.0, -8.0, -264.0, 14.0, 11.0, -11.0 ],\n",
    "        [ 256.0, 0.0, 8.0, -8.0, -8.0, -242.0, 11.0, -11.0 ],\n",
    "        [ 256.0, 0.0, 8.0, -8.0, -8.0, 14.0, -245.0, -11.0 ],\n",
    "        [ 256.0, 0.0, 8.0, -8.0, -8.0, 14.0, 11.0, -267.0 ],\n",
    "        [ 256.0, 0.0, 8.0, -8.0, -8.0, 14.0, 11.0, 245.0 ],\n",
    "        [ 256.0, 0.0, 8.0, -8.0, -8.0, 14.0, 267.0, -11.0 ],\n",
    "        [ 256.0, 0.0, 8.0, -8.0, -8.0, 270.0, 11.0, -11.0 ],\n",
    "        [ 256.0, 0.0, 8.0, -8.0, 248.0, 14.0, 11.0, -11.0 ],\n",
    "        [ 256.0, 0.0, 8.0, 248.0, -8.0, 14.0, 11.0, -11.0 ],\n",
    "        [ 256.0, 0.0, 264.0, -8.0, -8.0, 14.0, 11.0, -11.0 ],\n",
    "        [ 256.0, 256.0, 8.0, -8.0, -8.0, 14.0, 11.0, -11.0 ] ])\n",
    "else:\n",
    "    raise NotImplementedError(\"Not implemented (blkSize={},chDim={})\".format(blkSize,chDim))\n",
    "\n",
    "agrell_sym_pow = np.mean(np.sum(agrell_map*agrell_map,axis=1))\n",
    "print( \"Agrell Avg. Tx Power:\", agrell_sym_pow )\n",
    "\n",
    "noisePower = agrell_sym_pow * 10.0**(-SNR_range_dB/10.0)\n",
    "n0_per_comp = noisePower/(2*chDim)"
   ]
  },
  {
   "cell_type": "markdown",
   "metadata": {},
   "source": [
    "Test BLER"
   ]
  },
  {
   "cell_type": "code",
   "execution_count": 51,
   "metadata": {},
   "outputs": [],
   "source": [
    "err = []\n",
    "for n0 in n0_per_comp:\n",
    "  thisErr = 0\n",
    "  thisCount = 0\n",
    "  while thisErr < 1000:\n",
    "    txSym = np.random.randint(inVecDim, size=1000)\n",
    "    txTest = agrell_map[txSym]\n",
    "    rxTest = txTest + np.random.laplace(scale=np.sqrt(n0/2), size=txTest.shape)\n",
    "    rxDecode = cdist(rxTest, agrell_map)\n",
    "    rxSym = np.argmin(rxDecode,axis=1)\n",
    "    thisErr += np.sum(rxSym!=txSym)\n",
    "    thisCount += 1000\n",
    "  err.append(thisErr/thisCount)\n",
    "results[\"Agrell\"] = np.array(err)"
   ]
  },
  {
   "cell_type": "markdown",
   "metadata": {},
   "source": [
    "### Plot results"
   ]
  },
  {
   "cell_type": "code",
   "execution_count": 52,
   "metadata": {},
   "outputs": [
    {
     "data": {
      "image/png": "[encoded data removed]",
      "text/plain": [
       "<Figure size 576x432 with 1 Axes>"
      ]
     },
     "metadata": {
      "needs_background": "light"
     },
     "output_type": "display_data"
    }
   ],
   "source": [
    "fig = plt.figure(figsize=(8,6))\n",
    "for (l,v) in results.items():\n",
    "    plt.semilogy(SNR_range_dB, v, label=l)\n",
    "plt.legend()\n",
    "plt.grid()"
   ]
  },
  {
   "cell_type": "markdown",
   "metadata": {},
   "source": [
    "## Deep Learning Models"
   ]
  },
  {
   "cell_type": "markdown",
   "metadata": {},
   "source": [
    "List of model summaries to plot"
   ]
  },
  {
   "cell_type": "code",
   "execution_count": 59,
   "metadata": {},
   "outputs": [],
   "source": [
    "model_summary = {}\n",
    "if blkSize==4 and chDim==1:\n",
    "    model_summary = {\n",
    "        \"[1]\": \"./models/AE/04x01/lap_oshea_64_32_16_010dB_summary.dil\",\n",
    "#         \"(19)\": \"./models/VAE/04x01/lap_awgn_64_32_16_n050_sigma283_summary.dil\",\n",
    "#         \"(23)\": \"./models/VAE/04x01/lap_rbf_64_32_16_n050_sigma283_summary.dil\",\n",
    "        \"vae_lap\": \"./models/VAE/04x01/lap_lap_64_32_16_n050_sigma283_summary.dil\", \n",
    "    }\n",
    "elif blkSize==4 and chDim==2:\n",
    "    model_summary = {\n",
    "#         \"[1]\": \"./models/AE/04x02/lap_oshea_64_32_16_010dB_summary.dil\",\n",
    "#         \"(19)\": \"./models/VAE/04x02/lap_awgn_64_32_16_n100_sigma283_summary.dil\",\n",
    "#         \"(23)\": \"./models/VAE/04x02/lap_rbf_64_32_16_n100_sigma283_summary.dil\",\n",
    "        \"vae_lap\": \"./models/VAE/04x02/lap_lap_64_32_16_n100_sigma283_summary.dil\", \n",
    "    }\n",
    "elif blkSize==2 and chDim==1:\n",
    "    model_summary = {\n",
    "        \"[1]\": \"./models/AE/02x01/lap_oshea_64_32_16_010dB_summary.dil\",\n",
    "#         \"(19)\": \"./models/VAE/02x01/lap_awgn_64_32_16_n050_sigma283_summary.dil\",\n",
    "#         \"(23)\": \"./models/VAE/02x01/lap_rbf_64_32_16_n050_sigma283_summary.dil\",\n",
    "        \"vae_lap\": \"./models/VAE/02x01/lap_lap_64_32_16_n050_sigma283_summary.dil\", \n",
    "    }\n",
    "else:\n",
    "    raise NotImplementedError(\"Not implemented (blkSize={},chDim={})\".format(blkSize,chDim))"
   ]
  },
  {
   "cell_type": "code",
   "execution_count": 60,
   "metadata": {},
   "outputs": [],
   "source": [
    "const_pow = {}\n",
    "bler_values = {}\n",
    "bler_mean = {}\n",
    "bler_std = {}\n",
    "bler_metrics = {} # To compare which model is better using L2\n",
    "bler_bestidx = {}\n",
    "bler_maxidx = {}"
   ]
  },
  {
   "cell_type": "markdown",
   "metadata": {},
   "source": [
    "Plot the results from all model"
   ]
  },
  {
   "cell_type": "code",
   "execution_count": 61,
   "metadata": {},
   "outputs": [
    {
     "data": {
      "image/png": "[encoded data removed]",
      "text/plain": [
       "<Figure size 432x288 with 1 Axes>"
      ]
     },
     "metadata": {
      "needs_background": "light"
     },
     "output_type": "display_data"
    }
   ],
   "source": [
    "for (model,summary_file) in model_summary.items():\n",
    "    plt.figure()\n",
    "    summary_data = {}\n",
    "    # Load file\n",
    "    with open(summary_file, \"rb\") as file:\n",
    "        summary_data = dill.load(file)\n",
    "    # Plot each summary\n",
    "    for (modelid,(sym_pow,bler)) in summary_data.items():\n",
    "        plt.semilogy(SNR_range_dB, bler)\n",
    "    plt.title(model)\n",
    "    plt.grid()\n",
    "    # Compute metrics\n",
    "    const_pow[model] = np.array([p for (p,_) in summary_data.values()])\n",
    "    bler_values[model] = np.array([b for (_,b) in summary_data.values()])\n",
    "    bler_mean[model] = np.mean(bler_values[model], axis=0)\n",
    "    bler_std[model] = np.std(bler_values[model], axis=0)\n",
    "    bler_metrics[model] = np.linalg.norm(bler_values[model], axis=1)\n",
    "    bler_bestidx[model] = np.argmin(bler_metrics[model])\n",
    "    bler_maxidx[model] = np.argmax(bler_metrics[model])"
   ]
  },
  {
   "cell_type": "code",
   "execution_count": 63,
   "metadata": {},
   "outputs": [
    {
     "data": {
      "image/png": "[encoded data removed]",
      "text/plain": [
       "<Figure size 432x324 with 1 Axes>"
      ]
     },
     "metadata": {
      "needs_background": "light"
     },
     "output_type": "display_data"
    }
   ],
   "source": [
    "colors = cycle(['b', 'g', 'c', 'r', 'm', 'y'])\n",
    "fig = plt.figure(figsize=(4*1.5,3*1.5))\n",
    "for (l,bler) in results.items():\n",
    "    plt.semilogy(SNR_range_dB, bler, label=l, color=next(colors), linestyle=\"-.\")\n",
    "for model in model_summary.keys():\n",
    "    clr = next(colors)\n",
    "    plt.fill_between(SNR_range_dB, bler_mean[model]+bler_std[model], bler_mean[model]-bler_std[model], alpha=0.1, color=clr)\n",
    "    plt.semilogy(SNR_range_dB, bler_mean[model], label=model, \n",
    "                 color=clr, linewidth=2, linestyle=\":\" if \"Oshea\" in model or \"[1]\" in model else \"-\")\n",
    "plt.legend(loc=\"lower left\", prop={'size':14})\n",
    "plt.grid()\n",
    "plt.title(\"Avg. observed BLER\", fontdict={'fontsize':18})\n",
    "plt.xlabel(\"SNR ($dB$)\", fontdict={'fontsize':16})\n",
    "plt.ylabel(\"BLER\", fontdict={'fontsize':16})\n",
    "plt.ylim((1e-3,1e0))\n",
    "# plt.savefig(\"output_lap_avg_bler_{:02d}x{:02d}.png\".format(blkSize,chDim), format='png', bbox_inches='tight')\n",
    "robinhood(fig, \"output_lap_avg_bler_{:02d}x{:02d}.csv\".format(blkSize,chDim), col_dtype=[int, float])"
   ]
  },
  {
   "cell_type": "code",
   "execution_count": 64,
   "metadata": {},
   "outputs": [
    {
     "data": {
      "image/png": "[encoded data removed]",
      "text/plain": [
       "<Figure size 432x324 with 1 Axes>"
      ]
     },
     "metadata": {
      "needs_background": "light"
     },
     "output_type": "display_data"
    }
   ],
   "source": [
    "colors = cycle(['b', 'g', 'c', 'r', 'm', 'y'])\n",
    "fig = plt.figure(figsize=(4*1.5,3*1.5))\n",
    "# plt.figure(figsize=(8*1.5,6*1.5))\n",
    "for (l,bler) in results.items():\n",
    "    plt.semilogy(SNR_range_dB, bler, label=l, color=next(colors), linestyle=\"-.\")\n",
    "for model in model_summary.keys():\n",
    "    clr = next(colors)\n",
    "    plt.semilogy(SNR_range_dB, bler_values[model][bler_bestidx[model]], \n",
    "                 label=model, color=clr, linewidth=2,\n",
    "                 linestyle=\":\" if \"Oshea\" in model or \"[1]\" in model else \"-\")\n",
    "plt.legend(loc=\"lower left\", prop={'size':14})\n",
    "plt.grid()\n",
    "# plt.title(\"Best observed BLER of trained models\", fontdict={'fontsize':18})\n",
    "plt.xlabel(\"SNR ($dB$)\", fontdict={'fontsize':16})\n",
    "plt.ylabel(\"BLER\", fontdict={'fontsize':16})\n",
    "plt.ylim((1e-3,1e0))\n",
    "plt.savefig(\"output_lap_best_bler_{:02d}x{:02d}.pdf\".format(blkSize,chDim), format='pdf', bbox_inches='tight')\n",
    "# plt.savefig(\"output_awgn_best_bler_{:02d}x{:02d}.eps\".format(blkSize,chDim), format='eps', bbox_inches='tight')\n",
    "# plt.savefig(\"output_lap_best_bler_{:02d}x{:02d}.png\".format(blkSize,chDim), format='png', bbox_inches='tight')\n",
    "robinhood(fig, \"output_lap_best_bler_{:02d}x{:02d}.csv\".format(blkSize,chDim), col_dtype=[int, float])"
   ]
  },
  {
   "cell_type": "markdown",
   "metadata": {},
   "source": [
    "Plot Constellation avg. pow"
   ]
  },
  {
   "cell_type": "code",
   "execution_count": 65,
   "metadata": {},
   "outputs": [
    {
     "name": "stderr",
     "output_type": "stream",
     "text": [
      "No handles with labels found to put in legend.\n"
     ]
    },
    {
     "data": {
      "text/plain": [
       "Text(0.5, 0, 'Train SNR (dB)')"
      ]
     },
     "execution_count": 65,
     "metadata": {},
     "output_type": "execute_result"
    },
    {
     "data": {
      "image/png": "[encoded data removed]",
      "text/plain": [
       "<Figure size 648x864 with 3 Axes>"
      ]
     },
     "metadata": {
      "needs_background": "light"
     },
     "output_type": "display_data"
    }
   ],
   "source": [
    "import re\n",
    "colors = cycle(['b', 'g', 'r', 'c', 'm', 'y'])\n",
    "fig, ax = plt.subplots(3, figsize=(9,12))\n",
    "for (model,txpow) in const_pow.items():\n",
    "    clr = next(colors)\n",
    "    if \"with\" in model:  # Other models are trained at constant SNR, so have dB in their label\n",
    "#         n0 = float(re.findall(\"\\d+\\.\\d+\",model)[0])\n",
    "        n0 = 0.8\n",
    "        train_snr = 10.0 * np.log10(txpow/n0)\n",
    "        ax[0].hist( txpow, label=model, color=clr, bins=10 )\n",
    "        ax[1].hist( train_snr, label=model, color=clr, bins=10 )\n",
    "        ax[2].hist( train_snr, label=model, color=clr, bins=100, cumulative=True, histtype=\"step\")\n",
    "ax[0].legend(loc=\"upper left\", prop={'size':14})\n",
    "\n",
    "ax[1].set_xlim(left=0)\n",
    "ax[2].set_xlim(left=0)\n",
    "for _ax in ax:\n",
    "    _ax.grid()\n",
    "ax[0].set_xlabel(\"Avg Sym Power\")\n",
    "ax[1].set_xlabel(\"Train SNR (dB)\")\n",
    "ax[2].set_xlabel(\"Train SNR (dB)\")"
   ]
  },
  {
   "cell_type": "code",
   "execution_count": null,
   "metadata": {},
   "outputs": [],
   "source": []
  },
  {
   "cell_type": "code",
   "execution_count": null,
   "metadata": {},
   "outputs": [],
   "source": []
  }
 ],
 "metadata": {
  "kernelspec": {
   "display_name": "Python 3",
   "language": "python",
   "name": "python3"
  },
  "language_info": {
   "codemirror_mode": {
    "name": "ipython",
    "version": 3
   },
   "file_extension": ".py",
   "mimetype": "text/x-python",
   "name": "python",
   "nbconvert_exporter": "python",
   "pygments_lexer": "ipython3",
   "version": "3.7.3"
  }
 },
 "nbformat": 4,
 "nbformat_minor": 4
}
